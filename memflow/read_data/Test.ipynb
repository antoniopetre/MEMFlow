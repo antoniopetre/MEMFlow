{
 "cells": [
  {
   "cell_type": "code",
   "execution_count": 1,
   "metadata": {},
   "outputs": [],
   "source": [
    "import hist\n",
    "from pprint import pprint\n",
    "import matplotlib.pyplot as plt\n",
    "from matplotlib.colors import LogNorm\n",
    "import mplhep as hep\n",
    "from coffea.util import load\n",
    "import numpy as np\n",
    "import pandas as pd\n",
    "import awkward as ak\n",
    "from coffea.nanoevents import NanoEventsFactory, NanoAODSchema\n",
    "from numba import njit\n",
    "import vector\n",
    "import numba as nb\n",
    "import numpy.ma as ma\n",
    "from torch.utils.data import DataLoader\n",
    "\n",
    "vector.register_numba()\n",
    "vector.register_awkward()\n",
    "\n",
    "\n",
    "hep.style.use(hep.style.ROOT)\n",
    "\n",
    "from Dataset_Parton_Level import Dataset_PartonLevel\n",
    "from Dataset_Reco_Level import Dataset_RecoLevel\n",
    "from utils import Test"
   ]
  },
  {
   "cell_type": "code",
   "execution_count": 2,
   "metadata": {},
   "outputs": [
    {
     "name": "stdout",
     "output_type": "stream",
     "text": [
      "partons file already exists\n",
      "boost file already exists\n"
     ]
    }
   ],
   "source": [
    "data_for_dataloader_Parton = Dataset_PartonLevel(\"../../../dataset_1/only_v6/\")\n",
    "batch_size = 64\n",
    "\n",
    "data_loaded_Parton = DataLoader(data_for_dataloader_Parton, batch_size=batch_size, shuffle=False, drop_last=True)\n",
    " \n",
    "mask_partons, data_partons, mask_boost, data_boost = next(iter(data_loaded_Parton))"
   ]
  },
  {
   "cell_type": "code",
   "execution_count": 3,
   "metadata": {},
   "outputs": [
    {
     "name": "stdout",
     "output_type": "stream",
     "text": [
      "JETS\n",
      "tensor([-186.7012,  -68.7065,  -51.9279,    7.1067,   56.8606,  -19.5074,\n",
      "         354.8214,  -97.8805,   36.9150,   53.1909,   43.3479, -266.9566,\n",
      "         168.0237,   92.5962,  -78.4739,  -86.7168, -132.5837,   84.2075,\n",
      "         277.3798,  -94.9388,   55.6818,   24.3812,   70.4366,   46.6720,\n",
      "          11.1896,  -95.9580,  -95.7507,  -87.4756,  -14.8707,   17.4252,\n",
      "        -106.1071,   10.1335,   38.3810,   -2.5101,  -91.3854,  140.8780,\n",
      "          -3.7814,   -2.7645,  -22.5009,   17.8674,  -24.4005,  -32.6048,\n",
      "          87.1003,  -75.2837,  -14.8676,   87.7425, -213.1281, -173.3187,\n",
      "          30.8366,  -77.1889,  134.5841,  -24.4011, -229.2764,   12.4415,\n",
      "         -83.6928, -154.9933,  218.8985,  -10.0484,   80.8724,  -95.4974,\n",
      "         -41.0300,  166.8230,   -9.9226,   14.9297], dtype=torch.float32)\n"
     ]
    }
   ],
   "source": [
    "test = Test()\n",
    "\n",
    "px_partons = test.check_px_py((data_partons, data_boost))\n",
    "\n",
    "print(px_partons)"
   ]
  },
  {
   "cell_type": "code",
   "execution_count": 4,
   "metadata": {},
   "outputs": [
    {
     "name": "stdout",
     "output_type": "stream",
     "text": [
      "File missing: compute boost\n",
      "Create new file for jets\n",
      "Create new file for lepton_reco\n",
      "Create new file for met\n",
      "Create new file for boost\n"
     ]
    }
   ],
   "source": [
    "data_for_dataloader_Reco = Dataset_RecoLevel(\"../../../dataset_1/only_v6/\")\n",
    "batch_size = 64\n",
    "\n",
    "data_loaded_Reco = DataLoader(data_for_dataloader_Reco, batch_size=batch_size, shuffle=False, drop_last=True)\n",
    " \n",
    "mask_lepton, data_lepton, mask_jets, data_jets, mask_met, data_met, mask_boost, data_boost = next(iter(data_loaded_Reco))"
   ]
  },
  {
   "cell_type": "code",
   "execution_count": 7,
   "metadata": {},
   "outputs": [
    {
     "name": "stdout",
     "output_type": "stream",
     "text": [
      "tensor([ 3.8147e-06, -4.7684e-06,  9.5367e-07,  0.0000e+00,  7.6294e-06,\n",
      "         1.3351e-05,  0.0000e+00,  0.0000e+00,  2.2888e-05, -1.1444e-05,\n",
      "        -2.2888e-05, -7.6294e-06,  1.9073e-06, -1.1444e-05,  0.0000e+00,\n",
      "        -1.1444e-05,  1.9073e-05,  7.6294e-06,  7.6294e-06, -6.6757e-06,\n",
      "        -3.8147e-06,  1.5259e-05, -2.8610e-05,  3.8147e-06,  1.9073e-06,\n",
      "        -9.5367e-07, -7.6294e-06, -1.5259e-05, -1.1444e-05,  7.6294e-06,\n",
      "         1.0490e-05, -3.8147e-06, -1.1444e-05,  9.5367e-07, -1.5259e-05,\n",
      "        -1.9073e-05,  0.0000e+00,  1.9073e-05, -1.5259e-05, -3.0518e-05,\n",
      "        -4.6492e-06,  1.1444e-05, -1.7166e-05,  3.0518e-05, -7.6294e-06,\n",
      "         1.7166e-05, -2.2888e-05, -8.5831e-06,  2.2888e-05, -4.7684e-06,\n",
      "         7.6294e-06,  7.6294e-06,  1.9073e-06, -1.1176e-05, -1.3828e-05,\n",
      "         1.1444e-05,  2.2888e-05,  3.5763e-06,  2.4796e-05,  3.0518e-05,\n",
      "        -1.9073e-06,  0.0000e+00, -3.4332e-05,  1.5259e-05],\n",
      "       dtype=torch.float32)\n"
     ]
    }
   ],
   "source": [
    "test = Test()\n",
    "\n",
    "px_reco, py_reco = test.check_px_py((data_lepton, data_jets, data_met))\n",
    "pz_reco = test.check_pz((data_jets, data_lepton, data_met))\n",
    "\n",
    "print(px_reco)"
   ]
  },
  {
   "cell_type": "code",
   "execution_count": null,
   "metadata": {},
   "outputs": [],
   "source": []
  }
 ],
 "metadata": {
  "kernelspec": {
   "display_name": "base",
   "language": "python",
   "name": "python3"
  },
  "language_info": {
   "codemirror_mode": {
    "name": "ipython",
    "version": 3
   },
   "file_extension": ".py",
   "mimetype": "text/x-python",
   "name": "python",
   "nbconvert_exporter": "python",
   "pygments_lexer": "ipython3",
   "version": "3.9.13"
  },
  "orig_nbformat": 4
 },
 "nbformat": 4,
 "nbformat_minor": 2
}
