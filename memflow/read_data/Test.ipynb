{
 "cells": [
  {
   "cell_type": "code",
   "execution_count": 1,
   "metadata": {},
   "outputs": [],
   "source": [
    "import hist\n",
    "import torch\n",
    "from pprint import pprint\n",
    "import matplotlib.pyplot as plt\n",
    "from matplotlib.colors import LogNorm\n",
    "import mplhep as hep\n",
    "from coffea.util import load\n",
    "import numpy as np\n",
    "import pandas as pd\n",
    "import awkward as ak\n",
    "from coffea.nanoevents import NanoEventsFactory, NanoAODSchema\n",
    "from numba import njit\n",
    "import vector\n",
    "import numba as nb\n",
    "import numpy.ma as ma\n",
    "from torch.utils.data import DataLoader\n",
    "\n",
    "vector.register_numba()\n",
    "vector.register_awkward()\n",
    "\n",
    "\n",
    "hep.style.use(hep.style.ROOT)\n",
    "\n",
    "from Dataset_Parton_Level import Dataset_PartonLevel\n",
    "from Dataset_Reco_Level import Dataset_RecoLevel\n",
    "from utils import Test"
   ]
  },
  {
   "cell_type": "code",
   "execution_count": 6,
   "metadata": {},
   "outputs": [
    {
     "name": "stdout",
     "output_type": "stream",
     "text": [
      "File missing: compute boost\n",
      "Create new file for partons\n",
      "Create new file for lepton_partons\n",
      "Create new file for boost\n"
     ]
    }
   ],
   "source": [
    "data_for_dataloader_Parton = Dataset_PartonLevel(\"../../../dataset_1/only_v6/\")\n",
    "batch_size = 64\n",
    "\n",
    "data_loaded_Parton = DataLoader(data_for_dataloader_Parton, batch_size=batch_size, shuffle=False, drop_last=True)\n",
    " \n",
    "mask_partons, data_partons, mask_lepton_partons, data_lepton_partons, mask_boost, data_boost = next(iter(data_loaded_Parton))"
   ]
  },
  {
   "cell_type": "code",
   "execution_count": 10,
   "metadata": {},
   "outputs": [
    {
     "name": "stdout",
     "output_type": "stream",
     "text": [
      "tensor([ -0.1167,   2.7077,  -5.8169,  17.1790,  -0.8875,  -0.1729,   0.3554,\n",
      "          2.8459,   1.8927,   1.2808,  -0.4727,  40.1685,   0.8292,  -1.8521,\n",
      "        -10.0305,   0.6239,  -0.6261,  -1.0523,   2.1003,  16.1530,   3.6883,\n",
      "         -0.0824,  -4.6873,  -6.7571,   0.0997,   0.2705,  -3.7810,  14.5526,\n",
      "         -2.1506,   0.2523,  -0.4571,  -0.3785, -16.7779,  -1.8334,  -0.2251,\n",
      "          6.3581,   3.4798,   2.5588,  22.1320,   9.6861,  -0.1654,   0.4677,\n",
      "         -2.0928, -14.6870,   1.6553,  -0.5440,   3.0676,   1.0763,  -1.8243,\n",
      "         -1.0395,  -0.1955,   1.5554,   4.3612,  -4.8770,   1.7453,  -2.6324,\n",
      "          3.4994,   1.0476,   1.9178,   1.6554,   2.0294,  -5.6907,   2.0966,\n",
      "         -4.5902], dtype=torch.float32)\n"
     ]
    }
   ],
   "source": [
    "test = Test()\n",
    "\n",
    "px_reco, py_reco = test.check_px_py((data_partons, data_lepton_partons))\n",
    "pz_reco = test.check_pz((data_partons, data_lepton_partons))\n",
    "\n",
    "print(pz_reco)\n",
    "\n",
    "## MOMENTAN NU MERGE PTC NU AM RESTU ADICA: lepton + neuutrino"
   ]
  },
  {
   "cell_type": "code",
   "execution_count": 17,
   "metadata": {},
   "outputs": [
    {
     "name": "stdout",
     "output_type": "stream",
     "text": [
      "[[803], [1.86e+03], [-673], [372], [715, ... [-1.41e+03], [-842], [-802], [515]]\n"
     ]
    }
   ],
   "source": [
    "higgs = data_for_dataloader_Parton.get_Higgs()\n",
    "top_hadronic = data_for_dataloader_Parton.get_top_hadronic()\n",
    "top_leptonic = data_for_dataloader_Parton.get_top_leptonic()\n",
    "\n",
    "sum_all = higgs + top_hadronic + top_leptonic\n",
    "\n",
    "print(sum_all.pz)\n",
    "\n",
    "# strange it should be the same result as above"
   ]
  },
  {
   "cell_type": "code",
   "execution_count": 4,
   "metadata": {},
   "outputs": [
    {
     "name": "stdout",
     "output_type": "stream",
     "text": [
      "File missing: compute boost\n",
      "Create new file for jets\n",
      "Create new file for lepton_reco\n",
      "Create new file for met\n",
      "Create new file for boost\n"
     ]
    }
   ],
   "source": [
    "data_for_dataloader_Reco = Dataset_RecoLevel(\"../../../dataset_1/only_v6/\")\n",
    "batch_size = 64\n",
    "\n",
    "data_loaded_Reco = DataLoader(data_for_dataloader_Reco, batch_size=batch_size, shuffle=False, drop_last=True)\n",
    " \n",
    "mask_lepton, data_lepton, mask_jets, data_jets, mask_met, data_met, mask_boost, data_boost = next(iter(data_loaded_Reco))"
   ]
  },
  {
   "cell_type": "code",
   "execution_count": 7,
   "metadata": {},
   "outputs": [
    {
     "name": "stdout",
     "output_type": "stream",
     "text": [
      "tensor([ 3.8147e-06, -4.7684e-06,  9.5367e-07,  0.0000e+00,  7.6294e-06,\n",
      "         1.3351e-05,  0.0000e+00,  0.0000e+00,  2.2888e-05, -1.1444e-05,\n",
      "        -2.2888e-05, -7.6294e-06,  1.9073e-06, -1.1444e-05,  0.0000e+00,\n",
      "        -1.1444e-05,  1.9073e-05,  7.6294e-06,  7.6294e-06, -6.6757e-06,\n",
      "        -3.8147e-06,  1.5259e-05, -2.8610e-05,  3.8147e-06,  1.9073e-06,\n",
      "        -9.5367e-07, -7.6294e-06, -1.5259e-05, -1.1444e-05,  7.6294e-06,\n",
      "         1.0490e-05, -3.8147e-06, -1.1444e-05,  9.5367e-07, -1.5259e-05,\n",
      "        -1.9073e-05,  0.0000e+00,  1.9073e-05, -1.5259e-05, -3.0518e-05,\n",
      "        -4.6492e-06,  1.1444e-05, -1.7166e-05,  3.0518e-05, -7.6294e-06,\n",
      "         1.7166e-05, -2.2888e-05, -8.5831e-06,  2.2888e-05, -4.7684e-06,\n",
      "         7.6294e-06,  7.6294e-06,  1.9073e-06, -1.1176e-05, -1.3828e-05,\n",
      "         1.1444e-05,  2.2888e-05,  3.5763e-06,  2.4796e-05,  3.0518e-05,\n",
      "        -1.9073e-06,  0.0000e+00, -3.4332e-05,  1.5259e-05],\n",
      "       dtype=torch.float32)\n"
     ]
    }
   ],
   "source": [
    "test = Test()\n",
    "\n",
    "px_reco, py_reco = test.check_px_py((data_lepton, data_jets, data_met))\n",
    "pz_reco = test.check_pz((data_jets, data_lepton, data_met))\n",
    "\n",
    "print(px_reco)"
   ]
  },
  {
   "cell_type": "code",
   "execution_count": null,
   "metadata": {},
   "outputs": [],
   "source": []
  }
 ],
 "metadata": {
  "kernelspec": {
   "display_name": "base",
   "language": "python",
   "name": "python3"
  },
  "language_info": {
   "codemirror_mode": {
    "name": "ipython",
    "version": 3
   },
   "file_extension": ".py",
   "mimetype": "text/x-python",
   "name": "python",
   "nbconvert_exporter": "python",
   "pygments_lexer": "ipython3",
   "version": "3.9.13"
  },
  "orig_nbformat": 4
 },
 "nbformat": 4,
 "nbformat_minor": 2
}
