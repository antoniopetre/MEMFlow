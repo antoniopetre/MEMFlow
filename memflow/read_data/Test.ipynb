{
 "cells": [
  {
   "cell_type": "code",
   "execution_count": 1,
   "metadata": {},
   "outputs": [],
   "source": [
    "import utils\n",
    "import torch\n",
    "from pprint import pprint\n",
    "import matplotlib.pyplot as plt\n",
    "from matplotlib.colors import LogNorm\n",
    "import mplhep as hep\n",
    "from coffea.util import load\n",
    "import numpy as np\n",
    "import pandas as pd\n",
    "import awkward as ak\n",
    "from coffea.nanoevents import NanoEventsFactory, NanoAODSchema\n",
    "from numba import njit\n",
    "import vector\n",
    "import numba as nb\n",
    "import numpy.ma as ma\n",
    "from torch.utils.data import DataLoader\n",
    "\n",
    "vector.register_numba()\n",
    "vector.register_awkward()\n",
    "\n",
    "\n",
    "hep.style.use(hep.style.ROOT)\n",
    "\n",
    "from Dataset_Parton_Level import Dataset_PartonLevel\n",
    "from Dataset_Reco_Level import Dataset_RecoLevel\n",
    "from utils import Test"
   ]
  },
  {
   "cell_type": "code",
   "execution_count": 2,
   "metadata": {},
   "outputs": [],
   "source": [
    "data_for_dataloader_Parton = Dataset_PartonLevel(\"../../../dataset_1/only_v6/\")\n",
    "batch_size = 64\n",
    "\n",
    "data_loaded_Parton = DataLoader(data_for_dataloader_Parton, batch_size=batch_size, shuffle=False, drop_last=True)\n",
    " \n",
    "mask_partons, data_partons, mask_lepton_partons, data_lepton_partons, mask_boost, data_boost, data_intermediate, data_intermediate_cartesian = next(iter(data_loaded_Parton))"
   ]
  },
  {
   "cell_type": "code",
   "execution_count": 25,
   "metadata": {},
   "outputs": [
    {
     "name": "stdout",
     "output_type": "stream",
     "text": [
      "tensor([  0.2143,  -1.1946,   5.4254,  -8.9627,  -2.1405,  -1.1648,  -0.2309,\n",
      "         -7.7747,  -0.3425,   8.9211,  -3.0507,  10.4014,  -1.4666,  -9.4703,\n",
      "         -2.2471,  -0.6820,   1.1333,  -0.2550,  -5.4682,  -0.9206,  18.3314,\n",
      "         -2.7474,  -5.2308,   8.5098,   1.0489,  11.8814,   3.1727,  -1.3099,\n",
      "          0.9343,   4.9917,  -0.9395,  -8.5719,  -4.9361,  -5.3369,  -1.1443,\n",
      "          8.2595,   5.3711,  -3.6933,  11.9946,   5.0625,  14.9844,  -2.7412,\n",
      "         -1.2384,  -1.9179,   0.9550,   0.5223,  -2.5363,  -3.4263,   6.0242,\n",
      "          0.3880,   2.1137,  -0.5204,   3.9816, -15.1647,   3.3089, -16.2008,\n",
      "        -17.4006, -16.2257,  -6.4890,  -2.5146,   4.5341,  12.6313,  -5.9611,\n",
      "          1.3300], dtype=torch.float32)\n"
     ]
    }
   ],
   "source": [
    "test = Test()\n",
    "\n",
    "px_reco, py_reco = test.check_px_py((data_partons, data_lepton_partons))\n",
    "pz_reco = test.check_pz((data_partons, data_lepton_partons))\n",
    "\n",
    "print(px_reco)\n"
   ]
  },
  {
   "cell_type": "code",
   "execution_count": 27,
   "metadata": {},
   "outputs": [
    {
     "ename": "ValueError",
     "evalue": "key \"px\" does not exist (not in record)\n\n(https://github.com/scikit-hep/awkward-1.0/blob/1.10.3/src/libawkward/util.cpp#L525)",
     "output_type": "error",
     "traceback": [
      "\u001b[0;31m---------------------------------------------------------------------------\u001b[0m",
      "\u001b[0;31mValueError\u001b[0m                                Traceback (most recent call last)",
      "\u001b[0;32m/var/folders/9c/j6v7ykys3gx9pflm9phswpmw0000gn/T/ipykernel_47973/845699404.py\u001b[0m in \u001b[0;36m<module>\u001b[0;34m\u001b[0m\n\u001b[1;32m      1\u001b[0m \u001b[0mhiggs\u001b[0m \u001b[0;34m=\u001b[0m \u001b[0mdata_for_dataloader_Parton\u001b[0m\u001b[0;34m.\u001b[0m\u001b[0mget_Higgs\u001b[0m\u001b[0;34m(\u001b[0m\u001b[0;34m)\u001b[0m\u001b[0;34m\u001b[0m\u001b[0;34m\u001b[0m\u001b[0m\n\u001b[1;32m      2\u001b[0m \u001b[0;34m\u001b[0m\u001b[0m\n\u001b[0;32m----> 3\u001b[0;31m \u001b[0mprint\u001b[0m\u001b[0;34m(\u001b[0m\u001b[0mhiggs\u001b[0m\u001b[0;34m[\u001b[0m\u001b[0;34m\"px\"\u001b[0m\u001b[0;34m]\u001b[0m\u001b[0;34m)\u001b[0m\u001b[0;34m\u001b[0m\u001b[0;34m\u001b[0m\u001b[0m\n\u001b[0m",
      "\u001b[0;32m~/anaconda3/lib/python3.9/site-packages/awkward/highlevel.py\u001b[0m in \u001b[0;36m__getitem__\u001b[0;34m(self, where)\u001b[0m\n\u001b[1;32m    989\u001b[0m         \"\"\"\n\u001b[1;32m    990\u001b[0m         \u001b[0;32mif\u001b[0m \u001b[0;32mnot\u001b[0m \u001b[0mhasattr\u001b[0m\u001b[0;34m(\u001b[0m\u001b[0mself\u001b[0m\u001b[0;34m,\u001b[0m \u001b[0;34m\"_tracers\"\u001b[0m\u001b[0;34m)\u001b[0m\u001b[0;34m:\u001b[0m\u001b[0;34m\u001b[0m\u001b[0;34m\u001b[0m\u001b[0m\n\u001b[0;32m--> 991\u001b[0;31m             \u001b[0mtmp\u001b[0m \u001b[0;34m=\u001b[0m \u001b[0mak\u001b[0m\u001b[0;34m.\u001b[0m\u001b[0m_util\u001b[0m\u001b[0;34m.\u001b[0m\u001b[0mwrap\u001b[0m\u001b[0;34m(\u001b[0m\u001b[0mself\u001b[0m\u001b[0;34m.\u001b[0m\u001b[0mlayout\u001b[0m\u001b[0;34m[\u001b[0m\u001b[0mwhere\u001b[0m\u001b[0;34m]\u001b[0m\u001b[0;34m,\u001b[0m \u001b[0mself\u001b[0m\u001b[0;34m.\u001b[0m\u001b[0m_behavior\u001b[0m\u001b[0;34m)\u001b[0m\u001b[0;34m\u001b[0m\u001b[0;34m\u001b[0m\u001b[0m\n\u001b[0m\u001b[1;32m    992\u001b[0m         \u001b[0;32melse\u001b[0m\u001b[0;34m:\u001b[0m\u001b[0;34m\u001b[0m\u001b[0;34m\u001b[0m\u001b[0m\n\u001b[1;32m    993\u001b[0m             \u001b[0mtmp\u001b[0m \u001b[0;34m=\u001b[0m \u001b[0mak\u001b[0m\u001b[0;34m.\u001b[0m\u001b[0m_connect\u001b[0m\u001b[0;34m.\u001b[0m\u001b[0m_jax\u001b[0m\u001b[0;34m.\u001b[0m\u001b[0mjax_utils\u001b[0m\u001b[0;34m.\u001b[0m\u001b[0m_jaxtracers_getitem\u001b[0m\u001b[0;34m(\u001b[0m\u001b[0mself\u001b[0m\u001b[0;34m,\u001b[0m \u001b[0mwhere\u001b[0m\u001b[0;34m)\u001b[0m\u001b[0;34m\u001b[0m\u001b[0;34m\u001b[0m\u001b[0m\n",
      "\u001b[0;31mValueError\u001b[0m: key \"px\" does not exist (not in record)\n\n(https://github.com/scikit-hep/awkward-1.0/blob/1.10.3/src/libawkward/util.cpp#L525)"
     ]
    }
   ],
   "source": [
    "higgs = data_for_dataloader_Parton.get_Higgs()\n",
    "\n",
    "print(higgs[\"px\"])"
   ]
  },
  {
   "cell_type": "code",
   "execution_count": 19,
   "metadata": {},
   "outputs": [
    {
     "name": "stdout",
     "output_type": "stream",
     "text": [
      "torch.Size([64, 3, 4])\n",
      "tensor([ -28.0865,   12.6975,  -24.4900, -351.6441,    2.2500,  -37.9033,\n",
      "          -5.2884,  -30.3021,    0.7989,   60.3360,    5.3218, -203.1643,\n",
      "           7.0983,   41.1508,  -60.2815,  -17.0660,  -15.7414,  -48.2039,\n",
      "          31.2225,    4.0679,   26.2130,  -24.8902,    0.6917,  -38.1038,\n",
      "           7.3298,  -11.1296,   10.1669, -127.5644,   -0.4506,   65.6573,\n",
      "         -37.0534,  -10.4256,   42.9284,   11.7187,    5.1596,  -47.6983,\n",
      "          32.1057,   21.1514,  129.7833,   62.1552,  -70.4443,  -13.6559,\n",
      "        -213.2667, -110.6834,   -9.9286,   -1.0453,   17.3709,  -66.9061,\n",
      "          34.4568,   14.5547,   38.9792,    2.6593,  107.7902,  -50.4500,\n",
      "          -2.1179,   71.8173,   39.0152,  -85.9293,   56.4218,  -36.0594,\n",
      "          49.6203,   16.0213,  -28.2780,  -12.2764], dtype=torch.float32)\n"
     ]
    }
   ],
   "source": [
    "print(data_intermediate.shape)\n",
    "px_reco, py_reco = test.check_px_py((data_intermediate,))\n",
    "pz_reco = test.check_pz((data_intermediate,))\n",
    "\n",
    "print(px_reco)"
   ]
  },
  {
   "cell_type": "code",
   "execution_count": 20,
   "metadata": {},
   "outputs": [
    {
     "name": "stdout",
     "output_type": "stream",
     "text": [
      "jets file already exists\n",
      "lepton_reco file already exists\n",
      "met file already exists\n",
      "boost file already exists\n"
     ]
    }
   ],
   "source": [
    "data_for_dataloader_Reco = Dataset_RecoLevel(\"../../../dataset_1/only_v6/\")\n",
    "batch_size = 64\n",
    "\n",
    "data_loaded_Reco = DataLoader(data_for_dataloader_Reco, batch_size=batch_size, shuffle=False, drop_last=True)\n",
    " \n",
    "mask_lepton, data_lepton, mask_jets, data_jets, mask_met, data_met, mask_boost, data_boost = next(iter(data_loaded_Reco))"
   ]
  },
  {
   "cell_type": "code",
   "execution_count": 21,
   "metadata": {},
   "outputs": [
    {
     "name": "stdout",
     "output_type": "stream",
     "text": [
      "tensor([ 3.8147e-06, -4.7684e-06,  9.5367e-07,  0.0000e+00,  7.6294e-06,\n",
      "         1.3351e-05,  0.0000e+00,  0.0000e+00,  2.2888e-05, -1.1444e-05,\n",
      "        -2.2888e-05, -7.6294e-06,  1.9073e-06, -1.1444e-05,  0.0000e+00,\n",
      "        -1.1444e-05,  1.9073e-05,  7.6294e-06,  7.6294e-06, -6.6757e-06,\n",
      "        -3.8147e-06,  1.5259e-05, -2.8610e-05,  3.8147e-06,  1.9073e-06,\n",
      "        -9.5367e-07, -7.6294e-06, -1.5259e-05, -1.1444e-05,  7.6294e-06,\n",
      "         1.0490e-05, -3.8147e-06, -1.1444e-05,  9.5367e-07, -1.5259e-05,\n",
      "        -1.9073e-05,  0.0000e+00,  1.9073e-05, -1.5259e-05, -3.0518e-05,\n",
      "        -4.6492e-06,  1.1444e-05, -1.7166e-05,  3.0518e-05, -7.6294e-06,\n",
      "         1.7166e-05, -2.2888e-05, -8.5831e-06,  2.2888e-05, -4.7684e-06,\n",
      "         7.6294e-06,  7.6294e-06,  1.9073e-06, -1.1176e-05, -1.3828e-05,\n",
      "         1.1444e-05,  2.2888e-05,  3.5763e-06,  2.4796e-05,  3.0518e-05,\n",
      "        -1.9073e-06,  0.0000e+00, -3.4332e-05,  1.5259e-05],\n",
      "       dtype=torch.float32)\n"
     ]
    }
   ],
   "source": [
    "test = Test()\n",
    "\n",
    "px_reco, py_reco = test.check_px_py((data_lepton, data_jets, data_met))\n",
    "pz_reco = test.check_pz((data_jets, data_lepton, data_met))\n",
    "\n",
    "print(px_reco)"
   ]
  },
  {
   "cell_type": "code",
   "execution_count": null,
   "metadata": {},
   "outputs": [],
   "source": []
  }
 ],
 "metadata": {
  "kernelspec": {
   "display_name": "base",
   "language": "python",
   "name": "python3"
  },
  "language_info": {
   "codemirror_mode": {
    "name": "ipython",
    "version": 3
   },
   "file_extension": ".py",
   "mimetype": "text/x-python",
   "name": "python",
   "nbconvert_exporter": "python",
   "pygments_lexer": "ipython3",
   "version": "3.9.13"
  },
  "orig_nbformat": 4
 },
 "nbformat": 4,
 "nbformat_minor": 2
}
