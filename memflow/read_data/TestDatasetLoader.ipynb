{
 "cells": [
  {
   "cell_type": "code",
   "execution_count": 1,
   "metadata": {},
   "outputs": [
    {
     "name": "stderr",
     "output_type": "stream",
     "text": [
      "2023-03-24 15:53:15.450602: I tensorflow/core/platform/cpu_feature_guard.cc:193] This TensorFlow binary is optimized with oneAPI Deep Neural Network Library (oneDNN) to use the following CPU instructions in performance-critical operations:  AVX2 FMA\n",
      "To enable them in other operations, rebuild TensorFlow with the appropriate compiler flags.\n",
      "2023-03-24 15:53:16.786851: W tensorflow/compiler/xla/stream_executor/platform/default/dso_loader.cc:64] Could not load dynamic library 'libnvinfer.so.7'; dlerror: libnvinfer.so.7: cannot open shared object file: No such file or directory; LD_LIBRARY_PATH: :/opt/LHAPDF/lib:/opt/MG5_aMC_v3_4_1/lib:/.singularity.d/libs\n",
      "2023-03-24 15:53:16.787055: W tensorflow/compiler/xla/stream_executor/platform/default/dso_loader.cc:64] Could not load dynamic library 'libnvinfer_plugin.so.7'; dlerror: libnvinfer_plugin.so.7: cannot open shared object file: No such file or directory; LD_LIBRARY_PATH: :/opt/LHAPDF/lib:/opt/MG5_aMC_v3_4_1/lib:/.singularity.d/libs\n",
      "2023-03-24 15:53:16.787126: W tensorflow/compiler/tf2tensorrt/utils/py_utils.cc:38] TF-TRT Warning: Cannot dlopen some TensorRT libraries. If you would like to use Nvidia GPU with TensorRT, please make sure the missing libraries mentioned above are installed properly.\n"
     ]
    }
   ],
   "source": [
    "import utils\n",
    "import torch\n",
    "from pprint import pprint\n",
    "import matplotlib.pyplot as plt\n",
    "from matplotlib.colors import LogNorm\n",
    "import mplhep as hep\n",
    "import numpy as np\n",
    "import pandas as pd\n",
    "import awkward as ak\n",
    "from numba import njit\n",
    "import vector\n",
    "import numba as nb\n",
    "import numpy.ma as ma\n",
    "from torch.utils.data import DataLoader\n",
    "\n",
    "vector.register_numba()\n",
    "vector.register_awkward()\n",
    "\n",
    "\n",
    "hep.style.use(hep.style.ROOT)\n",
    "\n",
    "from Dataset_Parton_Level import Dataset_PartonLevel\n",
    "from Dataset_Reco_Level import Dataset_RecoLevel\n",
    "from utils import Test"
   ]
  },
  {
   "cell_type": "code",
   "execution_count": 3,
   "metadata": {},
   "outputs": [
    {
     "name": "stdout",
     "output_type": "stream",
     "text": [
      "partons file already exists\n",
      "lepton_partons file already exists\n",
      "boost file already exists\n",
      "incoming_particles_boost file already exists\n",
      "H_thad_tlep file already exists\n",
      "H_thad_tlep_cartesian file already exists\n"
     ]
    }
   ],
   "source": [
    "data_for_dataloader_Parton = Dataset_PartonLevel(\"../../dataset/\")\n",
    "batch_size = 10000\n",
    "\n",
    "data_loaded_Parton = DataLoader(data_for_dataloader_Parton, batch_size=batch_size, shuffle=False, drop_last=True)\n",
    " \n",
    "(mask_partons, data_partons, \n",
    " mask_lepton_partons, data_lepton_partons, \n",
    " mask_boost, data_boost, \n",
    " mask_incomining_particles_boost, data_incomining_particles_boost,\n",
    " data_intermediate, data_intermediate_cartesian,\n",
    " data_ps) = next(iter(data_loaded_Parton))"
   ]
  },
  {
   "cell_type": "code",
   "execution_count": 4,
   "metadata": {},
   "outputs": [
    {
     "name": "stdout",
     "output_type": "stream",
     "text": [
      "tensor([ 32.0208, -16.2226,  42.8580,  ...,  27.9081,   2.0151,  11.8295],\n",
      "       dtype=torch.float32)\n"
     ]
    }
   ],
   "source": [
    "test = Test()\n",
    "\n",
    "px_reco, py_reco = test.check_px_py((data_partons, data_lepton_partons))\n",
    "pz_reco = test.check_pz((data_partons, data_lepton_partons))\n",
    "\n",
    "print(px_reco)\n"
   ]
  },
  {
   "cell_type": "code",
   "execution_count": 5,
   "metadata": {},
   "outputs": [
    {
     "name": "stdout",
     "output_type": "stream",
     "text": [
      "torch.Size([10000, 3, 4])\n",
      "tensor([ 0.7424, -0.2507, -0.3093,  ...,  7.6730,  0.1778, -0.5576],\n",
      "       dtype=torch.float32)\n",
      "tensor([ 1.8157, -0.3076,  1.4825,  ...,  2.5293,  0.0633,  0.1962],\n",
      "       dtype=torch.float32)\n",
      "tensor([-51.5856, -40.9970,  32.6227,  ...,  28.6000,  -4.6001,   3.6017],\n",
      "       dtype=torch.float32)\n"
     ]
    }
   ],
   "source": [
    "print(data_intermediate.shape)\n",
    "px_reco, py_reco = test.check_px_py((data_intermediate,))\n",
    "pz_reco = test.check_pz((data_intermediate,))\n",
    "\n",
    "print(py_reco)\n",
    "print(px_reco)\n",
    "print(pz_reco)"
   ]
  },
  {
   "cell_type": "code",
   "execution_count": 6,
   "metadata": {},
   "outputs": [],
   "source": [
    "tot_inter  = torch.sum(data_intermediate_cartesian, axis=1)"
   ]
  },
  {
   "cell_type": "code",
   "execution_count": 7,
   "metadata": {},
   "outputs": [
    {
     "data": {
      "text/plain": [
       "tensor([[ 5.3775e+02,  1.8157e+00,  7.4240e-01, -5.1586e+01],\n",
       "        [ 8.5429e+02, -3.0760e-01, -2.5070e-01, -4.0997e+01],\n",
       "        [ 6.6707e+02,  1.4825e+00, -3.0931e-01,  3.2623e+01],\n",
       "        ...,\n",
       "        [ 6.0569e+02,  2.5293e+00,  7.6730e+00,  2.8600e+01],\n",
       "        [ 1.7138e+03,  6.3332e-02,  1.7789e-01, -4.6000e+00],\n",
       "        [ 1.1198e+03,  1.9624e-01, -5.5761e-01,  3.6017e+00]],\n",
       "       dtype=torch.float32)"
      ]
     },
     "execution_count": 7,
     "metadata": {},
     "output_type": "execute_result"
    }
   ],
   "source": [
    "tot_inter"
   ]
  },
  {
   "cell_type": "code",
   "execution_count": 8,
   "metadata": {},
   "outputs": [],
   "source": [
    "mass_outcoming = tot_inter[:,0]**2 - tot_inter[:,1]**2 - tot_inter[:,2]**2- tot_inter[:,3]**2"
   ]
  },
  {
   "cell_type": "code",
   "execution_count": 9,
   "metadata": {},
   "outputs": [],
   "source": [
    "mass_incoming = data_incomining_particles_boost[:,0,0]**2 - data_incomining_particles_boost[:,0,3]**2"
   ]
  },
  {
   "cell_type": "code",
   "execution_count": 10,
   "metadata": {},
   "outputs": [
    {
     "data": {
      "image/png": "[encoded data removed]",
      "text/plain": [
       "<Figure size 1000x1000 with 1 Axes>"
      ]
     },
     "metadata": {},
     "output_type": "display_data"
    }
   ],
   "source": [
    "plt.hist(abs(mass_outcoming - mass_incoming), bins=100)\n",
    "plt.yscale(\"log\")"
   ]
  },
  {
   "cell_type": "code",
   "execution_count": null,
   "metadata": {},
   "outputs": [],
   "source": []
  },
  {
   "cell_type": "code",
   "execution_count": null,
   "metadata": {},
   "outputs": [],
   "source": [
    "boost_t(data_incomining_particles_boost, -boostVector_t(data_incomining_particles_boost.squeeze(1)))"
   ]
  },
  {
   "cell_type": "code",
   "execution_count": null,
   "metadata": {},
   "outputs": [],
   "source": []
  },
  {
   "cell_type": "code",
   "execution_count": 20,
   "metadata": {},
   "outputs": [
    {
     "name": "stdout",
     "output_type": "stream",
     "text": [
      "jets file already exists\n",
      "lepton_reco file already exists\n",
      "met file already exists\n",
      "boost file already exists\n"
     ]
    }
   ],
   "source": [
    "data_for_dataloader_Reco = Dataset_RecoLevel(\"../../../dataset_1/only_v6/\")\n",
    "batch_size = 64\n",
    "\n",
    "data_loaded_Reco = DataLoader(data_for_dataloader_Reco, batch_size=batch_size, shuffle=False, drop_last=True)\n",
    " \n",
    "mask_lepton, data_lepton, mask_jets, data_jets, mask_met, data_met, mask_boost, data_boost = next(iter(data_loaded_Reco))"
   ]
  },
  {
   "cell_type": "code",
   "execution_count": 21,
   "metadata": {},
   "outputs": [
    {
     "name": "stdout",
     "output_type": "stream",
     "text": [
      "tensor([ 3.8147e-06, -4.7684e-06,  9.5367e-07,  0.0000e+00,  7.6294e-06,\n",
      "         1.3351e-05,  0.0000e+00,  0.0000e+00,  2.2888e-05, -1.1444e-05,\n",
      "        -2.2888e-05, -7.6294e-06,  1.9073e-06, -1.1444e-05,  0.0000e+00,\n",
      "        -1.1444e-05,  1.9073e-05,  7.6294e-06,  7.6294e-06, -6.6757e-06,\n",
      "        -3.8147e-06,  1.5259e-05, -2.8610e-05,  3.8147e-06,  1.9073e-06,\n",
      "        -9.5367e-07, -7.6294e-06, -1.5259e-05, -1.1444e-05,  7.6294e-06,\n",
      "         1.0490e-05, -3.8147e-06, -1.1444e-05,  9.5367e-07, -1.5259e-05,\n",
      "        -1.9073e-05,  0.0000e+00,  1.9073e-05, -1.5259e-05, -3.0518e-05,\n",
      "        -4.6492e-06,  1.1444e-05, -1.7166e-05,  3.0518e-05, -7.6294e-06,\n",
      "         1.7166e-05, -2.2888e-05, -8.5831e-06,  2.2888e-05, -4.7684e-06,\n",
      "         7.6294e-06,  7.6294e-06,  1.9073e-06, -1.1176e-05, -1.3828e-05,\n",
      "         1.1444e-05,  2.2888e-05,  3.5763e-06,  2.4796e-05,  3.0518e-05,\n",
      "        -1.9073e-06,  0.0000e+00, -3.4332e-05,  1.5259e-05],\n",
      "       dtype=torch.float32)\n"
     ]
    }
   ],
   "source": [
    "test = Test()\n",
    "\n",
    "px_reco, py_reco = test.check_px_py((data_lepton, data_jets, data_met))\n",
    "pz_reco = test.check_pz((data_jets, data_lepton, data_met))\n",
    "\n",
    "print(px_reco)"
   ]
  },
  {
   "cell_type": "markdown",
   "metadata": {},
   "source": [
    "# Test rambo"
   ]
  },
  {
   "cell_type": "code",
   "execution_count": 2,
   "metadata": {},
   "outputs": [
    {
     "name": "stderr",
     "output_type": "stream",
     "text": [
      "2023-03-24 14:49:12.705066: I tensorflow/core/platform/cpu_feature_guard.cc:193] This TensorFlow binary is optimized with oneAPI Deep Neural Network Library (oneDNN) to use the following CPU instructions in performance-critical operations:  AVX2 FMA\n",
      "To enable them in other operations, rebuild TensorFlow with the appropriate compiler flags.\n",
      "2023-03-24 14:49:15.625752: W tensorflow/compiler/xla/stream_executor/platform/default/dso_loader.cc:64] Could not load dynamic library 'libnvinfer.so.7'; dlerror: libnvinfer.so.7: cannot open shared object file: No such file or directory; LD_LIBRARY_PATH: :/opt/LHAPDF/lib:/opt/MG5_aMC_v3_4_1/lib:/.singularity.d/libs\n",
      "2023-03-24 14:49:15.626108: W tensorflow/compiler/xla/stream_executor/platform/default/dso_loader.cc:64] Could not load dynamic library 'libnvinfer_plugin.so.7'; dlerror: libnvinfer_plugin.so.7: cannot open shared object file: No such file or directory; LD_LIBRARY_PATH: :/opt/LHAPDF/lib:/opt/MG5_aMC_v3_4_1/lib:/.singularity.d/libs\n",
      "2023-03-24 14:49:15.626220: W tensorflow/compiler/tf2tensorrt/utils/py_utils.cc:38] TF-TRT Warning: Cannot dlopen some TensorRT libraries. If you would like to use Nvidia GPU with TensorRT, please make sure the missing libraries mentioned above are installed properly.\n"
     ]
    }
   ],
   "source": [
    "import torch\n",
    "from memflow.phasespace.phasespace import PhaseSpace\n",
    "import matplotlib.pyplot as plt\n",
    "from matplotlib import colors\n",
    "import numpy as np\n",
    "from  memflow.phasespace.utils import *\n",
    "torch.set_default_dtype(torch.double)"
   ]
  },
  {
   "cell_type": "code",
   "execution_count": 3,
   "metadata": {},
   "outputs": [
    {
     "name": "stderr",
     "output_type": "stream",
     "text": [
      "2023-03-24 14:49:19.468888: W tensorflow/compiler/xla/stream_executor/platform/default/dso_loader.cc:64] Could not load dynamic library 'libcuda.so.1'; dlerror: libcuda.so.1: cannot open shared object file: No such file or directory; LD_LIBRARY_PATH: :/opt/LHAPDF/lib:/opt/MG5_aMC_v3_4_1/lib:/.singularity.d/libs\n",
      "2023-03-24 14:49:19.468933: W tensorflow/compiler/xla/stream_executor/cuda/cuda_driver.cc:265] failed call to cuInit: UNKNOWN ERROR (303)\n"
     ]
    }
   ],
   "source": [
    "E_CM = 13000\n",
    "phasespace = PhaseSpace(E_CM, [21,21], [25,6,-6])"
   ]
  },
  {
   "cell_type": "code",
   "execution_count": 16,
   "metadata": {},
   "outputs": [],
   "source": [
    "points_out, momenta, weight, x1, x2 = phasespace.generate_random_phase_space_points(100000)"
   ]
  },
  {
   "cell_type": "code",
   "execution_count": 5,
   "metadata": {},
   "outputs": [
    {
     "data": {
      "image/png": "[encoded data removed]",
      "text/plain": [
       "<Figure size 640x480 with 1 Axes>"
      ]
     },
     "metadata": {},
     "output_type": "display_data"
    }
   ],
   "source": [
    "plt.hist2d(x1.numpy(), x2.numpy(), bins=100, cmin=1);"
   ]
  },
  {
   "cell_type": "code",
   "execution_count": 6,
   "metadata": {},
   "outputs": [
    {
     "name": "stdout",
     "output_type": "stream",
     "text": [
      "torch.Size([100000, 5])\n",
      "torch.Size([100000, 2])\n"
     ]
    }
   ],
   "source": [
    "ps_back = phasespace.get_ps_from_momenta(momenta[:,2:], x1, x2)"
   ]
  },
  {
   "cell_type": "code",
   "execution_count": 7,
   "metadata": {},
   "outputs": [
    {
     "data": {
      "text/plain": [
       "tensor([[0.6809, 0.7887, 0.9267,  ..., 0.2975, 0.1905, 0.6866],\n",
       "        [0.3170, 0.3194, 0.5902,  ..., 0.7570, 0.2988, 0.8811],\n",
       "        [0.6979, 0.3200, 0.4850,  ..., 0.6840, 0.8256, 0.0391],\n",
       "        ...,\n",
       "        [0.8801, 0.0485, 0.4644,  ..., 0.7060, 0.7595, 0.0522],\n",
       "        [0.1885, 0.3218, 0.8228,  ..., 0.1699, 0.2088, 0.5386],\n",
       "        [0.7966, 0.1670, 0.2452,  ..., 0.0579, 0.4898, 0.2492]])"
      ]
     },
     "execution_count": 7,
     "metadata": {},
     "output_type": "execute_result"
    }
   ],
   "source": [
    "ps_back"
   ]
  },
  {
   "cell_type": "code",
   "execution_count": 13,
   "metadata": {},
   "outputs": [
    {
     "data": {
      "text/plain": [
       "(array([2.61376e+05, 5.41890e+04, 1.11200e+03, 7.90000e+01, 8.00000e+00,\n",
       "        2.00000e+00, 0.00000e+00, 0.00000e+00, 0.00000e+00, 0.00000e+00]),\n",
       " array([-17. , -15.1, -13.2, -11.3,  -9.4,  -7.5,  -5.6,  -3.7,  -1.8,\n",
       "          0.1,   2. ]),\n",
       " <BarContainer object of 10 artists>)"
      ]
     },
     "execution_count": 13,
     "metadata": {},
     "output_type": "execute_result"
    },
    {
     "data": {
      "image/png": "[encoded data removed]",
      "text/plain": [
       "<Figure size 640x480 with 1 Axes>"
      ]
     },
     "metadata": {},
     "output_type": "display_data"
    }
   ],
   "source": [
    "plt.hist(torch.log10(torch.abs(1- ps_back/points_out)).flatten(), bins=10, range=(-17, 2))"
   ]
  },
  {
   "cell_type": "code",
   "execution_count": 17,
   "metadata": {},
   "outputs": [],
   "source": [
    "momenta_back, weights, x1_back, x2_back = phasespace.get_momenta_from_ps(points_out)"
   ]
  },
  {
   "cell_type": "code",
   "execution_count": 18,
   "metadata": {},
   "outputs": [
    {
     "data": {
      "text/plain": [
       "(array([0., 0., 0., 0., 0., 0., 0., 0., 0., 0., 0., 0., 0., 0., 0., 0., 0.,\n",
       "        0., 0., 0.]),\n",
       " array([-20. , -19.1, -18.2, -17.3, -16.4, -15.5, -14.6, -13.7, -12.8,\n",
       "        -11.9, -11. , -10.1,  -9.2,  -8.3,  -7.4,  -6.5,  -5.6,  -4.7,\n",
       "         -3.8,  -2.9,  -2. ]),\n",
       " <BarContainer object of 20 artists>)"
      ]
     },
     "execution_count": 18,
     "metadata": {},
     "output_type": "execute_result"
    },
    {
     "data": {
      "image/png": "[encoded data removed]",
      "text/plain": [
       "<Figure size 640x480 with 1 Axes>"
      ]
     },
     "metadata": {},
     "output_type": "display_data"
    }
   ],
   "source": [
    "plt.hist(torch.log10(torch.abs(1- momenta_back/momenta)).flatten(), bins=20, range=(-20, -2))"
   ]
  },
  {
   "cell_type": "code",
   "execution_count": 23,
   "metadata": {},
   "outputs": [
    {
     "data": {
      "text/plain": [
       "tensor([True, True, True,  ..., True, True, True])"
      ]
     },
     "execution_count": 23,
     "metadata": {},
     "output_type": "execute_result"
    }
   ],
   "source": [
    "x2 == x2_back"
   ]
  },
  {
   "cell_type": "code",
   "execution_count": null,
   "metadata": {},
   "outputs": [],
   "source": []
  }
 ],
 "metadata": {
  "kernelspec": {
   "display_name": "Python 3 (ipykernel)",
   "language": "python",
   "name": "python3"
  },
  "language_info": {
   "codemirror_mode": {
    "name": "ipython",
    "version": 3
   },
   "file_extension": ".py",
   "mimetype": "text/x-python",
   "name": "python",
   "nbconvert_exporter": "python",
   "pygments_lexer": "ipython3",
   "version": "3.9.14"
  }
 },
 "nbformat": 4,
 "nbformat_minor": 4
}
