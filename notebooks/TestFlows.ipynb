{
 "cells": [
  {
   "cell_type": "code",
   "execution_count": 1,
   "id": "f472863d-ed40-4476-be19-686c7337c5e3",
   "metadata": {},
   "outputs": [
    {
     "name": "stderr",
     "output_type": "stream",
     "text": [
      "/home/valsdav/code/MEM/MEMFlow/myenv/lib64/python3.9/site-packages/tqdm/auto.py:22: TqdmWarning: IProgress not found. Please update jupyter and ipywidgets. See https://ipywidgets.readthedocs.io/en/stable/user_install.html\n",
      "  from .autonotebook import tqdm as notebook_tqdm\n"
     ]
    }
   ],
   "source": [
    "import torch\n",
    "from torch import Tensor\n",
    "from torch.distributions.transforms import Transform\n",
    "import numpy as np\n",
    "import zuko\n",
    "import matplotlib.pyplot as plt\n",
    "from matplotlib.colors import LogNorm"
   ]
  },
  {
   "cell_type": "code",
   "execution_count": 2,
   "id": "8be2bc98-e013-4645-b084-33fbd8aebe34",
   "metadata": {},
   "outputs": [],
   "source": [
    "# Neural spline flow (NSF) with 3 transformations\n",
    "flow = zuko.flows.NSF(7, transforms=2, bins=8, hidden_features=[64] * 3, \n",
    "                      randperm=True)\n"
   ]
  },
  {
   "cell_type": "code",
   "execution_count": 3,
   "id": "04ef647e-9955-48f0-9dc2-020a17b82c2d",
   "metadata": {},
   "outputs": [
    {
     "data": {
      "text/plain": [
       "NSF(\n",
       "  (transforms): ModuleList(\n",
       "    (0): MaskedAutoregressiveTransform(\n",
       "      (base): MonotonicRQSTransform(bins=8)\n",
       "      (order): [5, 3, 2, 0, 1, 4, 6]\n",
       "      (hyper): MaskedMLP(\n",
       "        (0): MaskedLinear(in_features=7, out_features=64, bias=True)\n",
       "        (1): ReLU()\n",
       "        (2): MaskedLinear(in_features=64, out_features=64, bias=True)\n",
       "        (3): ReLU()\n",
       "        (4): MaskedLinear(in_features=64, out_features=64, bias=True)\n",
       "        (5): ReLU()\n",
       "        (6): MaskedLinear(in_features=64, out_features=161, bias=True)\n",
       "      )\n",
       "    )\n",
       "    (1): MaskedAutoregressiveTransform(\n",
       "      (base): MonotonicRQSTransform(bins=8)\n",
       "      (order): [4, 6, 0, 3, 2, 5, 1]\n",
       "      (hyper): MaskedMLP(\n",
       "        (0): MaskedLinear(in_features=7, out_features=64, bias=True)\n",
       "        (1): ReLU()\n",
       "        (2): MaskedLinear(in_features=64, out_features=64, bias=True)\n",
       "        (3): ReLU()\n",
       "        (4): MaskedLinear(in_features=64, out_features=64, bias=True)\n",
       "        (5): ReLU()\n",
       "        (6): MaskedLinear(in_features=64, out_features=161, bias=True)\n",
       "      )\n",
       "    )\n",
       "  )\n",
       "  (base): DiagNormal(loc: torch.Size([7]), scale: torch.Size([7]))\n",
       ")"
      ]
     },
     "execution_count": 3,
     "metadata": {},
     "output_type": "execute_result"
    }
   ],
   "source": [
    "flow"
   ]
  },
  {
   "cell_type": "code",
   "execution_count": 4,
   "id": "67483d2c-1e77-49ff-be6b-30a74e71cc7c",
   "metadata": {},
   "outputs": [
    {
     "data": {
      "text/plain": [
       "(array([1.000e+00, 1.000e+00, 3.000e+00, 1.000e+00, 7.000e+00, 9.000e+00,\n",
       "        8.000e+00, 1.500e+01, 1.000e+01, 1.600e+01, 2.000e+01, 2.900e+01,\n",
       "        2.100e+01, 4.000e+01, 3.900e+01, 5.400e+01, 6.300e+01, 7.900e+01,\n",
       "        1.330e+02, 1.330e+02, 1.340e+02, 2.050e+02, 2.040e+02, 2.500e+02,\n",
       "        3.030e+02, 3.730e+02, 4.170e+02, 4.610e+02, 5.280e+02, 5.870e+02,\n",
       "        6.770e+02, 7.490e+02, 8.870e+02, 9.940e+02, 9.970e+02, 1.041e+03,\n",
       "        1.112e+03, 1.192e+03, 1.347e+03, 1.344e+03, 1.602e+03, 1.611e+03,\n",
       "        1.649e+03, 1.785e+03, 1.870e+03, 1.939e+03, 2.037e+03, 2.131e+03,\n",
       "        2.163e+03, 2.302e+03, 2.333e+03, 2.537e+03, 2.456e+03, 2.466e+03,\n",
       "        2.460e+03, 2.390e+03, 2.347e+03, 2.095e+03, 2.005e+03, 1.866e+03,\n",
       "        1.578e+03, 1.383e+03, 1.196e+03, 1.155e+03, 9.790e+02, 8.350e+02,\n",
       "        8.100e+02, 7.430e+02, 7.000e+02, 6.100e+02, 5.660e+02, 4.490e+02,\n",
       "        4.110e+02, 3.280e+02, 2.920e+02, 2.800e+02, 2.260e+02, 2.070e+02,\n",
       "        1.270e+02, 1.170e+02, 9.300e+01, 8.600e+01, 5.900e+01, 6.000e+01,\n",
       "        4.100e+01, 3.700e+01, 3.000e+01, 2.500e+01, 1.200e+01, 1.500e+01,\n",
       "        5.000e+00, 3.000e+00, 4.000e+00, 2.000e+00, 2.000e+00, 2.000e+00,\n",
       "        1.000e+00, 2.000e+00, 0.000e+00, 1.000e+00]),\n",
       " array([-4.01472378e+00, -3.93274617e+00, -3.85076833e+00, -3.76879072e+00,\n",
       "        -3.68681312e+00, -3.60483527e+00, -3.52285767e+00, -3.44088006e+00,\n",
       "        -3.35890222e+00, -3.27692461e+00, -3.19494700e+00, -3.11296916e+00,\n",
       "        -3.03099155e+00, -2.94901395e+00, -2.86703634e+00, -2.78505850e+00,\n",
       "        -2.70308089e+00, -2.62110329e+00, -2.53912544e+00, -2.45714784e+00,\n",
       "        -2.37517023e+00, -2.29319239e+00, -2.21121478e+00, -2.12923717e+00,\n",
       "        -2.04725933e+00, -1.96528172e+00, -1.88330400e+00, -1.80132639e+00,\n",
       "        -1.71934867e+00, -1.63737094e+00, -1.55539334e+00, -1.47341561e+00,\n",
       "        -1.39143801e+00, -1.30946028e+00, -1.22748256e+00, -1.14550495e+00,\n",
       "        -1.06352723e+00, -9.81549561e-01, -8.99571836e-01, -8.17594171e-01,\n",
       "        -7.35616505e-01, -6.53638840e-01, -5.71661115e-01, -4.89683449e-01,\n",
       "        -4.07705754e-01, -3.25728089e-01, -2.43750393e-01, -1.61772713e-01,\n",
       "        -7.97950327e-02,  2.18264572e-03,  8.41603279e-02,  1.66138008e-01,\n",
       "         2.48115689e-01,  3.30093384e-01,  4.12071049e-01,  4.94048744e-01,\n",
       "         5.76026440e-01,  6.58004105e-01,  7.39981771e-01,  8.21959496e-01,\n",
       "         9.03937161e-01,  9.85914826e-01,  1.06789255e+00,  1.14987016e+00,\n",
       "         1.23184788e+00,  1.31382561e+00,  1.39580321e+00,  1.47778094e+00,\n",
       "         1.55975866e+00,  1.64173627e+00,  1.72371399e+00,  1.80569160e+00,\n",
       "         1.88766932e+00,  1.96964705e+00,  2.05162477e+00,  2.13360238e+00,\n",
       "         2.21557999e+00,  2.29755783e+00,  2.37953544e+00,  2.46151304e+00,\n",
       "         2.54349089e+00,  2.62546849e+00,  2.70744610e+00,  2.78942394e+00,\n",
       "         2.87140155e+00,  2.95337915e+00,  3.03535700e+00,  3.11733460e+00,\n",
       "         3.19931221e+00,  3.28128982e+00,  3.36326766e+00,  3.44524527e+00,\n",
       "         3.52722287e+00,  3.60920072e+00,  3.69117832e+00,  3.77315593e+00,\n",
       "         3.85513377e+00,  3.93711138e+00,  4.01908922e+00,  4.10106659e+00,\n",
       "         4.18304443e+00]),\n",
       " <BarContainer object of 100 artists>)"
      ]
     },
     "execution_count": 4,
     "metadata": {},
     "output_type": "execute_result"
    },
    {
     "data": {
      "image/png": "[encoded data removed]",
      "text/plain": [
       "<Figure size 640x480 with 1 Axes>"
      ]
     },
     "metadata": {},
     "output_type": "display_data"
    }
   ],
   "source": [
    "x1 = flow().sample((10000,))\n",
    "plt.hist(x1.detach().numpy().flatten(), bins=100)"
   ]
  },
  {
   "cell_type": "code",
   "execution_count": 3,
   "id": "591d39ea-734b-41fd-998b-545b75f9555b",
   "metadata": {},
   "outputs": [],
   "source": [
    "from zuko.transforms import (\n",
    "    SoftclipTransform, ComposedTransform, \n",
    "    InverseTanhTransform, InverseSoftclipTransform,\n",
    "    MonotonicAffineTransform)\n",
    "from zuko.distributions import BoxUniform\n",
    "from torch.distributions.transforms import TanhTransform, AffineTransform\n",
    "from zuko.flows import TransformModule, SimpleAffineTransform"
   ]
  },
  {
   "cell_type": "code",
   "execution_count": 15,
   "id": "224009ff-5f4f-43f0-b4f4-87be562c8619",
   "metadata": {},
   "outputs": [],
   "source": [
    "class IntervalToRealTransform(TransformModule):\n",
    "    \"\"\"\n",
    "    Transform from Interval to R through an Affine and InverseSoftclip Transform\n",
    "    \"\"\"\n",
    "    def __init__(self, xmin: Tensor, xmax: Tensor):\n",
    "        super().__init__()\n",
    "        self.xmin = xmin\n",
    "        self.xmax = xmax\n",
    "        self.scale = (2/(self.xmax -self.xmin))\n",
    "        self.shift =  1 -self.scale*self.xmax\n",
    "        \n",
    "    def extra_repr(self) -> str:\n",
    "        return f'[{self.xmin}, {self.xmax}] -> [-1,1] -> softclip -> R'\n",
    "        \n",
    "    def forward(self, y: Tensor = None) -> Transform:\n",
    "        return ComposedTransform(\n",
    "            AffineTransform(scale=self.scale, loc=self.shift),\n",
    "            InverseSoftclipTransform(bound=1))"
   ]
  },
  {
   "cell_type": "code",
   "execution_count": 21,
   "id": "265b3367-3c7c-4b7a-afad-b36374655680",
   "metadata": {},
   "outputs": [],
   "source": [
    "features = 7\n",
    "flow2 = zuko.flows.NSF(features, transforms=4, bins=8, hidden_features=[32] * 2, \n",
    "                      randperm=True,\n",
    "                      passes=2)\n",
    "\n",
    "flow2.transforms.insert(0, IntervalToRealTransform(0*torch.ones(features),1*torch.ones(features)))"
   ]
  },
  {
   "cell_type": "code",
   "execution_count": 22,
   "id": "40049f24-dd89-49e3-bbd3-d5fec57b3a79",
   "metadata": {},
   "outputs": [],
   "source": [
    "features = 7\n",
    "flow3 = zuko.flows.NSF(features, transforms=4, bins=8, hidden_features=[32] * 2, \n",
    "                      randperm=True,\n",
    "                      base=BoxUniform,\n",
    "                      base_args=[torch.ones(features)*(-1),torch.ones(features)],\n",
    "                      univariate_kwargs={\"bound\":1},\n",
    "                      passes=2)\n",
    "\n",
    "flow3.transforms.insert(0, SimpleAffineTransform(0*torch.ones(features),1*torch.ones(features),\n",
    "                                                 -1*torch.ones(features), 1*torch.ones(features)))"
   ]
  },
  {
   "cell_type": "code",
   "execution_count": 45,
   "id": "beb185f5-593b-460e-9558-ea299a86f53e",
   "metadata": {},
   "outputs": [
    {
     "name": "stdout",
     "output_type": "stream",
     "text": [
      "108 ms ± 5.49 ms per loop (mean ± std. dev. of 7 runs, 10 loops each)\n"
     ]
    }
   ],
   "source": [
    "%%timeit\n",
    "x2 = flow2().sample((10000,))"
   ]
  },
  {
   "cell_type": "code",
   "execution_count": 35,
   "id": "543350eb-b23c-4f7b-a918-ac2d8a60670e",
   "metadata": {},
   "outputs": [
    {
     "name": "stdout",
     "output_type": "stream",
     "text": [
      "66.2 ms ± 3.54 ms per loop (mean ± std. dev. of 7 runs, 10 loops each)\n"
     ]
    }
   ],
   "source": [
    "%%timeit\n",
    "y = flow2().log_prob(x2)"
   ]
  },
  {
   "cell_type": "code",
   "execution_count": 24,
   "id": "f76809df-b429-4457-8b28-1fcee24f9355",
   "metadata": {},
   "outputs": [
    {
     "data": {
      "text/plain": [
       "Text(0.5, 0, 'x2')"
      ]
     },
     "execution_count": 24,
     "metadata": {},
     "output_type": "execute_result"
    },
    {
     "data": {
      "image/png": "[encoded data removed]",
      "text/plain": [
       "<Figure size 640x480 with 1 Axes>"
      ]
     },
     "metadata": {},
     "output_type": "display_data"
    }
   ],
   "source": [
    "x2 = flow2().sample((10000,))\n",
    "plt.hist(x2.flatten(), bins=100, range=(0,1))\n",
    "plt.xlabel(\"x2\")"
   ]
  },
  {
   "cell_type": "code",
   "execution_count": 25,
   "id": "00552b73-1925-46c3-be69-a042dd30f507",
   "metadata": {},
   "outputs": [
    {
     "data": {
      "text/plain": [
       "Text(0.5, 0, 'x2')"
      ]
     },
     "execution_count": 25,
     "metadata": {},
     "output_type": "execute_result"
    },
    {
     "data": {
      "image/png": "[encoded data removed]",
      "text/plain": [
       "<Figure size 640x480 with 1 Axes>"
      ]
     },
     "metadata": {},
     "output_type": "display_data"
    }
   ],
   "source": [
    "x3 = flow3().sample((10000,))\n",
    "plt.hist(x3.flatten(), bins=100, range=(0,1))\n",
    "plt.xlabel(\"x2\")"
   ]
  },
  {
   "cell_type": "code",
   "execution_count": 38,
   "id": "6b25ef09-ec55-410a-b0cc-034114737215",
   "metadata": {},
   "outputs": [
    {
     "data": {
      "text/plain": [
       "(array([   3.,   13.,   19.,   65.,   89.,  120.,  156.,  150.,  202.,\n",
       "         281.,  338.,  478.,  560.,  700.,  839.,  949., 1005., 1074.,\n",
       "        1071., 1131., 1129., 1150., 1271., 1190., 1250., 1274., 1278.,\n",
       "        1172., 1155., 1155., 1104., 1080., 1053., 1025.,  942.,  945.,\n",
       "         882.,  855.,  813.,  832.,  793.,  729.,  708.,  773.,  765.,\n",
       "         771.,  829.,  840.,  811.,  843.,  826.,  922.,  906.,  922.,\n",
       "        1021., 1019., 1064., 1137., 1142., 1167., 1226., 1278., 1316.,\n",
       "        1266., 1283., 1240., 1195., 1122., 1147.,  960.,  946.,  763.,\n",
       "         694.,  644.,  566.,  450.,  409.,  347.,  318.,  367.,  322.,\n",
       "         324.,  305.,  281.,  280.,  249.,  240.,  220.,  214.,  248.,\n",
       "         213.,  180.,  168.,  149.,  113.,   79.,   50.,   30.,    9.,\n",
       "           3.]),\n",
       " array([-1.0586797 , -1.03693485, -1.01519001, -0.99344522, -0.97170043,\n",
       "        -0.94995558, -0.92821074, -0.90646595, -0.8847211 , -0.86297625,\n",
       "        -0.84123147, -0.81948662, -0.79774183, -0.77599698, -0.75425214,\n",
       "        -0.73250735, -0.7107625 , -0.68901765, -0.66727287, -0.64552802,\n",
       "        -0.62378323, -0.60203838, -0.58029354, -0.55854875, -0.5368039 ,\n",
       "        -0.51505911, -0.49331427, -0.47156945, -0.4498246 , -0.42807978,\n",
       "        -0.40633497, -0.38459015, -0.3628453 , -0.34110048, -0.31935567,\n",
       "        -0.29761085, -0.275866  , -0.25412118, -0.23237637, -0.21063153,\n",
       "        -0.18888672, -0.16714188, -0.14539707, -0.12365224, -0.10190742,\n",
       "        -0.08016259, -0.05841777, -0.03667294, -0.01492812,  0.00681671,\n",
       "         0.02856153,  0.05030636,  0.07205118,  0.09379601,  0.11554083,\n",
       "         0.13728565,  0.15903048,  0.1807753 ,  0.20252013,  0.22426495,\n",
       "         0.24600978,  0.26775461,  0.28949943,  0.31124425,  0.33298907,\n",
       "         0.35473391,  0.37647873,  0.39822355,  0.41996837,  0.44171321,\n",
       "         0.46345803,  0.48520285,  0.5069477 ,  0.52869248,  0.55043733,\n",
       "         0.57218218,  0.59392697,  0.61567181,  0.6374166 ,  0.65916145,\n",
       "         0.6809063 ,  0.70265108,  0.72439593,  0.74614072,  0.76788557,\n",
       "         0.78963041,  0.8113752 ,  0.83312005,  0.8548649 ,  0.87660968,\n",
       "         0.89835453,  0.92009932,  0.94184417,  0.96358901,  0.9853338 ,\n",
       "         1.00707865,  1.02882349,  1.05056834,  1.07231307,  1.09405792,\n",
       "         1.11580276]),\n",
       " <BarContainer object of 100 artists>)"
      ]
     },
     "execution_count": 38,
     "metadata": {},
     "output_type": "execute_result"
    },
    {
     "data": {
      "image/png": "[encoded data removed]",
      "text/plain": [
       "<Figure size 640x480 with 1 Axes>"
      ]
     },
     "metadata": {},
     "output_type": "display_data"
    }
   ],
   "source": [
    "x = flow().sample((10000,))\n",
    "plt.hist(x.detach().numpy().flatten(), bins=100)\n",
    "#plt.yscale(\"log\")"
   ]
  },
  {
   "cell_type": "code",
   "execution_count": 25,
   "id": "0da446c7-8cfe-49f1-97ea-6bc536ac5cf9",
   "metadata": {},
   "outputs": [],
   "source": [
    "def count_parameters(model):\n",
    "    return sum(p.numel() for p in model.parameters() if p.requires_grad)"
   ]
  },
  {
   "cell_type": "code",
   "execution_count": 27,
   "id": "c767b233-e1f0-4022-8496-f91b25635244",
   "metadata": {},
   "outputs": [
    {
     "data": {
      "text/plain": [
       "96485"
      ]
     },
     "execution_count": 27,
     "metadata": {},
     "output_type": "execute_result"
    }
   ],
   "source": [
    "count_parameters(flow)"
   ]
  },
  {
   "cell_type": "code",
   "execution_count": 9,
   "id": "e1894426-be00-4a82-ab57-ef17fc3efbd9",
   "metadata": {},
   "outputs": [],
   "source": [
    "x= torch.randn(10000,7)"
   ]
  },
  {
   "cell_type": "code",
   "execution_count": 29,
   "id": "4bab5d90-f84e-46aa-8e6b-53622207081a",
   "metadata": {
    "tags": []
   },
   "outputs": [
    {
     "name": "stdout",
     "output_type": "stream",
     "text": [
      "95.8 ms ± 3.7 ms per loop (mean ± std. dev. of 7 runs, 1 loop each)\n"
     ]
    }
   ],
   "source": [
    "%%timeit\n",
    "# Evaluate log p(x | y)\n",
    "log_p = flow().log_prob(x)"
   ]
  },
  {
   "cell_type": "code",
   "execution_count": 30,
   "id": "48641293-bc09-48f5-970f-a2b180d35831",
   "metadata": {},
   "outputs": [
    {
     "name": "stdout",
     "output_type": "stream",
     "text": [
      "542 ms ± 32.4 ms per loop (mean ± std. dev. of 7 runs, 1 loop each)\n"
     ]
    }
   ],
   "source": [
    "%%timeit\n",
    "# Sample 64 points x ~ p(x | y)\n",
    "x = flow().sample((10000,))"
   ]
  },
  {
   "cell_type": "code",
   "execution_count": 10,
   "id": "99387f5f-54e2-4700-bcc2-337fe782e293",
   "metadata": {},
   "outputs": [],
   "source": []
  },
  {
   "cell_type": "code",
   "execution_count": 14,
   "id": "82301bc1-cdf0-4a36-8fb6-4b7cbc28cfa0",
   "metadata": {},
   "outputs": [
    {
     "data": {
      "text/plain": [
       "tensor([[  3.3248,  -0.9988,   1.0427,  ...,  -0.1234,   0.9243,  -0.9559],\n",
       "        [ -0.8994,  -0.8684,  -0.0907,  ...,  -4.1476,   0.6668,  -1.0164],\n",
       "        [ -1.9476,  -0.2344,  -0.9650,  ...,   0.1011,   2.5343,  -0.7970],\n",
       "        ...,\n",
       "        [  0.8191,  -3.5831,  -3.3464,  ...,   1.1201,   0.4716,  -3.2971],\n",
       "        [  1.4133,  -0.5995,  -1.5326,  ...,   3.0725, -14.7942,   3.2601],\n",
       "        [ -0.7108,  -0.2819,  -0.6786,  ...,   1.3522,  -4.1374,   1.5667]])"
      ]
     },
     "execution_count": 14,
     "metadata": {},
     "output_type": "execute_result"
    }
   ],
   "source": [
    "x"
   ]
  },
  {
   "cell_type": "code",
   "execution_count": 11,
   "id": "d4915b56-39b6-49d7-8ded-51734691d48b",
   "metadata": {},
   "outputs": [
    {
     "data": {
      "text/plain": [
       "(array([1.0000e+00, 0.0000e+00, 0.0000e+00, 0.0000e+00, 0.0000e+00,\n",
       "        0.0000e+00, 0.0000e+00, 0.0000e+00, 0.0000e+00, 0.0000e+00,\n",
       "        0.0000e+00, 0.0000e+00, 0.0000e+00, 0.0000e+00, 0.0000e+00,\n",
       "        0.0000e+00, 0.0000e+00, 0.0000e+00, 0.0000e+00, 0.0000e+00,\n",
       "        0.0000e+00, 0.0000e+00, 0.0000e+00, 0.0000e+00, 0.0000e+00,\n",
       "        0.0000e+00, 0.0000e+00, 0.0000e+00, 0.0000e+00, 0.0000e+00,\n",
       "        0.0000e+00, 0.0000e+00, 0.0000e+00, 0.0000e+00, 0.0000e+00,\n",
       "        0.0000e+00, 0.0000e+00, 0.0000e+00, 0.0000e+00, 0.0000e+00,\n",
       "        0.0000e+00, 1.0000e+00, 0.0000e+00, 0.0000e+00, 0.0000e+00,\n",
       "        0.0000e+00, 0.0000e+00, 0.0000e+00, 0.0000e+00, 0.0000e+00,\n",
       "        0.0000e+00, 0.0000e+00, 0.0000e+00, 0.0000e+00, 0.0000e+00,\n",
       "        0.0000e+00, 0.0000e+00, 1.0000e+00, 0.0000e+00, 0.0000e+00,\n",
       "        0.0000e+00, 0.0000e+00, 0.0000e+00, 0.0000e+00, 0.0000e+00,\n",
       "        0.0000e+00, 0.0000e+00, 0.0000e+00, 0.0000e+00, 0.0000e+00,\n",
       "        0.0000e+00, 0.0000e+00, 0.0000e+00, 0.0000e+00, 0.0000e+00,\n",
       "        0.0000e+00, 0.0000e+00, 0.0000e+00, 0.0000e+00, 1.0000e+00,\n",
       "        0.0000e+00, 0.0000e+00, 2.0000e+00, 4.0000e+00, 5.0000e+00,\n",
       "        8.2100e+02, 6.9152e+04, 5.0000e+00, 3.0000e+00, 3.0000e+00,\n",
       "        0.0000e+00, 0.0000e+00, 0.0000e+00, 0.0000e+00, 0.0000e+00,\n",
       "        0.0000e+00, 0.0000e+00, 0.0000e+00, 0.0000e+00, 1.0000e+00]),\n",
       " array([-6.71083672e+04, -6.63282031e+04, -6.55480391e+04, -6.47678789e+04,\n",
       "        -6.39877148e+04, -6.32075508e+04, -6.24273867e+04, -6.16472227e+04,\n",
       "        -6.08670625e+04, -6.00868984e+04, -5.93067344e+04, -5.85265703e+04,\n",
       "        -5.77464062e+04, -5.69662461e+04, -5.61860820e+04, -5.54059180e+04,\n",
       "        -5.46257539e+04, -5.38455898e+04, -5.30654297e+04, -5.22852656e+04,\n",
       "        -5.15051016e+04, -5.07249375e+04, -4.99447734e+04, -4.91646094e+04,\n",
       "        -4.83844492e+04, -4.76042852e+04, -4.68241211e+04, -4.60439570e+04,\n",
       "        -4.52637930e+04, -4.44836328e+04, -4.37034688e+04, -4.29233047e+04,\n",
       "        -4.21431406e+04, -4.13629766e+04, -4.05828164e+04, -3.98026523e+04,\n",
       "        -3.90224883e+04, -3.82423242e+04, -3.74621602e+04, -3.66820000e+04,\n",
       "        -3.59018359e+04, -3.51216719e+04, -3.43415078e+04, -3.35613438e+04,\n",
       "        -3.27811836e+04, -3.20010195e+04, -3.12208555e+04, -3.04406914e+04,\n",
       "        -2.96605293e+04, -2.88803652e+04, -2.81002031e+04, -2.73200391e+04,\n",
       "        -2.65398750e+04, -2.57597129e+04, -2.49795488e+04, -2.41993848e+04,\n",
       "        -2.34192227e+04, -2.26390586e+04, -2.18588965e+04, -2.10787324e+04,\n",
       "        -2.02985684e+04, -1.95184062e+04, -1.87382422e+04, -1.79580801e+04,\n",
       "        -1.71779160e+04, -1.63977520e+04, -1.56175889e+04, -1.48374258e+04,\n",
       "        -1.40572627e+04, -1.32770996e+04, -1.24969365e+04, -1.17167725e+04,\n",
       "        -1.09366094e+04, -1.01564463e+04, -9.37628320e+03, -8.59611914e+03,\n",
       "        -7.81595654e+03, -7.03579297e+03, -6.25562988e+03, -5.47546631e+03,\n",
       "        -4.69530322e+03, -3.91513989e+03, -3.13497656e+03, -2.35481323e+03,\n",
       "        -1.57464990e+03, -7.94486633e+02, -1.43233204e+01,  7.65839966e+02,\n",
       "         1.54600330e+03,  2.32616650e+03,  3.10632983e+03,  3.88649316e+03,\n",
       "         4.66665625e+03,  5.44681982e+03,  6.22698291e+03,  7.00714648e+03,\n",
       "         7.78730957e+03,  8.56747266e+03,  9.34763672e+03,  1.01277998e+04,\n",
       "         1.09079629e+04]),\n",
       " <BarContainer object of 100 artists>)"
      ]
     },
     "execution_count": 11,
     "metadata": {},
     "output_type": "execute_result"
    },
    {
     "data": {
      "image/png": "[encoded data removed]",
      "text/plain": [
       "<Figure size 640x480 with 1 Axes>"
      ]
     },
     "metadata": {},
     "output_type": "display_data"
    }
   ],
   "source": []
  },
  {
   "cell_type": "markdown",
   "id": "4342eb76-a07d-4dcb-89d2-c0c20e691c39",
   "metadata": {},
   "source": [
    "# t = zuko.flows.MaskedAutoregressiveTransform(3)"
   ]
  },
  {
   "cell_type": "code",
   "execution_count": 58,
   "id": "3d9c5a01-7ffe-43b6-a75d-46e11d7e5e19",
   "metadata": {},
   "outputs": [
    {
     "data": {
      "text/plain": [
       "MaskedAutoregressiveTransform(\n",
       "  (base): MonotonicAffineTransform()\n",
       "  (order): [0, 1, 2]\n",
       "  (hyper): MaskedMLP(\n",
       "    (0): MaskedLinear(in_features=3, out_features=64, bias=True)\n",
       "    (1): ReLU()\n",
       "    (2): MaskedLinear(in_features=64, out_features=64, bias=True)\n",
       "    (3): ReLU()\n",
       "    (4): MaskedLinear(in_features=64, out_features=6, bias=True)\n",
       "  )\n",
       ")"
      ]
     },
     "execution_count": 58,
     "metadata": {},
     "output_type": "execute_result"
    }
   ],
   "source": [
    "t"
   ]
  },
  {
   "cell_type": "code",
   "execution_count": 18,
   "id": "b023abbc-7b81-43f9-a7fc-4dcb10c96666",
   "metadata": {},
   "outputs": [],
   "source": [
    "x = torch.randn(3)"
   ]
  },
  {
   "cell_type": "code",
   "execution_count": 23,
   "id": "ddecdb94-9155-4cfb-98c9-00fc160e7000",
   "metadata": {},
   "outputs": [
    {
     "data": {
      "text/plain": [
       "tensor([0.5497, 0.2524, 0.1363])"
      ]
     },
     "execution_count": 23,
     "metadata": {},
     "output_type": "execute_result"
    }
   ],
   "source": [
    "x"
   ]
  },
  {
   "cell_type": "code",
   "execution_count": 24,
   "id": "95dc4ecc-8d8f-4676-899f-ea5965339646",
   "metadata": {},
   "outputs": [
    {
     "data": {
      "text/plain": [
       "tensor([0.6078, 0.2602, 0.3210], grad_fn=<AddBackward0>)"
      ]
     },
     "execution_count": 24,
     "metadata": {},
     "output_type": "execute_result"
    }
   ],
   "source": [
    "z = t()(x)\n",
    "z"
   ]
  },
  {
   "cell_type": "code",
   "execution_count": 25,
   "id": "ac673bda-dc8b-4e9f-84fd-161fa52db3f5",
   "metadata": {},
   "outputs": [
    {
     "data": {
      "text/plain": [
       "tensor([0.5497, 0.2524, 0.1363], grad_fn=<DivBackward0>)"
      ]
     },
     "execution_count": 25,
     "metadata": {},
     "output_type": "execute_result"
    }
   ],
   "source": [
    "t().inv(z)"
   ]
  },
  {
   "cell_type": "code",
   "execution_count": 27,
   "id": "f8c33bea-5d37-4f45-9cab-ae709a2deddd",
   "metadata": {},
   "outputs": [],
   "source": [
    "a = t()"
   ]
  },
  {
   "cell_type": "code",
   "execution_count": 32,
   "id": "e9bd97b3-63a7-4a13-b091-5782b01dea30",
   "metadata": {},
   "outputs": [
    {
     "data": {
      "text/plain": [
       "tensor(-0.0481, grad_fn=<SumBackward1>)"
      ]
     },
     "execution_count": 32,
     "metadata": {},
     "output_type": "execute_result"
    }
   ],
   "source": [
    "a.log_abs_det_jacobian(x, z)\n"
   ]
  },
  {
   "cell_type": "code",
   "execution_count": 120,
   "id": "70aaddd2-8eea-435c-b5a0-5c5b2a8ed062",
   "metadata": {},
   "outputs": [],
   "source": [
    "t = zuko.flows.NSF(3, 4)"
   ]
  },
  {
   "cell_type": "code",
   "execution_count": 128,
   "id": "ba99eaad-d43d-40b8-a1d2-5ec98be7c702",
   "metadata": {},
   "outputs": [],
   "source": [
    "a = t.transforms[0]"
   ]
  },
  {
   "cell_type": "code",
   "execution_count": 119,
   "id": "772382c3-2074-4b29-ad52-644b9ff4eb6f",
   "metadata": {},
   "outputs": [
    {
     "data": {
      "text/plain": [
       "zuko.transforms.MonotonicAffineTransform"
      ]
     },
     "execution_count": 119,
     "metadata": {},
     "output_type": "execute_result"
    }
   ],
   "source": [
    "t.univariate"
   ]
  },
  {
   "cell_type": "code",
   "execution_count": 113,
   "id": "13550d08-d6dc-41db-90d3-bfb0f2263049",
   "metadata": {},
   "outputs": [],
   "source": [
    "class Test:\n",
    "    def __init__(self, a=1):\n",
    "        print(\"calling constructor\")\n",
    "        \n",
    "    def __call__(self, b):\n",
    "        print(\"function: \", b)"
   ]
  },
  {
   "cell_type": "code",
   "execution_count": 115,
   "id": "e39321c3-60f0-4f9a-944b-e95f24f3b05d",
   "metadata": {},
   "outputs": [],
   "source": [
    "a= Test"
   ]
  },
  {
   "cell_type": "code",
   "execution_count": 117,
   "id": "4e3a8dd0-cccb-40e7-889b-608092e05253",
   "metadata": {},
   "outputs": [
    {
     "name": "stdout",
     "output_type": "stream",
     "text": [
      "calling constructor\n"
     ]
    },
    {
     "data": {
      "text/plain": [
       "<__main__.Test at 0x7f48be595310>"
      ]
     },
     "execution_count": 117,
     "metadata": {},
     "output_type": "execute_result"
    }
   ],
   "source": [
    "a(2)"
   ]
  },
  {
   "cell_type": "code",
   "execution_count": 134,
   "id": "2521b106-8dd1-4b13-9b67-4a02b03e1a08",
   "metadata": {},
   "outputs": [],
   "source": [
    "from torch.nn import functional as F"
   ]
  },
  {
   "cell_type": "code",
   "execution_count": 142,
   "id": "12e364ed-b27c-4f3d-bf5a-bc6a7f6b4e52",
   "metadata": {},
   "outputs": [
    {
     "data": {
      "text/plain": [
       "tensor([-1.0000, -0.8000, -0.5000,  0.3000])"
      ]
     },
     "execution_count": 142,
     "metadata": {},
     "output_type": "execute_result"
    }
   ],
   "source": [
    "torch.cumsum(F.pad(torch.tensor([0.2,0.3,0.8]), (1, 0), value=-1), dim=-1)"
   ]
  },
  {
   "cell_type": "markdown",
   "id": "9fed3902-f115-48b8-911d-f326bc29e71e",
   "metadata": {},
   "source": [
    "# Nflows"
   ]
  },
  {
   "cell_type": "code",
   "execution_count": 59,
   "id": "7e1cf4d3-04ac-48a3-b595-94a92f34a83c",
   "metadata": {},
   "outputs": [],
   "source": [
    "from nflows import transforms, flows, distributions\n",
    "from torch.distributions.transforms import TanhTransform"
   ]
  },
  {
   "cell_type": "code",
   "execution_count": 79,
   "id": "e1590a89-b4a4-429a-8fb7-1fe4698a2203",
   "metadata": {},
   "outputs": [],
   "source": [
    "# Define an invertible transformation.\n",
    "nfeat = 7\n",
    "transform = transforms.CompositeTransform([\n",
    "    #TanhTransform(),\n",
    "    transforms.RandomPermutation(features=nfeat),\n",
    "    transforms.MaskedAffineAutoregressiveTransform(features=nfeat, hidden_features=36),\n",
    "    transforms.RandomPermutation(features=nfeat),\n",
    "    transforms.MaskedAffineAutoregressiveTransform(features=nfeat, hidden_features=36),\n",
    "    transforms.RandomPermutation(features=nfeat),\n",
    "    transforms.MaskedAffineAutoregressiveTransform(features=nfeat, hidden_features=36)\n",
    "])\n",
    "\n",
    "# Define a base distribution.\n",
    "base_distribution = distributions.StandardNormal(shape=[nfeat])\n",
    "\n",
    "\n",
    "# Combine into a flow.\n",
    "flow = flows.Flow(transform=transform, distribution=base_distribution)"
   ]
  },
  {
   "cell_type": "code",
   "execution_count": 71,
   "id": "d0ac4a5d-d2f0-4d49-8920-450525b440db",
   "metadata": {},
   "outputs": [
    {
     "data": {
      "text/plain": [
       "Flow(\n",
       "  (_transform): CompositeTransform(\n",
       "    (_transforms): ModuleList(\n",
       "      (0): RandomPermutation()\n",
       "      (1): MaskedAffineAutoregressiveTransform(\n",
       "        (autoregressive_net): MADE(\n",
       "          (initial_layer): MaskedLinear(in_features=7, out_features=36, bias=True)\n",
       "          (blocks): ModuleList(\n",
       "            (0): MaskedResidualBlock(\n",
       "              (linear_layers): ModuleList(\n",
       "                (0): MaskedLinear(in_features=36, out_features=36, bias=True)\n",
       "                (1): MaskedLinear(in_features=36, out_features=36, bias=True)\n",
       "              )\n",
       "              (dropout): Dropout(p=0.0, inplace=False)\n",
       "            )\n",
       "            (1): MaskedResidualBlock(\n",
       "              (linear_layers): ModuleList(\n",
       "                (0): MaskedLinear(in_features=36, out_features=36, bias=True)\n",
       "                (1): MaskedLinear(in_features=36, out_features=36, bias=True)\n",
       "              )\n",
       "              (dropout): Dropout(p=0.0, inplace=False)\n",
       "            )\n",
       "          )\n",
       "          (final_layer): MaskedLinear(in_features=36, out_features=14, bias=True)\n",
       "        )\n",
       "      )\n",
       "      (2): RandomPermutation()\n",
       "      (3): MaskedAffineAutoregressiveTransform(\n",
       "        (autoregressive_net): MADE(\n",
       "          (initial_layer): MaskedLinear(in_features=7, out_features=36, bias=True)\n",
       "          (blocks): ModuleList(\n",
       "            (0): MaskedResidualBlock(\n",
       "              (linear_layers): ModuleList(\n",
       "                (0): MaskedLinear(in_features=36, out_features=36, bias=True)\n",
       "                (1): MaskedLinear(in_features=36, out_features=36, bias=True)\n",
       "              )\n",
       "              (dropout): Dropout(p=0.0, inplace=False)\n",
       "            )\n",
       "            (1): MaskedResidualBlock(\n",
       "              (linear_layers): ModuleList(\n",
       "                (0): MaskedLinear(in_features=36, out_features=36, bias=True)\n",
       "                (1): MaskedLinear(in_features=36, out_features=36, bias=True)\n",
       "              )\n",
       "              (dropout): Dropout(p=0.0, inplace=False)\n",
       "            )\n",
       "          )\n",
       "          (final_layer): MaskedLinear(in_features=36, out_features=14, bias=True)\n",
       "        )\n",
       "      )\n",
       "      (4): RandomPermutation()\n",
       "      (5): MaskedAffineAutoregressiveTransform(\n",
       "        (autoregressive_net): MADE(\n",
       "          (initial_layer): MaskedLinear(in_features=7, out_features=36, bias=True)\n",
       "          (blocks): ModuleList(\n",
       "            (0): MaskedResidualBlock(\n",
       "              (linear_layers): ModuleList(\n",
       "                (0): MaskedLinear(in_features=36, out_features=36, bias=True)\n",
       "                (1): MaskedLinear(in_features=36, out_features=36, bias=True)\n",
       "              )\n",
       "              (dropout): Dropout(p=0.0, inplace=False)\n",
       "            )\n",
       "            (1): MaskedResidualBlock(\n",
       "              (linear_layers): ModuleList(\n",
       "                (0): MaskedLinear(in_features=36, out_features=36, bias=True)\n",
       "                (1): MaskedLinear(in_features=36, out_features=36, bias=True)\n",
       "              )\n",
       "              (dropout): Dropout(p=0.0, inplace=False)\n",
       "            )\n",
       "          )\n",
       "          (final_layer): MaskedLinear(in_features=36, out_features=14, bias=True)\n",
       "        )\n",
       "      )\n",
       "    )\n",
       "  )\n",
       "  (_distribution): StandardNormal()\n",
       "  (_embedding_net): Identity()\n",
       ")"
      ]
     },
     "execution_count": 71,
     "metadata": {},
     "output_type": "execute_result"
    }
   ],
   "source": [
    "flow"
   ]
  },
  {
   "cell_type": "code",
   "execution_count": 48,
   "id": "7f58959a-680c-43d7-a8e5-a3a304b898f5",
   "metadata": {},
   "outputs": [],
   "source": [
    "x = torch.randn(10000,7)"
   ]
  },
  {
   "cell_type": "code",
   "execution_count": 49,
   "id": "38b0d7fa-19ba-48fb-883b-94f98ce50f60",
   "metadata": {},
   "outputs": [
    {
     "name": "stdout",
     "output_type": "stream",
     "text": [
      "12.8 ms ± 1.22 ms per loop (mean ± std. dev. of 7 runs, 100 loops each)\n"
     ]
    }
   ],
   "source": [
    "%%timeit\n",
    "prob = flow.log_prob(x)"
   ]
  },
  {
   "cell_type": "code",
   "execution_count": 50,
   "id": "4664a6b9-4020-48e9-9e76-8b72ded499f6",
   "metadata": {},
   "outputs": [
    {
     "data": {
      "text/plain": [
       "(array([1.000e+00, 0.000e+00, 0.000e+00, 2.000e+00, 0.000e+00, 1.000e+00,\n",
       "        1.000e+00, 1.000e+00, 1.000e+00, 4.000e+00, 1.000e+00, 3.000e+00,\n",
       "        1.000e+00, 3.000e+00, 2.000e+00, 1.400e+01, 9.000e+00, 1.400e+01,\n",
       "        1.500e+01, 3.200e+01, 2.000e+01, 3.600e+01, 4.900e+01, 5.800e+01,\n",
       "        8.300e+01, 1.040e+02, 1.510e+02, 1.710e+02, 2.880e+02, 3.090e+02,\n",
       "        3.750e+02, 5.050e+02, 5.980e+02, 7.460e+02, 8.400e+02, 1.065e+03,\n",
       "        1.326e+03, 1.463e+03, 1.680e+03, 2.017e+03, 2.194e+03, 2.455e+03,\n",
       "        2.735e+03, 2.931e+03, 3.022e+03, 3.064e+03, 3.257e+03, 3.215e+03,\n",
       "        3.243e+03, 3.137e+03, 3.029e+03, 2.933e+03, 2.730e+03, 2.572e+03,\n",
       "        2.357e+03, 2.133e+03, 1.965e+03, 1.712e+03, 1.573e+03, 1.369e+03,\n",
       "        1.125e+03, 9.470e+02, 8.070e+02, 6.320e+02, 5.830e+02, 4.310e+02,\n",
       "        4.010e+02, 3.070e+02, 2.760e+02, 2.100e+02, 1.630e+02, 1.120e+02,\n",
       "        9.300e+01, 7.600e+01, 5.700e+01, 4.300e+01, 2.800e+01, 2.300e+01,\n",
       "        1.600e+01, 1.200e+01, 9.000e+00, 1.100e+01, 6.000e+00, 6.000e+00,\n",
       "        0.000e+00, 3.000e+00, 3.000e+00, 1.000e+00, 0.000e+00, 0.000e+00,\n",
       "        0.000e+00, 1.000e+00, 1.000e+00, 1.000e+00, 0.000e+00, 0.000e+00,\n",
       "        0.000e+00, 0.000e+00, 0.000e+00, 1.000e+00]),\n",
       " array([-2.18934727, -2.14201522, -2.09468317, -2.04735112, -2.00001907,\n",
       "        -1.95268703, -1.90535498, -1.85802293, -1.81069088, -1.76335883,\n",
       "        -1.71602678, -1.66869473, -1.62136269, -1.57403064, -1.52669859,\n",
       "        -1.47936654, -1.43203449, -1.38470244, -1.3373704 , -1.29003835,\n",
       "        -1.2427063 , -1.19537425, -1.1480422 , -1.10071015, -1.05337811,\n",
       "        -1.00604606, -0.95871395, -0.9113819 , -0.86404985, -0.8167178 ,\n",
       "        -0.76938576, -0.72205371, -0.67472166, -0.62738961, -0.58005756,\n",
       "        -0.53272551, -0.48539343, -0.43806139, -0.39072934, -0.34339729,\n",
       "        -0.29606524, -0.24873318, -0.20140113, -0.15406908, -0.10673703,\n",
       "        -0.05940498, -0.01207293,  0.03525912,  0.08259117,  0.12992322,\n",
       "         0.17725527,  0.22458732,  0.27191937,  0.31925142,  0.36658347,\n",
       "         0.41391551,  0.46124756,  0.50857961,  0.55591166,  0.60324371,\n",
       "         0.65057576,  0.69790781,  0.74523985,  0.79257196,  0.83990401,\n",
       "         0.88723606,  0.93456811,  0.98190016,  1.02923214,  1.07656419,\n",
       "         1.12389624,  1.17122829,  1.21856034,  1.26589239,  1.31322443,\n",
       "         1.3605566 ,  1.40788865,  1.4552207 ,  1.50255275,  1.5498848 ,\n",
       "         1.59721684,  1.64454889,  1.69188094,  1.73921299,  1.78654504,\n",
       "         1.83387709,  1.88120914,  1.92854118,  1.97587323,  2.02320528,\n",
       "         2.07053733,  2.11786938,  2.16520143,  2.21253347,  2.25986552,\n",
       "         2.30719757,  2.35452962,  2.40186167,  2.44919372,  2.49652576,\n",
       "         2.54385781]),\n",
       " <BarContainer object of 100 artists>)"
      ]
     },
     "execution_count": 50,
     "metadata": {},
     "output_type": "execute_result"
    },
    {
     "data": {
      "image/png": "[encoded data removed]",
      "text/plain": [
       "<Figure size 640x480 with 1 Axes>"
      ]
     },
     "metadata": {},
     "output_type": "display_data"
    }
   ],
   "source": [
    "plt.hist(flow.transform_to_noise(x).detach().numpy().flatten(), bins=100)"
   ]
  },
  {
   "cell_type": "code",
   "execution_count": 51,
   "id": "a7f9afa5-1e62-4118-ae55-4f155d59a4b1",
   "metadata": {},
   "outputs": [
    {
     "data": {
      "text/plain": [
       "(array([  1.,   0.,   0.,   0.,   0.,   0.,   0.,   0.,   0.,   0.,   0.,\n",
       "          1.,   0.,   0.,   0.,   0.,   0.,   0.,   1.,   0.,   0.,   1.,\n",
       "          0.,   1.,   0.,   1.,   1.,   1.,   3.,   2.,   4.,   2.,   2.,\n",
       "          3.,   3.,   7.,   7.,   9.,   7.,   8.,  12.,  15.,  15.,  18.,\n",
       "         21.,  26.,  27.,  35.,  42.,  33.,  49.,  52.,  51.,  68.,  65.,\n",
       "         76.,  82.,  87.,  90., 141., 141., 159., 163., 194., 192., 219.,\n",
       "        214., 273., 286., 309., 294., 355., 330., 364., 390., 373., 377.,\n",
       "        412., 368., 351., 349., 362., 354., 316., 303., 291., 250., 202.,\n",
       "        179., 147., 106.,  94.,  70.,  68.,  30.,  19.,   9.,   6.,   6.,\n",
       "          5.]),\n",
       " array([-17.53205299, -17.48608208, -17.44010925, -17.39413834,\n",
       "        -17.34816551, -17.3021946 , -17.25622368, -17.21025085,\n",
       "        -17.16427994, -17.11830711, -17.0723362 , -17.02636528,\n",
       "        -16.98039246, -16.93442154, -16.88844872, -16.8424778 ,\n",
       "        -16.79650688, -16.75053406, -16.70456314, -16.65859032,\n",
       "        -16.6126194 , -16.56664848, -16.52067566, -16.47470474,\n",
       "        -16.42873192, -16.382761  , -16.33679008, -16.29081726,\n",
       "        -16.24484634, -16.19887352, -16.1529026 , -16.10693169,\n",
       "        -16.06095886, -16.01498795, -15.96901608, -15.9230442 ,\n",
       "        -15.87707233, -15.83110046, -15.78512955, -15.73915768,\n",
       "        -15.69318581, -15.64721394, -15.60124207, -15.55527115,\n",
       "        -15.50929928, -15.46332741, -15.41735554, -15.37138367,\n",
       "        -15.32541275, -15.27944088, -15.23346901, -15.18749714,\n",
       "        -15.14152527, -15.09555435, -15.04958248, -15.00361061,\n",
       "        -14.95763874, -14.91166687, -14.86569595, -14.81972408,\n",
       "        -14.77375221, -14.72778034, -14.68180847, -14.63583755,\n",
       "        -14.58986568, -14.54389381, -14.49792194, -14.45195007,\n",
       "        -14.40597916, -14.36000729, -14.31403542, -14.26806355,\n",
       "        -14.22209167, -14.17612076, -14.13014889, -14.08417702,\n",
       "        -14.03820515, -13.99223328, -13.94626236, -13.90029049,\n",
       "        -13.85431862, -13.80834675, -13.76237488, -13.71640396,\n",
       "        -13.67043209, -13.62446022, -13.57848835, -13.53251648,\n",
       "        -13.48654556, -13.44057369, -13.39460182, -13.34862995,\n",
       "        -13.30265808, -13.25668716, -13.21071529, -13.16474342,\n",
       "        -13.11877155, -13.07279968, -13.02682877, -12.9808569 ,\n",
       "        -12.93488503]),\n",
       " <BarContainer object of 100 artists>)"
      ]
     },
     "execution_count": 51,
     "metadata": {},
     "output_type": "execute_result"
    },
    {
     "data": {
      "image/png": "[encoded data removed]",
      "text/plain": [
       "<Figure size 640x480 with 1 Axes>"
      ]
     },
     "metadata": {},
     "output_type": "display_data"
    }
   ],
   "source": [
    "plt.hist(flow.log_prob(x).detach().numpy(), bins=100)"
   ]
  },
  {
   "cell_type": "code",
   "execution_count": 52,
   "id": "a10ca7d8-67e8-43c9-a876-d1f1d20b7899",
   "metadata": {},
   "outputs": [
    {
     "name": "stdout",
     "output_type": "stream",
     "text": [
      "88.4 ms ± 6.07 ms per loop (mean ± std. dev. of 7 runs, 10 loops each)\n"
     ]
    }
   ],
   "source": [
    "%%timeit\n",
    "samples = flow.sample(10000)"
   ]
  },
  {
   "cell_type": "code",
   "execution_count": 107,
   "id": "d8a83d22-1abd-45f5-bce3-cffbf198c0cf",
   "metadata": {},
   "outputs": [],
   "source": [
    "samples = flow.sample(10000)"
   ]
  },
  {
   "cell_type": "code",
   "execution_count": 72,
   "id": "247d9420-8188-4b48-a0a6-e3fe5463b62a",
   "metadata": {},
   "outputs": [
    {
     "data": {
      "text/plain": [
       "tensor([[ 3.1385,  2.1119,  3.9893,  ..., -2.3763, -4.0163,  2.2688],\n",
       "        [ 1.6276, -2.4258,  1.0735,  ...,  4.2858, -4.6150,  1.5192],\n",
       "        [ 2.6981, -0.5572,  2.1691,  ...,  2.2403, -4.3343, -0.0933],\n",
       "        ...,\n",
       "        [-1.3603,  0.9711,  2.9449,  ..., -4.0825, -2.2342, -1.8655],\n",
       "        [-1.4279, -4.2873,  0.7951,  ...,  0.8065,  4.0543, -0.4443],\n",
       "        [-1.2333,  0.7318, -0.2392,  ..., -1.8454, -3.7835,  0.1593]],\n",
       "       grad_fn=<IndexSelectBackward0>)"
      ]
     },
     "execution_count": 72,
     "metadata": {},
     "output_type": "execute_result"
    }
   ],
   "source": [
    "samples"
   ]
  },
  {
   "cell_type": "code",
   "execution_count": 84,
   "id": "84414ad5-a9e5-4b56-8100-f4e98e2e7725",
   "metadata": {},
   "outputs": [
    {
     "data": {
      "text/plain": [
       "(array([  35.,   34.,   44.,   57.,   51.,   44.,   67.,   71.,   87.,\n",
       "          88.,   91.,  110.,  124.,  132.,  149.,  164.,  156.,  180.,\n",
       "         220.,  238.,  245.,  292.,  307.,  376.,  406.,  471.,  479.,\n",
       "         549.,  588.,  694.,  719.,  789.,  891.,  936., 1060., 1195.,\n",
       "        1245., 1340., 1452., 1486., 1644., 1640., 1705., 1772., 1808.,\n",
       "        1924., 1890., 1817., 1879., 1971., 1892., 1785., 1742., 1743.,\n",
       "        1628., 1581., 1529., 1416., 1327., 1262., 1205., 1046., 1063.,\n",
       "         934.,  881.,  829.,  820.,  739.,  698.,  596.,  604.,  594.,\n",
       "         509.,  495.,  437.,  425.,  375.,  355.,  334.,  279.,  311.,\n",
       "         254.,  264.,  247.,  204.,  196.,  208.,  166.,  151.,  140.,\n",
       "         124.,  109.,  119.,  100.,   96.,   92.,   92.,   88.,   78.,\n",
       "          63.]),\n",
       " array([-10.        ,  -9.80000019,  -9.60000038,  -9.39999962,\n",
       "         -9.19999981,  -9.        ,  -8.80000019,  -8.60000038,\n",
       "         -8.39999962,  -8.19999981,  -8.        ,  -7.80000019,\n",
       "         -7.5999999 ,  -7.4000001 ,  -7.19999981,  -7.        ,\n",
       "         -6.80000019,  -6.5999999 ,  -6.4000001 ,  -6.19999981,\n",
       "         -6.        ,  -5.80000019,  -5.5999999 ,  -5.4000001 ,\n",
       "         -5.19999981,  -5.        ,  -4.80000019,  -4.5999999 ,\n",
       "         -4.4000001 ,  -4.19999981,  -4.        ,  -3.79999995,\n",
       "         -3.5999999 ,  -3.4000001 ,  -3.20000005,  -3.        ,\n",
       "         -2.79999995,  -2.5999999 ,  -2.4000001 ,  -2.20000005,\n",
       "         -2.        ,  -1.79999995,  -1.60000002,  -1.39999998,\n",
       "         -1.20000005,  -1.        ,  -0.80000001,  -0.60000002,\n",
       "         -0.40000001,  -0.2       ,   0.        ,   0.2       ,\n",
       "          0.40000001,   0.60000002,   0.80000001,   1.        ,\n",
       "          1.20000005,   1.39999998,   1.60000002,   1.79999995,\n",
       "          2.        ,   2.20000005,   2.4000001 ,   2.5999999 ,\n",
       "          2.79999995,   3.        ,   3.20000005,   3.4000001 ,\n",
       "          3.5999999 ,   3.79999995,   4.        ,   4.19999981,\n",
       "          4.4000001 ,   4.5999999 ,   4.80000019,   5.        ,\n",
       "          5.19999981,   5.4000001 ,   5.5999999 ,   5.80000019,\n",
       "          6.        ,   6.19999981,   6.4000001 ,   6.5999999 ,\n",
       "          6.80000019,   7.        ,   7.19999981,   7.4000001 ,\n",
       "          7.5999999 ,   7.80000019,   8.        ,   8.19999981,\n",
       "          8.39999962,   8.60000038,   8.80000019,   9.        ,\n",
       "          9.19999981,   9.39999962,   9.60000038,   9.80000019,\n",
       "         10.        ]),\n",
       " <BarContainer object of 100 artists>)"
      ]
     },
     "execution_count": 84,
     "metadata": {},
     "output_type": "execute_result"
    },
    {
     "data": {
      "image/png": "[encoded data removed]",
      "text/plain": [
       "<Figure size 640x480 with 1 Axes>"
      ]
     },
     "metadata": {},
     "output_type": "display_data"
    }
   ],
   "source": [
    "plt.hist(samples.detach().numpy().flatten(), bins=100, range=(-10,10))"
   ]
  },
  {
   "cell_type": "code",
   "execution_count": 109,
   "id": "e2c06e16-61b7-49d8-903e-522c6956d7a0",
   "metadata": {},
   "outputs": [
    {
     "data": {
      "text/plain": [
       "(array([15820.,  2559.,  1630.,  1238.,   994.,   890.,   772.,   700.,\n",
       "          617.,   548.,   467.,   487.,   417.,   421.,   388.,   339.,\n",
       "          342.,   331.,   311.,   291.,   285.,   294.,   274.,   249.,\n",
       "          276.,   276.,   266.,   231.,   234.,   226.,   237.,   214.,\n",
       "          184.,   214.,   194.,   202.,   187.,   194.,   201.,   228.,\n",
       "          226.,   202.,   175.,   193.,   220.,   198.,   170.,   190.,\n",
       "          190.,   191.,   187.,   189.,   185.,   194.,   181.,   195.,\n",
       "          198.,   171.,   187.,   177.,   200.,   175.,   203.,   191.,\n",
       "          197.,   211.,   188.,   190.,   179.,   189.,   209.,   202.,\n",
       "          238.,   223.,   205.,   235.,   267.,   217.,   257.,   253.,\n",
       "          282.,   263.,   302.,   354.,   337.,   338.,   328.,   406.,\n",
       "          397.,   460.,   445.,   495.,   592.,   654.,   657.,   836.,\n",
       "         1024.,  1330.,  2083., 16141.]),\n",
       " array([0.        , 0.01      , 0.02      , 0.03      , 0.04      ,\n",
       "        0.05      , 0.06      , 0.07      , 0.08      , 0.09      ,\n",
       "        0.1       , 0.11      , 0.12      , 0.13      , 0.14      ,\n",
       "        0.15000001, 0.16      , 0.17      , 0.18000001, 0.19      ,\n",
       "        0.2       , 0.20999999, 0.22      , 0.23      , 0.23999999,\n",
       "        0.25      , 0.25999999, 0.27000001, 0.28      , 0.28999999,\n",
       "        0.30000001, 0.31      , 0.31999999, 0.33000001, 0.34      ,\n",
       "        0.34999999, 0.36000001, 0.37      , 0.38      , 0.38999999,\n",
       "        0.40000001, 0.41      , 0.41999999, 0.43000001, 0.44      ,\n",
       "        0.44999999, 0.46000001, 0.47      , 0.47999999, 0.49000001,\n",
       "        0.5       , 0.50999999, 0.51999998, 0.52999997, 0.54000002,\n",
       "        0.55000001, 0.56      , 0.56999999, 0.57999998, 0.58999997,\n",
       "        0.60000002, 0.61000001, 0.62      , 0.63      , 0.63999999,\n",
       "        0.64999998, 0.66000003, 0.67000002, 0.68000001, 0.69      ,\n",
       "        0.69999999, 0.70999998, 0.72000003, 0.73000002, 0.74000001,\n",
       "        0.75      , 0.75999999, 0.76999998, 0.77999997, 0.79000002,\n",
       "        0.80000001, 0.81      , 0.81999999, 0.82999998, 0.83999997,\n",
       "        0.85000002, 0.86000001, 0.87      , 0.88      , 0.88999999,\n",
       "        0.89999998, 0.91000003, 0.92000002, 0.93000001, 0.94      ,\n",
       "        0.94999999, 0.95999998, 0.97000003, 0.98000002, 0.99000001,\n",
       "        1.        ]),\n",
       " <BarContainer object of 100 artists>)"
      ]
     },
     "execution_count": 109,
     "metadata": {},
     "output_type": "execute_result"
    },
    {
     "data": {
      "image/png": "[encoded data removed]",
      "text/plain": [
       "<Figure size 640x480 with 1 Axes>"
      ]
     },
     "metadata": {},
     "output_type": "display_data"
    }
   ],
   "source": [
    "y = ((torch.tanh(samples)/2)+0.5)\n",
    "plt.hist(y.detach().numpy().flatten(), bins=100)"
   ]
  },
  {
   "cell_type": "code",
   "execution_count": 102,
   "id": "71d0b1bb-eb52-4ae0-b842-2149f00fb0d6",
   "metadata": {},
   "outputs": [],
   "source": [
    "x = np.arange(-30, 30)"
   ]
  },
  {
   "cell_type": "code",
   "execution_count": 103,
   "id": "20554747-058d-429d-acaf-6b5aca5f8f55",
   "metadata": {},
   "outputs": [
    {
     "data": {
      "text/plain": [
       "[<matplotlib.lines.Line2D at 0x7fb1bf81a1f0>]"
      ]
     },
     "execution_count": 103,
     "metadata": {},
     "output_type": "execute_result"
    },
    {
     "data": {
      "image/png": "[encoded data removed]",
      "text/plain": [
       "<Figure size 640x480 with 1 Axes>"
      ]
     },
     "metadata": {},
     "output_type": "display_data"
    }
   ],
   "source": [
    "plt.plot(x, 1/(1+np.exp(x)))\n",
    "plt.plot(x, (np.tanh(x)/2)+0.5)\n",
    "plt.plot(x, np.tan((x+0.5)*np.pi))"
   ]
  },
  {
   "cell_type": "code",
   "execution_count": 94,
   "id": "4b5ab3cf-59ea-4ab2-a88a-119a4ec5872e",
   "metadata": {},
   "outputs": [
    {
     "data": {
      "text/plain": [
       "[<matplotlib.lines.Line2D at 0x7fb1bfcb9580>]"
      ]
     },
     "execution_count": 94,
     "metadata": {},
     "output_type": "execute_result"
    },
    {
     "data": {
      "image/png": "[encoded data removed]",
      "text/plain": [
       "<Figure size 640x480 with 1 Axes>"
      ]
     },
     "metadata": {},
     "output_type": "display_data"
    }
   ],
   "source": []
  },
  {
   "cell_type": "code",
   "execution_count": null,
   "id": "1a337d45-9f2f-488c-bfc8-c54782043abf",
   "metadata": {},
   "outputs": [],
   "source": [
    " x / (1 + abs(x / self.bound))"
   ]
  }
 ],
 "metadata": {
  "kernelspec": {
   "display_name": "Python 3 (ipykernel)",
   "language": "python",
   "name": "python3"
  },
  "language_info": {
   "codemirror_mode": {
    "name": "ipython",
    "version": 3
   },
   "file_extension": ".py",
   "mimetype": "text/x-python",
   "name": "python",
   "nbconvert_exporter": "python",
   "pygments_lexer": "ipython3",
   "version": "3.9.14"
  }
 },
 "nbformat": 4,
 "nbformat_minor": 5
}
