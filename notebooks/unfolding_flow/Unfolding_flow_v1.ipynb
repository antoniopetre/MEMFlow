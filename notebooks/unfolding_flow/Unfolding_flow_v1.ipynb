{
 "cells": [
  {
   "cell_type": "code",
   "execution_count": 1,
   "metadata": {},
   "outputs": [],
   "source": [
    "from torch.utils.data import DataLoader\n",
    "import torch.nn as nn\n",
    "import torch\n",
    "import numpy as np\n",
    "import matplotlib.pyplot as plt\n",
    "from matplotlib.colors import LogNorm\n",
    "import plot_loss\n",
    "from torch import optim\n",
    "from tqdm.notebook import trange\n",
    "\n",
    "from memflow.read_data.dataset_all import DatasetCombined\n",
    "from memflow.unfolding_network.conditional_transformer import ConditioningTransformerLayer"
   ]
  },
  {
   "cell_type": "code",
   "execution_count": 2,
   "metadata": {},
   "outputs": [],
   "source": [
    "import sys"
   ]
  },
  {
   "cell_type": "code",
   "execution_count": 3,
   "metadata": {},
   "outputs": [
    {
     "data": {
      "text/plain": [
       "['/afs/cern.ch/user/a/adpetre/public/MEMFlow/notebooks/unfolding_flow',\n",
       " '/cvmfs/sft.cern.ch/lcg/views/LCG_103cuda/x86_64-centos9-gcc11-opt/lib/python3.9/site-packages/itk',\n",
       " '/cvmfs/sft.cern.ch/lcg/views/LCG_103cuda/x86_64-centos9-gcc11-opt/python',\n",
       " '/cvmfs/sft.cern.ch/lcg/views/LCG_103cuda/x86_64-centos9-gcc11-opt/lib',\n",
       " '',\n",
       " '/cvmfs/sft.cern.ch/lcg/views/LCG_103cuda/x86_64-centos9-gcc11-opt/lib/python3.9/site-packages',\n",
       " '/cvmfs/sft.cern.ch/lcg/releases/Python/3.9.12-9a1bc/x86_64-centos9-gcc11-opt/lib/python39.zip',\n",
       " '/cvmfs/sft.cern.ch/lcg/releases/Python/3.9.12-9a1bc/x86_64-centos9-gcc11-opt/lib/python3.9',\n",
       " '/cvmfs/sft.cern.ch/lcg/releases/Python/3.9.12-9a1bc/x86_64-centos9-gcc11-opt/lib/python3.9/lib-dynload',\n",
       " '/afs/cern.ch/user/a/adpetre/public/myenv/lib/python3.9/site-packages',\n",
       " '/afs/cern.ch/user/a/adpetre/public/zuko',\n",
       " '/cvmfs/sft.cern.ch/lcg/views/LCG_103cuda/x86_64-centos9-gcc11-opt/lib/python3.9/site-packages/IPython/extensions',\n",
       " '/afs/cern.ch/user/a/adpetre/.ipython']"
      ]
     },
     "execution_count": 3,
     "metadata": {},
     "output_type": "execute_result"
    }
   ],
   "source": [
    "sys.path"
   ]
  },
  {
   "cell_type": "code",
   "execution_count": 4,
   "metadata": {},
   "outputs": [
    {
     "name": "stdout",
     "output_type": "stream",
     "text": [
      "jets file already exists\n",
      "lepton_reco file already exists\n",
      "met file already exists\n",
      "boost file already exists\n",
      "partons file already exists\n",
      "lepton_partons file already exists\n",
      "boost file already exists\n",
      "H_thad_tlep_ISR file already exists\n",
      "H_thad_tlep_ISR_cartesian file already exists\n"
     ]
    }
   ],
   "source": [
    "dataset = DatasetCombined(\"../../../dataset/v7/\")\n",
    "batch_size = 512\n",
    "# Read data\n",
    "dataiterator = DataLoader(dataset, batch_size=batch_size, shuffle=True, drop_last=True)"
   ]
  },
  {
   "cell_type": "code",
   "execution_count": 5,
   "metadata": {},
   "outputs": [],
   "source": [
    "(mask_partons, data_partons, \n",
    "mask_lepton_partons, data_lepton_partons, \n",
    "mask_boost_parton, data_boost_parton, \n",
    "data_intermediate, data_intermediate_cartesian,\n",
    "data_ps, data_ps_detjacinv, \n",
    "mask_lepton, data_lepton, mask_jets,\n",
    "data_jets,mask_met, data_met,\n",
    "mask_boost_reco,data_boost_reco) =  next(iter(dataiterator))"
   ]
  },
  {
   "cell_type": "code",
   "execution_count": 6,
   "metadata": {},
   "outputs": [
    {
     "data": {
      "text/plain": [
       "(array([197.,  43.,  32.,  13.,   8.,  11.,  15.,   9.,   6.,   4.,   5.,\n",
       "          2.,   2.,   5.,   5.,   6.,   5.,   6.,   3.,   7.,   0.,   0.,\n",
       "          3.,   2.,   3.,   1.,   1.,   1.,   0.,   1.,   1.,   1.,   3.,\n",
       "          1.,   1.,   0.,   3.,   2.,   0.,   0.,   1.,   2.,   2.,   0.,\n",
       "          1.,   0.,   2.,   4.,   1.,   1.,   0.,   0.,   2.,   2.,   0.,\n",
       "          1.,   0.,   0.,   0.,   1.,   0.,   0.,   1.,   0.,   0.,   0.,\n",
       "          0.,   3.,   0.,   0.,   0.,   0.,   3.,   1.,   0.,   0.,   0.,\n",
       "          0.,   0.,   0.,   1.,   2.,   0.,   0.,   1.,   0.,   0.,   0.,\n",
       "          0.,   0.,   0.,   0.,   0.,   0.,   0.,   0.,   0.,   1.,   0.,\n",
       "          0.]),\n",
       " array([0.0e+00, 1.0e-04, 2.0e-04, 3.0e-04, 4.0e-04, 5.0e-04, 6.0e-04,\n",
       "        7.0e-04, 8.0e-04, 9.0e-04, 1.0e-03, 1.1e-03, 1.2e-03, 1.3e-03,\n",
       "        1.4e-03, 1.5e-03, 1.6e-03, 1.7e-03, 1.8e-03, 1.9e-03, 2.0e-03,\n",
       "        2.1e-03, 2.2e-03, 2.3e-03, 2.4e-03, 2.5e-03, 2.6e-03, 2.7e-03,\n",
       "        2.8e-03, 2.9e-03, 3.0e-03, 3.1e-03, 3.2e-03, 3.3e-03, 3.4e-03,\n",
       "        3.5e-03, 3.6e-03, 3.7e-03, 3.8e-03, 3.9e-03, 4.0e-03, 4.1e-03,\n",
       "        4.2e-03, 4.3e-03, 4.4e-03, 4.5e-03, 4.6e-03, 4.7e-03, 4.8e-03,\n",
       "        4.9e-03, 5.0e-03, 5.1e-03, 5.2e-03, 5.3e-03, 5.4e-03, 5.5e-03,\n",
       "        5.6e-03, 5.7e-03, 5.8e-03, 5.9e-03, 6.0e-03, 6.1e-03, 6.2e-03,\n",
       "        6.3e-03, 6.4e-03, 6.5e-03, 6.6e-03, 6.7e-03, 6.8e-03, 6.9e-03,\n",
       "        7.0e-03, 7.1e-03, 7.2e-03, 7.3e-03, 7.4e-03, 7.5e-03, 7.6e-03,\n",
       "        7.7e-03, 7.8e-03, 7.9e-03, 8.0e-03, 8.1e-03, 8.2e-03, 8.3e-03,\n",
       "        8.4e-03, 8.5e-03, 8.6e-03, 8.7e-03, 8.8e-03, 8.9e-03, 9.0e-03,\n",
       "        9.1e-03, 9.2e-03, 9.3e-03, 9.4e-03, 9.5e-03, 9.6e-03, 9.7e-03,\n",
       "        9.8e-03, 9.9e-03, 1.0e-02], dtype=float32),\n",
       " <BarContainer object of 100 artists>)"
      ]
     },
     "execution_count": 6,
     "metadata": {},
     "output_type": "execute_result"
    },
    {
     "data": {
      "image/png": "[encoded data removed]",
      "text/plain": [
       "<Figure size 432x288 with 1 Axes>"
      ]
     },
     "metadata": {
      "needs_background": "light"
     },
     "output_type": "display_data"
    }
   ],
   "source": [
    "plt.hist(data_ps_detjacinv.flatten().numpy(), bins=100, range=(0, 0.01))"
   ]
  },
  {
   "cell_type": "code",
   "execution_count": 7,
   "metadata": {},
   "outputs": [
    {
     "ename": "RuntimeError",
     "evalue": "Device index must not be negative",
     "output_type": "error",
     "traceback": [
      "\u001b[0;31m---------------------------------------------------------------------------\u001b[0m",
      "\u001b[0;31mRuntimeError\u001b[0m                              Traceback (most recent call last)",
      "\u001b[0;32m/tmp/adpetre/ipykernel_2723664/1333274368.py\u001b[0m in \u001b[0;36m<module>\u001b[0;34m\u001b[0m\n\u001b[1;32m      5\u001b[0m \u001b[0;34m\u001b[0m\u001b[0m\n\u001b[1;32m      6\u001b[0m \u001b[0;31m# Obtain conditional_input from transformer (pass batches and masks to `forward` method)\u001b[0m\u001b[0;34m\u001b[0m\u001b[0;34m\u001b[0m\u001b[0m\n\u001b[0;32m----> 7\u001b[0;31m conditional_input = transformer.forward(data_jets, data_lepton, data_met,\n\u001b[0m\u001b[1;32m      8\u001b[0m                                         \u001b[0mdata_boost_reco\u001b[0m\u001b[0;34m,\u001b[0m \u001b[0mmask_jets\u001b[0m\u001b[0;34m,\u001b[0m\u001b[0;34m\u001b[0m\u001b[0;34m\u001b[0m\u001b[0m\n\u001b[1;32m      9\u001b[0m                                         mask_lepton, mask_met, mask_boost_reco)\n",
      "\u001b[0;32m~/public/MEMFlow/memflow/unfolding_network/conditional_transformer.py\u001b[0m in \u001b[0;36mforward\u001b[0;34m(self, batch_jet, batch_lepton, batch_met, batch_boost, mask_jets, mask_lepton, mask_met, mask_boost)\u001b[0m\n\u001b[1;32m     45\u001b[0m         \u001b[0mdev\u001b[0m \u001b[0;34m=\u001b[0m \u001b[0mbatch_jet\u001b[0m\u001b[0;34m.\u001b[0m\u001b[0mget_device\u001b[0m\u001b[0;34m(\u001b[0m\u001b[0;34m)\u001b[0m\u001b[0;34m\u001b[0m\u001b[0;34m\u001b[0m\u001b[0m\n\u001b[1;32m     46\u001b[0m \u001b[0;34m\u001b[0m\u001b[0m\n\u001b[0;32m---> 47\u001b[0;31m         \u001b[0mones\u001b[0m \u001b[0;34m=\u001b[0m \u001b[0mtorch\u001b[0m\u001b[0;34m.\u001b[0m\u001b[0mones\u001b[0m\u001b[0;34m(\u001b[0m\u001b[0mbatch_size\u001b[0m\u001b[0;34m,\u001b[0m \u001b[0mno_jets\u001b[0m\u001b[0;34m,\u001b[0m \u001b[0;36m1\u001b[0m\u001b[0;34m)\u001b[0m\u001b[0;34m.\u001b[0m\u001b[0mto\u001b[0m\u001b[0;34m(\u001b[0m\u001b[0mdev\u001b[0m\u001b[0;34m)\u001b[0m  \u001b[0;31m# type jet = 1\u001b[0m\u001b[0;34m\u001b[0m\u001b[0;34m\u001b[0m\u001b[0m\n\u001b[0m\u001b[1;32m     48\u001b[0m         \u001b[0mtwo\u001b[0m \u001b[0;34m=\u001b[0m \u001b[0;36m2\u001b[0m \u001b[0;34m*\u001b[0m \u001b[0mtorch\u001b[0m\u001b[0;34m.\u001b[0m\u001b[0mones\u001b[0m\u001b[0;34m(\u001b[0m\u001b[0mbatch_size\u001b[0m\u001b[0;34m,\u001b[0m \u001b[0mno_lept\u001b[0m\u001b[0;34m,\u001b[0m \u001b[0;36m1\u001b[0m\u001b[0;34m)\u001b[0m\u001b[0;34m.\u001b[0m\u001b[0mto\u001b[0m\u001b[0;34m(\u001b[0m\u001b[0mdev\u001b[0m\u001b[0;34m)\u001b[0m  \u001b[0;31m# type lepton = 2\u001b[0m\u001b[0;34m\u001b[0m\u001b[0;34m\u001b[0m\u001b[0m\n\u001b[1;32m     49\u001b[0m         \u001b[0mthree\u001b[0m \u001b[0;34m=\u001b[0m \u001b[0;36m3\u001b[0m \u001b[0;34m*\u001b[0m \u001b[0mtorch\u001b[0m\u001b[0;34m.\u001b[0m\u001b[0mones\u001b[0m\u001b[0;34m(\u001b[0m\u001b[0mbatch_size\u001b[0m\u001b[0;34m,\u001b[0m \u001b[0;36m1\u001b[0m\u001b[0;34m,\u001b[0m \u001b[0;36m1\u001b[0m\u001b[0;34m)\u001b[0m\u001b[0;34m.\u001b[0m\u001b[0mto\u001b[0m\u001b[0;34m(\u001b[0m\u001b[0mdev\u001b[0m\u001b[0;34m)\u001b[0m  \u001b[0;31m# type met = 3\u001b[0m\u001b[0;34m\u001b[0m\u001b[0;34m\u001b[0m\u001b[0m\n",
      "\u001b[0;31mRuntimeError\u001b[0m: Device index must not be negative"
     ]
    }
   ],
   "source": [
    "# Initialize Transformer Layer\n",
    "transformer = ConditioningTransformerLayer(jets_features=data_jets.size(2), \n",
    "                                           lepton_features=data_lepton.size(2), \n",
    "                                           out_features=32, nhead=8, no_layers=3)\n",
    "\n",
    "# Obtain conditional_input from transformer (pass batches and masks to `forward` method)\n",
    "conditional_input = transformer.forward(data_jets, data_lepton, data_met,\n",
    "                                        data_boost_reco, mask_jets, \n",
    "                                        mask_lepton, mask_met, mask_boost_reco)"
   ]
  },
  {
   "cell_type": "code",
   "execution_count": null,
   "metadata": {},
   "outputs": [],
   "source": [
    "plt.hist2d(conditional_input.detach().numpy()[:, 0], \n",
    "           conditional_input.detach().numpy()[:, 1], bins=100) ;"
   ]
  },
  {
   "cell_type": "code",
   "execution_count": null,
   "metadata": {},
   "outputs": [],
   "source": [
    "plt.figure(figsize=(8,8), dpi=150)\n",
    "plt.imshow(conditional_input.T.detach().numpy(), cmap=\"bwr\")"
   ]
  },
  {
   "cell_type": "markdown",
   "metadata": {},
   "source": [
    "# Setup the flow"
   ]
  },
  {
   "cell_type": "code",
   "execution_count": 4,
   "metadata": {},
   "outputs": [],
   "source": [
    "import zuko"
   ]
  },
  {
   "cell_type": "code",
   "execution_count": 5,
   "metadata": {},
   "outputs": [],
   "source": [
    "from zuko.flows import TransformModule, SimpleAffineTransform\n",
    "from zuko.distributions import BoxUniform"
   ]
  },
  {
   "cell_type": "code",
   "execution_count": null,
   "metadata": {},
   "outputs": [],
   "source": [
    "from tensorboardX import SummaryWriter\n",
    "\n",
    "writer = SummaryWriter()"
   ]
  },
  {
   "cell_type": "code",
   "execution_count": 6,
   "metadata": {},
   "outputs": [],
   "source": [
    "def build_flow(nfeatures=10, ncond=32, ntransforms=4, hidden_mlp=[32]*3, bins=8, autoregressive=True):\n",
    "    \n",
    "    flow = zuko.flows.NSF(features=nfeatures,\n",
    "                          context=ncond, \n",
    "                          transforms=ntransforms, \n",
    "                          bins=bins, \n",
    "                          hidden_features=hidden_mlp, \n",
    "                          randperm=False,\n",
    "                          base=BoxUniform,\n",
    "                          base_args=[torch.ones(nfeatures)*(-1),torch.ones(nfeatures)], \n",
    "                          univariate_kwargs={\"bound\": 1 }, # Keeping the flow in the [-1,1] box.\n",
    "                          passes= 2 if not autoregressive else nfeatures)\n",
    "\n",
    "    flow.transforms.insert(0, SimpleAffineTransform(0*torch.ones(nfeatures),1*torch.ones(nfeatures),\n",
    "                                                 -1*torch.ones(nfeatures), 1*torch.ones(nfeatures)))\n",
    "    \n",
    "    return flow"
   ]
  },
  {
   "cell_type": "code",
   "execution_count": 7,
   "metadata": {},
   "outputs": [],
   "source": [
    "def count_parameters(model):\n",
    "    return sum(p.numel() for p in model.parameters() if p.requires_grad)"
   ]
  },
  {
   "cell_type": "code",
   "execution_count": 10,
   "metadata": {},
   "outputs": [
    {
     "name": "stdout",
     "output_type": "stream",
     "text": [
      "parameters, 180320\n"
     ]
    }
   ],
   "source": [
    "fl1 = build_flow(nfeatures=10,\n",
    "                 ncond=34, \n",
    "                 ntransforms=6, \n",
    "                 hidden_mlp=[64]*3, \n",
    "                 bins=10, \n",
    "                 autoregressive=False)\n",
    "\n",
    "cond_transformer = ConditioningTransformerLayer(jets_features=data_jets.size(2), \n",
    "                                           lepton_features=data_lepton.size(2), \n",
    "                                           out_features=32, nhead=8, no_layers=3)\n",
    "\n",
    "print(f\"parameters, {count_parameters(fl1)}\")"
   ]
  },
  {
   "cell_type": "code",
   "execution_count": 12,
   "metadata": {},
   "outputs": [
    {
     "ename": "NameError",
     "evalue": "name 'conditional_input' is not defined",
     "output_type": "error",
     "traceback": [
      "\u001b[0;31m---------------------------------------------------------------------------\u001b[0m",
      "\u001b[0;31mNameError\u001b[0m                                 Traceback (most recent call last)",
      "\u001b[0;32m/tmp/adpetre/ipykernel_2550711/3534041702.py\u001b[0m in \u001b[0;36m<module>\u001b[0;34m\u001b[0m\n\u001b[0;32m----> 1\u001b[0;31m \u001b[0mps_samples\u001b[0m \u001b[0;34m=\u001b[0m \u001b[0mfl1\u001b[0m\u001b[0;34m(\u001b[0m\u001b[0mconditional_input\u001b[0m\u001b[0;34m)\u001b[0m\u001b[0;34m.\u001b[0m\u001b[0msample\u001b[0m\u001b[0;34m(\u001b[0m\u001b[0;34m(\u001b[0m\u001b[0;36m100\u001b[0m\u001b[0;34m,\u001b[0m \u001b[0;34m)\u001b[0m\u001b[0;34m)\u001b[0m\u001b[0;34m\u001b[0m\u001b[0;34m\u001b[0m\u001b[0m\n\u001b[0m",
      "\u001b[0;31mNameError\u001b[0m: name 'conditional_input' is not defined"
     ]
    }
   ],
   "source": [
    "ps_samples = fl1(conditional_input).sample((100, ))"
   ]
  },
  {
   "cell_type": "code",
   "execution_count": null,
   "metadata": {},
   "outputs": [],
   "source": [
    "%%timeit\n",
    "ps_samples = fl1(conditional_input).sample((1, ))"
   ]
  },
  {
   "cell_type": "code",
   "execution_count": null,
   "metadata": {},
   "outputs": [],
   "source": [
    "%%timeit\n",
    "ps_prob = fl1(conditional_input).log_prob(data_ps)"
   ]
  },
  {
   "cell_type": "code",
   "execution_count": null,
   "metadata": {},
   "outputs": [],
   "source": [
    "plt.hist(ps_prob.detach().log().numpy(), bins=50);"
   ]
  },
  {
   "cell_type": "markdown",
   "metadata": {},
   "source": [
    "## Training loop"
   ]
  },
  {
   "cell_type": "code",
   "execution_count": 81,
   "metadata": {},
   "outputs": [],
   "source": [
    "nepochs = 5\n",
    "lr_init = 0.00006 # 33 best - peste 500, apoi 13 bun\n",
    "batch_size = 256\n"
   ]
  },
  {
   "cell_type": "code",
   "execution_count": 82,
   "metadata": {},
   "outputs": [
    {
     "name": "stdout",
     "output_type": "stream",
     "text": [
      "jets file already exists\n",
      "lepton_reco file already exists\n",
      "met file already exists\n",
      "boost file already exists\n",
      "partons file already exists\n",
      "lepton_partons file already exists\n",
      "boost file already exists\n",
      "H_thad_tlep_ISR file already exists\n",
      "H_thad_tlep_ISR_cartesian file already exists\n",
      "NAN: M\n",
      "NAN: K_t\n",
      "torch.float64\n"
     ]
    }
   ],
   "source": [
    "cuda = torch.device('cuda')\n",
    "data_cuda = DatasetCombined(\"../../../dataset/v7/\", dev=cuda, dtype=torch.float64)\n",
    "# Read data\n",
    "dataiterator = DataLoader(data_cuda, batch_size=batch_size, shuffle=True, drop_last=True)\n",
    "\n",
    "(mask_partons, data_partons, \n",
    "mask_lepton_partons, data_lepton_partons, \n",
    "mask_boost_parton, data_boost_parton, \n",
    "data_intermediate, data_intermediate_cartesian,\n",
    "data_ps, data_ps_detjacinv, \n",
    "mask_lepton, data_lepton, mask_jets,\n",
    "data_jets,mask_met, data_met,\n",
    "mask_boost_reco,data_boost_reco) =  next(iter(dataiterator))\n",
    "\n",
    "print(data_partons.dtype)"
   ]
  },
  {
   "cell_type": "code",
   "execution_count": 83,
   "metadata": {},
   "outputs": [],
   "source": [
    "#dataiterator = DataLoader(data_cuda, batch_size=batch_size, shuffle=True, drop_last=True)\n",
    "dataiterator = DataLoader(data_cuda, batch_size=batch_size, shuffle=False, drop_last=True)"
   ]
  },
  {
   "cell_type": "code",
   "execution_count": null,
   "metadata": {},
   "outputs": [],
   "source": []
  },
  {
   "cell_type": "code",
   "execution_count": 84,
   "metadata": {},
   "outputs": [],
   "source": [
    "class MyEnsemble(nn.Module):\n",
    "    def __init__(self, cond_transformer, flow):\n",
    "        super(MyEnsemble, self).__init__()\n",
    "        self.cond_transformer = cond_transformer\n",
    "        self.flow = flow\n",
    "        \n",
    "    def forward(self, data):\n",
    "        \n",
    "        \n",
    "        (mask_partons, data_partons, \n",
    "        mask_lepton_partons, data_lepton_partons, \n",
    "        mask_boost_parton, data_boost_parton, \n",
    "        data_intermediate, data_intermediate_cartesian,\n",
    "        data_ps, data_ps_detjacinv, mask_lepton, data_lepton, mask_jets,\n",
    "        data_jets,mask_met, data_met,\n",
    "        mask_boost_reco,data_boost_reco) =  data\n",
    "\n",
    "        cond_X = self.cond_transformer(data_jets,\n",
    "                                    data_lepton,\n",
    "                                      data_met,\n",
    "                                      data_boost_reco, \n",
    "                                      mask_jets, \n",
    "                                      mask_lepton, \n",
    "                                      mask_met, \n",
    "                                      mask_boost_reco)\n",
    "\n",
    "        logp_g =  self.flow(cond_X).log_prob(data_ps)  + data_ps_detjacinv.log() # Be careful, we are probably missing the rambo jacobian\n",
    "\n",
    "        return logp_g, cond_X"
   ]
  },
  {
   "cell_type": "code",
   "execution_count": 85,
   "metadata": {},
   "outputs": [
    {
     "name": "stdout",
     "output_type": "stream",
     "text": [
      "parameters flow:397676, parameters conditioner: 550605\n",
      "parameters total:948281\n"
     ]
    }
   ],
   "source": [
    "cond_transformer = ConditioningTransformerLayer(jets_features=data_jets.size(2), \n",
    "                                           lepton_features=data_lepton.size(2), \n",
    "                                           out_features=32, nhead=4, no_layers=4, dtype=torch.float64).to(\"cuda\")\n",
    "\n",
    "\n",
    "flow = build_flow(nfeatures=10,\n",
    "                 ncond=34, \n",
    "                 ntransforms=4, #6 \n",
    "                 hidden_mlp=[128]*3, \n",
    "                 bins=16, \n",
    "                 autoregressive=True).to(\"cuda\")\n",
    "\n",
    "model = MyEnsemble(cond_transformer, flow)\n",
    "\n",
    "\n",
    "optimizer = optim.Adam(list(model.parameters()) , lr=lr_init)\n",
    "\n",
    "#decay = 0.01\n",
    "#fcn = lambda step: 1./(1. + decay*step)\n",
    "#scheduler = torch.optim.lr_scheduler.LambdaLR(optimizer, lr_lambda=fcn)\n",
    "\n",
    "plotter = plot_loss.LossPlotter([\"loss_epoch\",\"loss\"])\n",
    "\n",
    "print(f\"parameters flow:{count_parameters(flow)}, parameters conditioner: {count_parameters(cond_transformer)}\")\n",
    "print(f\"parameters total:{count_parameters(model)}\")"
   ]
  },
  {
   "cell_type": "code",
   "execution_count": 86,
   "metadata": {},
   "outputs": [
    {
     "data": {
      "text/plain": [
       "2226"
      ]
     },
     "execution_count": 86,
     "metadata": {},
     "output_type": "execute_result"
    }
   ],
   "source": [
    "len(dataiterator)"
   ]
  },
  {
   "cell_type": "code",
   "execution_count": 87,
   "metadata": {},
   "outputs": [
    {
     "data": {
      "text/plain": [
       "<torch.autograd.anomaly_mode.set_detect_anomaly at 0x7fa6383d96d0>"
      ]
     },
     "execution_count": 87,
     "metadata": {},
     "output_type": "execute_result"
    }
   ],
   "source": [
    "torch.autograd.set_detect_anomaly(True)"
   ]
  },
  {
   "cell_type": "code",
   "execution_count": 88,
   "metadata": {},
   "outputs": [],
   "source": [
    "scaler = torch.cuda.amp.GradScaler()"
   ]
  },
  {
   "cell_type": "code",
   "execution_count": 89,
   "metadata": {},
   "outputs": [],
   "source": []
  },
  {
   "cell_type": "markdown",
   "metadata": {},
   "source": [
    "# TO TALK\n",
    "\n",
    "## 1. Organizatorial\n",
    "A) June and free dates\n",
    "\n",
    "B) port forwarding - ssh connection refused\n",
    "\n",
    "\n",
    "\n",
    "## 2. Event: 723 and nan in logp_g and Event: 723 and nan in logp_g\n",
    "nan and inf in logp_g but no problem when backward() is called\n",
    "\n",
    "Should I look in rambo to see where i get nan?\n",
    "\n",
    "## 3. float32 instead of float64 and use gradscaler? speedup on gpu\n"
   ]
  },
  {
   "cell_type": "code",
   "execution_count": 90,
   "metadata": {
    "tags": []
   },
   "outputs": [
    {
     "data": {
      "application/vnd.jupyter.widget-view+json": {
       "model_id": "731e3d96c1a2445ab0fbf20586bee2bf",
       "version_major": 2,
       "version_minor": 0
      },
      "text/plain": [
       "Epoch:   0%|          | 0/5 [00:00<?, ?it/s]"
      ]
     },
     "metadata": {},
     "output_type": "display_data"
    },
    {
     "data": {
      "application/vnd.jupyter.widget-view+json": {
       "model_id": "3342eaf32ab44826b5fe6cc7b572bf1b",
       "version_major": 2,
       "version_minor": 0
      },
      "text/plain": [
       "Batch:   0%|          | 0/9 [00:00<?, ?it/s]"
      ]
     },
     "metadata": {},
     "output_type": "display_data"
    },
    {
     "name": "stdout",
     "output_type": "stream",
     "text": [
      "0\n",
      "100\n",
      "200\n",
      "300\n",
      "400\n",
      "500\n",
      "600\n",
      "700\n",
      "800\n",
      "900\n",
      "1000\n",
      "1100\n",
      "1200\n",
      "1300\n",
      "1400\n",
      "1500\n",
      "1600\n",
      "1700\n",
      "1800\n",
      "1900\n",
      "2000\n",
      "2100\n",
      "2200\n"
     ]
    },
    {
     "data": {
      "application/vnd.jupyter.widget-view+json": {
       "model_id": "54fc5323726647b09026630dae8818f4",
       "version_major": 2,
       "version_minor": 0
      },
      "text/plain": [
       "Batch:   0%|          | 0/9 [00:00<?, ?it/s]"
      ]
     },
     "metadata": {},
     "output_type": "display_data"
    },
    {
     "name": "stdout",
     "output_type": "stream",
     "text": [
      "0\n",
      "100\n",
      "200\n",
      "300\n",
      "400\n",
      "500\n",
      "600\n",
      "700\n",
      "800\n",
      "900\n",
      "1000\n",
      "1100\n",
      "1200\n",
      "1300\n",
      "1400\n",
      "1500\n",
      "1600\n",
      "1700\n",
      "1800\n",
      "1900\n",
      "2000\n",
      "2100\n",
      "2200\n"
     ]
    },
    {
     "data": {
      "application/vnd.jupyter.widget-view+json": {
       "model_id": "53e69c4b52bc465e8f4964a2336e9c3a",
       "version_major": 2,
       "version_minor": 0
      },
      "text/plain": [
       "Batch:   0%|          | 0/9 [00:00<?, ?it/s]"
      ]
     },
     "metadata": {},
     "output_type": "display_data"
    },
    {
     "name": "stdout",
     "output_type": "stream",
     "text": [
      "0\n",
      "100\n",
      "200\n",
      "300\n",
      "400\n",
      "500\n",
      "600\n",
      "700\n",
      "800\n",
      "900\n",
      "1000\n",
      "1100\n",
      "1200\n",
      "1300\n",
      "1400\n",
      "1500\n",
      "1600\n",
      "1700\n",
      "1800\n",
      "1900\n",
      "2000\n",
      "2100\n",
      "2200\n"
     ]
    },
    {
     "data": {
      "application/vnd.jupyter.widget-view+json": {
       "model_id": "bb04c1c9e13e4ff097d9353989eeed4e",
       "version_major": 2,
       "version_minor": 0
      },
      "text/plain": [
       "Batch:   0%|          | 0/9 [00:00<?, ?it/s]"
      ]
     },
     "metadata": {},
     "output_type": "display_data"
    },
    {
     "name": "stdout",
     "output_type": "stream",
     "text": [
      "0\n",
      "100\n",
      "200\n",
      "300\n",
      "400\n",
      "500\n",
      "600\n",
      "700\n",
      "800\n",
      "900\n",
      "1000\n",
      "1100\n",
      "1200\n",
      "1300\n",
      "1400\n",
      "1500\n",
      "1600\n",
      "1700\n",
      "1800\n",
      "1900\n",
      "2000\n",
      "2100\n",
      "2200\n"
     ]
    },
    {
     "data": {
      "application/vnd.jupyter.widget-view+json": {
       "model_id": "5fe6fbc8cda4449186fee2e953f2c67a",
       "version_major": 2,
       "version_minor": 0
      },
      "text/plain": [
       "Batch:   0%|          | 0/9 [00:00<?, ?it/s]"
      ]
     },
     "metadata": {},
     "output_type": "display_data"
    },
    {
     "name": "stdout",
     "output_type": "stream",
     "text": [
      "0\n",
      "100\n",
      "200\n",
      "300\n",
      "400\n",
      "500\n",
      "600\n",
      "700\n",
      "800\n",
      "900\n",
      "1000\n",
      "1100\n",
      "1200\n",
      "1300\n",
      "1400\n",
      "1500\n",
      "1600\n",
      "1700\n",
      "1800\n",
      "1900\n",
      "2000\n",
      "2100\n",
      "2200\n"
     ]
    }
   ],
   "source": [
    "for e in trange(0, nepochs, desc=\"Epoch\"):\n",
    "    \n",
    "    sum_loss = 0.\n",
    "    N = len(dataiterator)\n",
    "    t = trange(0, len(dataiterator), batch_size, desc=\"Batch\")\n",
    "    \n",
    "    for i, data in enumerate(dataiterator):\n",
    "        \n",
    "        #print(\"\")\n",
    "        if i % 100 == 0:\n",
    "            print(i)\n",
    "        #print(i)\n",
    "        optimizer.zero_grad()\n",
    "        \n",
    "        with torch.autocast(device_type='cuda', dtype=torch.float16):\n",
    "            logp_g, cond_X = model(data)\n",
    "\n",
    "            #if torch.isnan(logp_g).any():\n",
    "            #    print(f\"Batch: {i} and nan in logp_g\")\n",
    "            #if torch.isinf(logp_g).any():\n",
    "            #    print(f\"Batch: {i} and inf in logp_g\")\n",
    "\n",
    "            #logp_g = torch.nan_to_num(logp_g, posinf=25, \n",
    "            #                          neginf=-25, nan=0.3)\n",
    "\n",
    "            logp_g = torch.nan_to_num(logp_g, posinf=25, neginf=-25)\n",
    "\n",
    "            loss =  -logp_g.nanmean()\n",
    "        #print(torch.isnan(loss))\n",
    "        \n",
    "        # Scales the loss for autograd.grad's backward pass, producing scaled_grad_params\n",
    "        #scaled_grad_params = torch.autograd.grad(outputs=scaler.scale(loss),\n",
    "        #                                         inputs=model.parameters(),\n",
    "        #                                         create_graph=True)\n",
    "\n",
    "        # Creates unscaled grad_params before computing the penalty. scaled_grad_params are\n",
    "        # not owned by any optimizer, so ordinary division is used instead of scaler.unscale_:\n",
    "        #inv_scale = 1./scaler.get_scale()\n",
    "        #grad_params = [p * inv_scale for p in scaled_grad_params]\n",
    "        \n",
    "        #grad_norm = 0\n",
    "        #for grad in grad_params:\n",
    "        #    grad_norm += grad.pow(2).sum()\n",
    "        #grad_norm = grad_norm.sqrt()\n",
    "        #loss = loss + grad_norm\n",
    "        \n",
    "        #print(logp_g.isnan().sum(),logp_g.isinf().sum(), loss.item(),  logp_g)\n",
    "        #loss.backward()\n",
    "        \n",
    "        scaler.scale(loss).backward()\n",
    "        \n",
    "        scaler.unscale_(optimizer)\n",
    "        \n",
    "        torch.nn.utils.clip_grad_norm_(model.parameters(), 0.28)\n",
    "        \n",
    "        #optimizer.step() \n",
    "        scaler.step(optimizer)\n",
    "        sum_loss += loss.item()\n",
    "        scaler.update()\n",
    "        \n",
    "        writer.add_scalars('profiling/', {str(lr_init) + '_loss': loss.item()}, i)\n",
    "\n",
    "        #plotter.on_epoch_end({\"loss\": loss.item()})\n",
    "        #t.set_description(f\"{loss.item():.4f}\", refresh=True)\n",
    "    #plotter.on_epoch_end({\"loss_epoch\":sum_loss/N})\n",
    "    writer.add_scalars('profiling/', {str(lr_init) + '_lossEpoch': sum_loss/N}, e)\n",
    "\n",
    "writer.close()\n",
    "#     with torch.no_grad():\n",
    "#         out = flow(Y_scaled[0:30000]).sample((1, )).squeeze(0)\n",
    "#         plt.hist2d(out[:,0].numpy(), \n",
    "#                    Y_scaled[0:30000,0].numpy(), \n",
    "#                    bins=100,cmap=\"inferno\", cmin=1, norm=LogNorm() );\n",
    "#         plt.xlabel(\"Pz generated\")\n",
    "#         plt.ylabel(\"Pz reco (conditioning)\")\n",
    "        \n",
    "#         # plt.hist2d(out[:,0].numpy(), out[:,1].numpy(),\n",
    "#         #    bins=100, cmap=\"inferno\", cmin=1, norm=LogNorm());\n",
    "        \n",
    "#         plt.show()\n",
    "#         plt.close()\n"
   ]
  },
  {
   "cell_type": "code",
   "execution_count": 138,
   "metadata": {},
   "outputs": [
    {
     "name": "stdout",
     "output_type": "stream",
     "text": [
      "tensor(inf)\n"
     ]
    }
   ],
   "source": [
    "x = torch.tensor([[torch.inf, 1, 2], [1, 2, 3]])\n",
    "print(x.mean())"
   ]
  },
  {
   "cell_type": "markdown",
   "metadata": {},
   "source": [
    "# debug for gluon ISR"
   ]
  },
  {
   "cell_type": "code",
   "execution_count": 83,
   "metadata": {},
   "outputs": [],
   "source": [
    "from memflow.phasespace.phasespace import PhaseSpace"
   ]
  },
  {
   "cell_type": "code",
   "execution_count": 84,
   "metadata": {},
   "outputs": [],
   "source": [
    "def get_PS_intermediateParticles(data_boost, data_higgs_t_tbar_ISR_cartesian):\n",
    "    E_CM = 13000\n",
    "    phasespace = PhaseSpace(E_CM, [21, 21], [25, 6, -6, 21], dev=\"cpu\")\n",
    "\n",
    "    incoming_p_boost = data_boost\n",
    "    x1 = (incoming_p_boost[:, 0, 0] + incoming_p_boost[:, 0, 3]) / E_CM\n",
    "    x2 = (incoming_p_boost[:, 0, 0] - incoming_p_boost[:, 0, 3]) / E_CM\n",
    "    ps, detjinv = phasespace.get_ps_from_momenta(\n",
    "                data_higgs_t_tbar_ISR_cartesian, x1, x2)\n",
    "    return ps, detjinv"
   ]
  },
  {
   "cell_type": "code",
   "execution_count": 85,
   "metadata": {},
   "outputs": [
    {
     "name": "stdout",
     "output_type": "stream",
     "text": [
      "jets file already exists\n",
      "lepton_reco file already exists\n",
      "met file already exists\n",
      "boost file already exists\n",
      "partons file already exists\n",
      "lepton_partons file already exists\n",
      "boost file already exists\n",
      "H_thad_tlep_ISR file already exists\n",
      "H_thad_tlep_ISR_cartesian file already exists\n",
      "NAN: M\n",
      "NAN: K_t\n",
      "NAN: r\n"
     ]
    }
   ],
   "source": [
    "dataset = DatasetCombined(\"../../../dataset/v7/\")\n",
    "batch_size = 8\n",
    "# Read data\n",
    "dataiterator_cpu = DataLoader(dataset, batch_size=batch_size, shuffle=True, drop_last=True)"
   ]
  },
  {
   "cell_type": "code",
   "execution_count": null,
   "metadata": {},
   "outputs": [],
   "source": []
  },
  {
   "cell_type": "code",
   "execution_count": 90,
   "metadata": {},
   "outputs": [
    {
     "name": "stdout",
     "output_type": "stream",
     "text": [
      "NAN IN DATA_PS_NEW\n",
      "torch.Size([8, 1])\n",
      "torch.Size([8, 1, 4])\n",
      "torch.Size([8, 4, 4])\n",
      "tensor([[[ 2135.7881,     0.0000,     0.0000, -1817.8101]],\n",
      "\n",
      "        [[ 1466.0607,     0.0000,     0.0000,  1003.2769]],\n",
      "\n",
      "        [[  582.5338,     0.0000,     0.0000,   171.6719]],\n",
      "\n",
      "        [[  751.0691,     0.0000,     0.0000,   220.2215]],\n",
      "\n",
      "        [[ 1373.0278,     0.0000,     0.0000,   766.3307]],\n",
      "\n",
      "        [[  683.7306,     0.0000,     0.0000,   311.5125]],\n",
      "\n",
      "        [[ 1509.4777,     0.0000,     0.0000,  -964.1247]],\n",
      "\n",
      "        [[  662.1027,     0.0000,     0.0000,   289.0043]]])\n",
      "tensor([1466.0607,    0.0000,    0.0000, 1003.2769])\n",
      "tensor([[[ 301.5101,   48.4281, -202.1231, -179.1210],\n",
      "         [ 285.0597,  -43.9560, -183.9457, -125.0523],\n",
      "         [ 472.1206,   23.6505,  333.5321,  285.2115],\n",
      "         [  62.5393,  -28.1222,   52.5388,   18.9732]],\n",
      "\n",
      "        [[ 334.0385,  230.2855,  -83.6047,  189.5668],\n",
      "         [ 413.5067,  -80.9208,  -66.9064, -360.3033],\n",
      "         [ 321.4594, -149.3759,  150.5072,  170.7641],\n",
      "         [   0.0000,    0.0000,    0.0000,    0.0000]],\n",
      "\n",
      "        [[ 158.0133,  -12.4587,  -18.7569,   94.0060],\n",
      "         [ 186.0815,  -57.6704,   -3.7800,   -0.4915],\n",
      "         [ 205.6641,   64.7848,   21.2688,  -89.3327],\n",
      "         [   6.9057,    5.3457,    1.2674,   -4.1840]],\n",
      "\n",
      "        [[ 155.2599,   -8.1204,  -56.4186,  -72.3232],\n",
      "         [ 228.4759,   98.7362, -103.2802,   41.8746],\n",
      "         [ 191.8399,  -52.3745,   46.3987,  -47.0447],\n",
      "         [ 142.4939,  -38.2408,  113.3027,   77.4889]],\n",
      "\n",
      "        [[ 266.0185,    0.5413,   77.8497,  221.5401],\n",
      "         [ 326.3762,  273.1194,  -30.6213,   49.4303],\n",
      "         [ 320.4603, -264.7300,   11.9798,  -52.6275],\n",
      "         [ 226.4211,   -8.9336,  -59.2206, -218.3567]],\n",
      "\n",
      "        [[ 177.3705,   21.9675,   36.8789,  118.2906],\n",
      "         [ 192.5235,    6.6464,  -14.5595,  -81.3418],\n",
      "         [ 175.4060,  -25.2760,   10.7107,   17.0133],\n",
      "         [  63.3503,   -3.3418,  -33.0286,  -53.9546]],\n",
      "\n",
      "        [[ 165.5172,  -39.7351,   17.1676,   99.4853],\n",
      "         [ 295.6570,   80.6703,   31.7713,  224.6268],\n",
      "         [ 233.7699,  -32.5430,  -58.1659,  142.2226],\n",
      "         [ 466.5534,   -8.3932,    9.2261, -466.3865]],\n",
      "\n",
      "        [[ 140.5518,  -54.3749,   27.8020,   19.8829],\n",
      "         [ 201.8229,   87.4316,    7.6275,  -48.4350],\n",
      "         [ 180.8121,  -10.3738,   30.3772,   48.9106],\n",
      "         [  72.5186,  -22.6799,  -65.8027,  -20.3610]]])\n",
      "tensor([False, False, False, False])\n"
     ]
    }
   ],
   "source": [
    "for i, data in enumerate(dataiterator_cpu):\n",
    "    (mask_partons, data_partons, \n",
    "    mask_lepton_partons, data_lepton_partons, \n",
    "    mask_boost_parton, data_boost_parton, \n",
    "    data_intermediate, data_intermediate_cartesian,\n",
    "    data_ps, data_ps_detjacinv, mask_lepton, data_lepton, mask_jets,\n",
    "    data_jets,mask_met, data_met,\n",
    "    mask_boost_reco,data_boost_reco) =  data\n",
    "    \n",
    "    #data_ps_new, det = get_PS_intermediateParticles(data_boost_parton, data_intermediate_cartesian)\n",
    "    data_ps_new = data_ps\n",
    "    nan_mask = torch.isnan(data_ps_new)\n",
    "    \n",
    "    nan_mask1 = torch.any(nan_mask, 1).unsqueeze(1)\n",
    "    \n",
    "    if torch.isinf(data_ps_new).any():\n",
    "        print(i)\n",
    "        print(\"INF IN DATA_PS_NEW\")\n",
    "    if torch.isnan(data_ps_new).any():\n",
    "        print(\"NAN IN DATA_PS_NEW\")\n",
    "        \n",
    "        print(nan_mask1.shape)\n",
    "        \n",
    "        print(data_boost_parton.shape)\n",
    "        \n",
    "        print(data_intermediate_cartesian[:, :].shape)\n",
    "        \n",
    "        partons_nan = torch.masked_select(data_boost_parton.squeeze(), nan_mask1)\n",
    "        #data_intermediate_nan = torch.masked_select(data_intermediate_cartesian[:], nan_mask1)\n",
    "        data_intermediate_nan = data_intermediate_cartesian[nan_mask1.squeeze(), :, :]\n",
    "        \n",
    "        print(data_boost_parton)\n",
    "        print(partons_nan)\n",
    "        \n",
    "        print(data_intermediate_cartesian)\n",
    "        print(data_intermediate_nan[0, 3] > 0)\n",
    "        \n",
    "        break"
   ]
  },
  {
   "cell_type": "code",
   "execution_count": 90,
   "metadata": {},
   "outputs": [],
   "source": [
    "n = 4\n",
    "P = data_intermediate_nan\n",
    "boostVector_t = partons_nan\n",
    "masses_t = torch.tensor([125, 173, 173, 0])\n",
    "\n",
    "def square_t(inputt):\n",
    "    if inputt.shape[1] == 4 or inputt.shape[0] == 4:\n",
    "        return dot_t(inputt, inputt)\n",
    "    else:\n",
    "\n",
    "        return torch.sum(inputt * inputt, -1)\n",
    "    \n",
    "def dot_t(inputa, inputb):\n",
    "    \"\"\"Dot product for four vectors\"\"\"\n",
    "    return (\n",
    "        inputa[:, 0] * inputb[:, 0]\n",
    "        - inputa[:, 1] * inputb[:, 1]\n",
    "        - inputa[:, 2] * inputb[:, 2]\n",
    "        - inputa[:, 3] * inputb[:, 3]\n",
    "    )\n",
    "\n",
    "def boost_t(inputt, boost_vector, gamma=-1.0):\n",
    "    \"\"\"Transport inputt into the rest frame of the boost_vector in argument.\n",
    "    This means that the following command, for any vector p=(E, px, py, pz)\n",
    "        boost_t(p,-boostVector(p))\n",
    "    returns to (M,0,0,0).\n",
    "    Version for a single phase pace point\n",
    "    \"\"\"\n",
    "\n",
    "    b2 = square_t(boost_vector)\n",
    "    if gamma < 0.0:\n",
    "        gamma = 1.0 / torch.sqrt(1.0 - b2)\n",
    "    inputt_space = inputt[:, 1:]\n",
    "\n",
    "    bp = torch.sum(inputt_space * boost_vector, -1)\n",
    "\n",
    "    gamma2 = torch.where(b2 > 0, (gamma - 1.0) / b2, torch.zeros_like(b2))\n",
    "\n",
    "    factor = gamma2 * bp + gamma * inputt[:, 0]\n",
    "\n",
    "    inputt_space += factor.unsqueeze(1) * boost_vector\n",
    "\n",
    "    inputt[:, 0] = gamma * (inputt[:, 0] + bp)\n",
    "\n",
    "    return inputt\n",
    "\n",
    "def boostVector_t(inputt):\n",
    "\n",
    "    if torch.min(inputt[:, 0]) <= 0.0 or torch.min(square_t(inputt)) < 0.0:\n",
    "        print(\"Invalid boost\")\n",
    "\n",
    "    return inputt[:, 1:] / inputt[:, 0].unsqueeze(1)\n",
    "\n",
    "def rho2_t(inputt):\n",
    "    \"\"\"Compute the radius squared. Vectorized.\"\"\"\n",
    "\n",
    "    return torch.sum(inputt[:, 1:] * inputt[:, 1:], -1)"
   ]
  },
  {
   "cell_type": "code",
   "execution_count": 95,
   "metadata": {},
   "outputs": [],
   "source": [
    "M = torch.tensor(\n",
    "            [0.0] * n, requires_grad=False, dtype=torch.double, device=P.device\n",
    "        )\n",
    "M = torch.unsqueeze(M, 0).repeat(P.shape[0], 1)\n",
    "K_t = M.clone()\n",
    "Q = torch.zeros_like(P)\n",
    "Q[:, -1] = P[:, -1]  # Qn = pn\n",
    "\n",
    "# intermediate mass\n",
    "for i in range(n, 0, -1):\n",
    "    j = i - 1\n",
    "    M[:, j] = torch.sqrt(square_t(torch.sum(P[:, j:n], axis=1)))\n",
    "    # Remove the final masses to convert back to K\n",
    "    K_t[:, j] = M[:,j] - torch.sum(masses_t[j:])\n",
    "\n",
    "# output [0,1] distributed numbers\n",
    "r = torch.zeros(P.shape[0], 3*n-4)"
   ]
  },
  {
   "cell_type": "code",
   "execution_count": 96,
   "metadata": {},
   "outputs": [
    {
     "name": "stdout",
     "output_type": "stream",
     "text": [
      "tensor([[0., 0., 1., 0., 0., 0., 0., 0.]])\n",
      "tensor([[ 0.0000, -9.5461,  1.0000,  0.0000,  0.0000,  0.0000,     nan,     nan]])\n",
      "tensor([[ 2.3945e-07, -9.5461e+00,  1.0000e+00,  0.0000e+00,  1.4583e-01,\n",
      "          7.6198e-01,         nan,         nan]])\n"
     ]
    }
   ],
   "source": [
    "for i in range(n, 1, -1):\n",
    "    j = i - 1  # index for 0-based tensors\n",
    "    # in the direct algo the u are squared.\n",
    "    u = (K_t[:, j] / K_t[:, j - 1]) ** 2\n",
    "\n",
    "    r[:, j - 1] = (n + 1 - i) * (torch.pow(u, (n - i))) - (n - i) * (\n",
    "        torch.pow(u, (n + 1 - i))\n",
    "    )\n",
    "    print(r)\n",
    "\n",
    "    Q[:, j - 1] = Q[:, j] + P[:, j - 1]\n",
    "\n",
    "    boost_t(P[:, j - 1], -boostVector_t(Q[:, j - 1]))\n",
    "\n",
    "    r[:, n - 5 + 2 * i - 1] = (\n",
    "        (P[:, j - 1, 3] / torch.sqrt(rho2_t(P[:, j - 1]))) + 1\n",
    "    ) / 2\n",
    "            # phi= tan^-1(Py/Px)\n",
    "    phi = torch.atan(P[:, j - 1, 2] / P[:, j - 1, 1])\n",
    "            # Fixing phi depending on X and y sign\n",
    "            # 4th quandrant  (px > 0, py < 0)\n",
    "    deltaphi = torch.where(\n",
    "        (P[:, j - 1, 2] < 0) & (P[:, j - 1, 1] > 0), 2 * torch.pi, 0.0\n",
    "    )\n",
    "            # 2th and 3th quadratant  (px < 0, py whatever)\n",
    "    deltaphi += torch.where((P[:, j - 1, 1] < 0), torch.pi, 0.0)\n",
    "    phi += deltaphi\n",
    "    r[:, n - 4 + 2 * i - 1] = phi / (2 * torch.pi)\n"
   ]
  },
  {
   "cell_type": "markdown",
   "metadata": {},
   "source": [
    "# DEBUG GLUON ISR"
   ]
  },
  {
   "cell_type": "code",
   "execution_count": 35,
   "metadata": {},
   "outputs": [],
   "source": [
    "import awkward as ak\n",
    "import memflow"
   ]
  },
  {
   "cell_type": "code",
   "execution_count": 36,
   "metadata": {},
   "outputs": [],
   "source": [
    "df = ak.from_parquet('../../../dataset/v7/all_jets.parquet')"
   ]
  },
  {
   "cell_type": "code",
   "execution_count": 61,
   "metadata": {},
   "outputs": [],
   "source": [
    "partons = df[\"partons\"]\n",
    "partons = ak.with_name(partons, name=\"Momentum4D\")\n",
    "gluon = partons[partons.prov == 4]\n",
    "gluon = dataset.parton_data.Reshape(gluon, memflow.read_data.utils.struct_gluon, 1)[:, 0]"
   ]
  },
  {
   "cell_type": "code",
   "execution_count": 62,
   "metadata": {},
   "outputs": [
    {
     "name": "stdout",
     "output_type": "stream",
     "text": [
      "569993 * Momentum4D[\"pt\": float64, \"eta\": float64, \"phi\": float64, \"mass\": float64, \"pdgId\": float64, \"prov\": float64]\n"
     ]
    }
   ],
   "source": [
    "print(gluon.type)"
   ]
  },
  {
   "cell_type": "code",
   "execution_count": 97,
   "metadata": {},
   "outputs": [],
   "source": [
    "l = gluon.pt < 1e-6\n",
    "\n",
    "def to_flat_numpy(X, fields, axis=1, allow_missing=False):\n",
    "    return np.stack([ak.to_numpy(getattr(X,f), allow_missing=allow_missing) for f in fields], axis=axis)\n",
    "\n",
    "\n",
    "def to_flat_tensor(X, fields, axis=1, allow_missing=False):\n",
    "    return torch.tensor(np.stack([ak.to_numpy(getattr(X,f), allow_missing=allow_missing) for f in fields], axis=axis))"
   ]
  },
  {
   "cell_type": "code",
   "execution_count": 99,
   "metadata": {},
   "outputs": [],
   "source": [
    "gluon[l].E\n",
    "\n",
    "d_list = to_flat_numpy(\n",
    "                gluon[l], [\"E\", \"px\", \"py\", \"pz\"], axis=1, allow_missing=False)\n"
   ]
  },
  {
   "cell_type": "code",
   "execution_count": 101,
   "metadata": {},
   "outputs": [
    {
     "name": "stdout",
     "output_type": "stream",
     "text": [
      "tensor([[1.4142e-07, 1.0000e-07, 0.0000e+00, 0.0000e+00],\n",
      "        [1.4142e-07, 1.0000e-07, 0.0000e+00, 0.0000e+00],\n",
      "        [1.4142e-07, 1.0000e-07, 0.0000e+00, 0.0000e+00],\n",
      "        [1.4142e-07, 1.0000e-07, 0.0000e+00, 0.0000e+00],\n",
      "        [1.4142e-07, 1.0000e-07, 0.0000e+00, 0.0000e+00],\n",
      "        [1.4142e-07, 1.0000e-07, 0.0000e+00, 0.0000e+00],\n",
      "        [1.4142e-07, 1.0000e-07, 0.0000e+00, 0.0000e+00],\n",
      "        [1.4142e-07, 1.0000e-07, 0.0000e+00, 0.0000e+00],\n",
      "        [1.4142e-07, 1.0000e-07, 0.0000e+00, 0.0000e+00],\n",
      "        [1.4142e-07, 1.0000e-07, 0.0000e+00, 0.0000e+00],\n",
      "        [1.4142e-07, 1.0000e-07, 0.0000e+00, 0.0000e+00],\n",
      "        [1.4142e-07, 1.0000e-07, 0.0000e+00, 0.0000e+00],\n",
      "        [1.4142e-07, 1.0000e-07, 0.0000e+00, 0.0000e+00],\n",
      "        [1.4142e-07, 1.0000e-07, 0.0000e+00, 0.0000e+00],\n",
      "        [1.4142e-07, 1.0000e-07, 0.0000e+00, 0.0000e+00],\n",
      "        [1.4142e-07, 1.0000e-07, 0.0000e+00, 0.0000e+00],\n",
      "        [1.4142e-07, 1.0000e-07, 0.0000e+00, 0.0000e+00],\n",
      "        [1.4142e-07, 1.0000e-07, 0.0000e+00, 0.0000e+00],\n",
      "        [1.4142e-07, 1.0000e-07, 0.0000e+00, 0.0000e+00],\n",
      "        [1.4142e-07, 1.0000e-07, 0.0000e+00, 0.0000e+00],\n",
      "        [1.4142e-07, 1.0000e-07, 0.0000e+00, 0.0000e+00],\n",
      "        [1.4142e-07, 1.0000e-07, 0.0000e+00, 0.0000e+00],\n",
      "        [1.4142e-07, 1.0000e-07, 0.0000e+00, 0.0000e+00],\n",
      "        [1.4142e-07, 1.0000e-07, 0.0000e+00, 0.0000e+00],\n",
      "        [1.4142e-07, 1.0000e-07, 0.0000e+00, 0.0000e+00],\n",
      "        [1.4142e-07, 1.0000e-07, 0.0000e+00, 0.0000e+00],\n",
      "        [1.4142e-07, 1.0000e-07, 0.0000e+00, 0.0000e+00],\n",
      "        [1.4142e-07, 1.0000e-07, 0.0000e+00, 0.0000e+00],\n",
      "        [1.4142e-07, 1.0000e-07, 0.0000e+00, 0.0000e+00],\n",
      "        [1.4142e-07, 1.0000e-07, 0.0000e+00, 0.0000e+00],\n",
      "        [1.4142e-07, 1.0000e-07, 0.0000e+00, 0.0000e+00],\n",
      "        [1.4142e-07, 1.0000e-07, 0.0000e+00, 0.0000e+00],\n",
      "        [1.4142e-07, 1.0000e-07, 0.0000e+00, 0.0000e+00],\n",
      "        [1.4142e-07, 1.0000e-07, 0.0000e+00, 0.0000e+00],\n",
      "        [1.4142e-07, 1.0000e-07, 0.0000e+00, 0.0000e+00],\n",
      "        [1.4142e-07, 1.0000e-07, 0.0000e+00, 0.0000e+00],\n",
      "        [1.4142e-07, 1.0000e-07, 0.0000e+00, 0.0000e+00],\n",
      "        [1.4142e-07, 1.0000e-07, 0.0000e+00, 0.0000e+00],\n",
      "        [1.4142e-07, 1.0000e-07, 0.0000e+00, 0.0000e+00],\n",
      "        [1.4142e-07, 1.0000e-07, 0.0000e+00, 0.0000e+00],\n",
      "        [1.4142e-07, 1.0000e-07, 0.0000e+00, 0.0000e+00],\n",
      "        [1.4142e-07, 1.0000e-07, 0.0000e+00, 0.0000e+00],\n",
      "        [1.4142e-07, 1.0000e-07, 0.0000e+00, 0.0000e+00],\n",
      "        [1.4142e-07, 1.0000e-07, 0.0000e+00, 0.0000e+00],\n",
      "        [1.4142e-07, 1.0000e-07, 0.0000e+00, 0.0000e+00],\n",
      "        [1.4142e-07, 1.0000e-07, 0.0000e+00, 0.0000e+00],\n",
      "        [1.4142e-07, 1.0000e-07, 0.0000e+00, 0.0000e+00],\n",
      "        [1.4142e-07, 1.0000e-07, 0.0000e+00, 0.0000e+00]])\n"
     ]
    }
   ],
   "source": [
    "tensor_data = torch.tensor(d_list)\n",
    "print(tensor_data)"
   ]
  },
  {
   "cell_type": "code",
   "execution_count": 22,
   "metadata": {},
   "outputs": [
    {
     "name": "stdout",
     "output_type": "stream",
     "text": [
      "torch.Size([2, 5])\n",
      "torch.Size([2, 5, 1])\n",
      "tensor([[[ 1],\n",
      "         [ 3],\n",
      "         [ 5],\n",
      "         [ 7],\n",
      "         [ 9]],\n",
      "\n",
      "        [[ 2],\n",
      "         [ 4],\n",
      "         [ 6],\n",
      "         [ 8],\n",
      "         [10]]])\n",
      "torch.Size([2, 5])\n"
     ]
    }
   ],
   "source": [
    "#torch.searchsorted(seq, value[..., None]).squeeze(dim=-1)\n",
    "\n",
    "value = torch.tensor([[1, 3, 5, 7, 9], [2, 4, 6, 8, 10]])\n",
    "print(value.shape)\n",
    "print(value[..., None].shape)\n",
    "print(value[..., None])\n",
    "print(value[..., None].squeeze(dim=-1).shape)"
   ]
  },
  {
   "cell_type": "code",
   "execution_count": 36,
   "metadata": {},
   "outputs": [
    {
     "data": {
      "text/plain": [
       "tensor(-1.1221, grad_fn=<NegBackward0>)"
      ]
     },
     "execution_count": 36,
     "metadata": {},
     "output_type": "execute_result"
    }
   ],
   "source": [
    "-logp_g.mean()"
   ]
  },
  {
   "cell_type": "code",
   "execution_count": null,
   "metadata": {},
   "outputs": [],
   "source": []
  },
  {
   "cell_type": "code",
   "execution_count": 110,
   "metadata": {},
   "outputs": [
    {
     "data": {
      "text/plain": [
       "<matplotlib.colorbar.Colorbar at 0x7f5ac8628b50>"
      ]
     },
     "execution_count": 110,
     "metadata": {},
     "output_type": "execute_result"
    },
    {
     "data": {
      "image/png": "[encoded data removed]",
      "text/plain": [
       "<Figure size 800x800 with 2 Axes>"
      ]
     },
     "metadata": {},
     "output_type": "display_data"
    }
   ],
   "source": [
    "cond_X = cond_transformer(data_jets, data_lepton, data_met,\n",
    "                                        data_boost_reco, mask_jets, \n",
    "                                        mask_lepton, mask_met, mask_boost_reco)\n",
    "        \n",
    "plt.figure(figsize=(8,8), dpi=100)\n",
    "plt.imshow(cond_X[:50,:].T.detach().numpy(), cmap=\"bwr\")\n",
    "plt.colorbar(location=\"bottom\")"
   ]
  },
  {
   "cell_type": "code",
   "execution_count": 37,
   "metadata": {},
   "outputs": [
    {
     "name": "stdout",
     "output_type": "stream",
     "text": [
      "Parameter containing:\n",
      "tensor([[ 0.0709, -0.1628,  0.0052,  0.1371, -0.1601],\n",
      "        [-0.3670, -0.1786,  0.1169, -0.4195,  0.3495],\n",
      "        [-0.3810,  0.4278, -0.1203,  0.0110,  0.0319],\n",
      "        [ 0.3782,  0.0690,  0.1888,  0.3205, -0.4440],\n",
      "        [ 0.0289, -0.4276, -0.0661, -0.1414, -0.3998],\n",
      "        [ 0.1632, -0.0366, -0.2436,  0.1345,  0.0630],\n",
      "        [-0.3873, -0.2475,  0.1913,  0.4144,  0.3779],\n",
      "        [-0.4048,  0.3618, -0.4466, -0.1250, -0.3086],\n",
      "        [ 0.3667,  0.4328,  0.0424, -0.2308, -0.3056],\n",
      "        [ 0.3541,  0.2779, -0.1379,  0.4180, -0.2389],\n",
      "        [-0.4309, -0.2922, -0.2151,  0.2041,  0.1368],\n",
      "        [ 0.1878, -0.3563, -0.1920, -0.3627,  0.2515],\n",
      "        [-0.4208,  0.3563, -0.2141,  0.1583, -0.2694],\n",
      "        [-0.3447, -0.1483, -0.0461, -0.3081, -0.0944],\n",
      "        [-0.1331, -0.1328, -0.0610,  0.1445,  0.3654]], dtype=torch.float32,\n",
      "       requires_grad=True)\n",
      "Parameter containing:\n",
      "tensor([-0.4216,  0.3579, -0.3778,  0.2584, -0.2760,  0.3194,  0.1226,  0.4420,\n",
      "         0.2413,  0.2838, -0.2829,  0.2218,  0.1420,  0.0287, -0.2593],\n",
      "       dtype=torch.float32, requires_grad=True)\n",
      "Parameter containing:\n",
      "tensor([[-0.4480, -0.2955, -0.2452],\n",
      "        [ 0.3554,  0.3444,  0.3237],\n",
      "        [ 0.5156,  0.0551,  0.4433],\n",
      "        [-0.4226, -0.0990,  0.3611],\n",
      "        [-0.1177, -0.0244, -0.4995],\n",
      "        [-0.3589,  0.4563,  0.3093],\n",
      "        [-0.0186, -0.1677, -0.3252],\n",
      "        [-0.1248,  0.4653, -0.5567],\n",
      "        [-0.3759, -0.3466,  0.5304],\n",
      "        [ 0.2347, -0.1386,  0.4841],\n",
      "        [-0.4614, -0.1654, -0.2330],\n",
      "        [-0.0933,  0.0044, -0.5656],\n",
      "        [-0.5631,  0.2726,  0.2267],\n",
      "        [ 0.2032,  0.1051, -0.3786],\n",
      "        [ 0.4117, -0.0770,  0.0978]], dtype=torch.float32, requires_grad=True)\n",
      "Parameter containing:\n",
      "tensor([-0.0187,  0.0741, -0.3754,  0.3851,  0.5426, -0.4584, -0.1090,  0.0291,\n",
      "         0.4680,  0.2386,  0.5311, -0.4360, -0.1639, -0.2829,  0.3778],\n",
      "       dtype=torch.float32, requires_grad=True)\n",
      "Parameter containing:\n",
      "tensor([[-0.0823,  0.1839,  0.3543],\n",
      "        [ 0.1807, -0.1548,  0.2890],\n",
      "        [-0.0799,  0.4267,  0.5529],\n",
      "        [-0.1033, -0.4830,  0.3957],\n",
      "        [ 0.4324, -0.0641,  0.0481],\n",
      "        [-0.2503, -0.1495,  0.4410],\n",
      "        [ 0.4739, -0.2038, -0.3248],\n",
      "        [ 0.3793, -0.0341, -0.3466],\n",
      "        [ 0.1973,  0.4573,  0.4081],\n",
      "        [-0.0836,  0.4654,  0.1728],\n",
      "        [ 0.0841,  0.4789, -0.5300],\n",
      "        [-0.5399, -0.3040, -0.4808],\n",
      "        [ 0.3978,  0.2224,  0.1770],\n",
      "        [ 0.0464, -0.0100,  0.1908],\n",
      "        [-0.3776, -0.1792, -0.4411]], dtype=torch.float32, requires_grad=True)\n",
      "Parameter containing:\n",
      "tensor([ 0.5041,  0.0067, -0.1465,  0.0046,  0.3370, -0.5028,  0.2265,  0.0730,\n",
      "        -0.4152,  0.1381, -0.1182, -0.3281, -0.1626,  0.1248, -0.2559],\n",
      "       dtype=torch.float32, requires_grad=True)\n",
      "Parameter containing:\n",
      "tensor([[ 0.3344,  0.2924,  0.0688, -0.2116],\n",
      "        [ 0.1536, -0.4266,  0.1224, -0.3151],\n",
      "        [ 0.1463,  0.3233, -0.3502,  0.3437],\n",
      "        [ 0.1938, -0.2117, -0.2237, -0.3036],\n",
      "        [ 0.1099,  0.3572,  0.3160, -0.4943],\n",
      "        [ 0.2349,  0.1992,  0.1842, -0.2653],\n",
      "        [ 0.1493,  0.0120,  0.1858, -0.3834],\n",
      "        [-0.2289,  0.4335,  0.2645, -0.4044],\n",
      "        [ 0.3626, -0.2326, -0.2260,  0.0941],\n",
      "        [ 0.4151, -0.4109, -0.0348,  0.2025],\n",
      "        [ 0.2862,  0.2438, -0.2812,  0.2754],\n",
      "        [ 0.0667,  0.2687, -0.2347, -0.4912],\n",
      "        [-0.3847, -0.3150,  0.2251,  0.1027],\n",
      "        [ 0.4927,  0.3324, -0.2354, -0.2431],\n",
      "        [-0.3034, -0.3785,  0.2544,  0.1836]], dtype=torch.float32,\n",
      "       requires_grad=True)\n",
      "Parameter containing:\n",
      "tensor([-0.4232, -0.1091, -0.1891, -0.4187, -0.1390, -0.2473,  0.0560,  0.1359,\n",
      "         0.4720, -0.2940, -0.0062, -0.1699,  0.2637, -0.3375, -0.0521],\n",
      "       dtype=torch.float32, requires_grad=True)\n",
      "Parameter containing:\n",
      "tensor([[-6.7357e-02,  1.6214e-01,  1.4967e-01, -5.2628e-02,  3.6251e-02,\n",
      "          6.9861e-02,  7.6019e-02, -1.6964e-01, -5.8659e-02,  4.8717e-02,\n",
      "          4.4918e-02,  2.4276e-01, -2.7134e-01,  3.2743e-02,  7.7241e-02,\n",
      "         -1.7597e-01],\n",
      "        [ 2.0683e-01,  2.4997e-01, -9.5144e-02, -3.7531e-02,  4.8878e-02,\n",
      "          6.0716e-02,  2.1539e-01,  1.2299e-01, -2.1878e-01, -8.7466e-02,\n",
      "          2.7900e-01, -1.2291e-01, -2.9249e-01,  1.5574e-01,  5.1458e-02,\n",
      "         -7.6665e-02],\n",
      "        [-7.5039e-03, -2.1121e-01, -1.6450e-01,  9.1947e-02,  6.0817e-02,\n",
      "          4.5865e-02, -6.0978e-02,  2.5375e-01, -2.9158e-01,  9.3388e-02,\n",
      "          1.1000e-02, -1.9323e-01, -1.5681e-01, -1.9632e-01,  1.4490e-01,\n",
      "          2.8710e-01],\n",
      "        [-9.3802e-02, -2.7458e-01, -1.8436e-01,  6.7577e-02, -1.9147e-01,\n",
      "          5.3556e-02,  1.8129e-01, -2.9481e-01,  2.6760e-02,  2.6685e-01,\n",
      "          1.4424e-01, -1.8583e-01,  1.0171e-01,  2.1482e-02, -1.7928e-01,\n",
      "         -2.8846e-01],\n",
      "        [-1.6425e-02,  3.0064e-01,  8.5029e-02, -5.1106e-02,  2.3291e-01,\n",
      "          4.9018e-02, -3.0176e-01, -1.6356e-01, -1.7529e-01, -1.3159e-01,\n",
      "          4.2410e-02,  1.7268e-01, -1.1813e-01, -1.9888e-01,  2.8334e-01,\n",
      "          2.6984e-01],\n",
      "        [-2.7378e-01, -1.6219e-01, -1.4218e-01, -2.2474e-01, -2.2896e-01,\n",
      "         -2.9024e-01,  2.2120e-01,  3.0608e-01, -1.6544e-01,  1.8530e-01,\n",
      "          4.9552e-02, -9.5179e-03,  2.3753e-01,  2.7995e-01,  2.2666e-01,\n",
      "         -2.4686e-02],\n",
      "        [-2.6066e-01, -8.2073e-02, -1.4812e-01,  2.8116e-01,  1.0735e-02,\n",
      "          9.4087e-02, -1.5670e-01,  1.6268e-01,  2.5434e-01, -2.1748e-01,\n",
      "          1.0782e-01, -2.9734e-01, -1.1886e-01,  2.8168e-01,  1.8185e-01,\n",
      "         -1.5695e-01],\n",
      "        [-2.4739e-01, -4.2411e-02, -3.9154e-02, -1.0123e-01, -2.9948e-01,\n",
      "          1.8140e-01, -2.2571e-01, -1.1998e-01, -3.0145e-01,  1.6809e-01,\n",
      "         -1.0497e-01,  8.5397e-02, -2.3849e-02, -6.4619e-02, -1.6001e-01,\n",
      "         -8.2662e-02],\n",
      "        [-2.6601e-01, -5.4919e-03,  2.6927e-01,  8.5202e-02, -1.7337e-01,\n",
      "          1.4076e-01, -1.7392e-01, -3.6153e-02, -1.6661e-01,  7.7219e-02,\n",
      "         -2.4544e-01,  2.6383e-01, -8.1682e-02,  2.4413e-01,  1.3219e-01,\n",
      "         -2.5357e-01],\n",
      "        [-2.1688e-01, -5.5510e-03,  3.0529e-01,  2.3045e-01,  1.0167e-01,\n",
      "         -5.9211e-02,  2.1518e-01, -1.3766e-01,  1.8121e-01, -1.1046e-01,\n",
      "          1.0187e-01,  2.5406e-01, -5.2080e-02,  7.1889e-02,  2.6916e-01,\n",
      "          2.3580e-02],\n",
      "        [-2.0182e-01, -7.1533e-02, -2.9978e-01,  2.3675e-01, -1.2932e-01,\n",
      "          1.2011e-01, -1.1688e-01, -3.2851e-02, -1.1886e-01,  2.6809e-01,\n",
      "         -1.5417e-01,  1.9150e-01, -8.4801e-02,  2.7981e-01, -8.1617e-02,\n",
      "         -6.1917e-02],\n",
      "        [ 1.7163e-01,  1.0840e-01, -7.5097e-02, -2.6910e-01, -1.5950e-01,\n",
      "          8.5308e-02,  2.0018e-01, -6.4589e-03,  6.4468e-02,  1.7060e-01,\n",
      "          5.5878e-02, -3.0559e-01,  3.4939e-02,  1.4528e-01,  1.4617e-01,\n",
      "          2.4162e-01],\n",
      "        [-2.5152e-01,  9.5839e-02, -2.1486e-01,  2.1825e-01,  1.3400e-01,\n",
      "         -2.9399e-01,  2.8827e-01,  5.7999e-02,  5.7346e-02,  2.5947e-01,\n",
      "         -1.9845e-01, -3.2159e-02, -2.8374e-01,  1.4428e-01,  1.8692e-01,\n",
      "          8.7933e-02],\n",
      "        [ 1.3928e-01,  1.6369e-01,  9.8014e-02, -1.3312e-02, -1.0041e-01,\n",
      "         -8.0820e-02,  1.9917e-01, -3.6663e-02, -6.8817e-02,  7.6058e-02,\n",
      "         -3.0335e-01, -1.3658e-01, -9.4752e-03,  5.8406e-02,  1.2866e-01,\n",
      "         -2.0478e-01],\n",
      "        [ 1.0991e-02, -3.3105e-02, -1.7627e-01, -2.8335e-02,  1.7280e-01,\n",
      "          2.9194e-01, -1.3439e-02, -1.7179e-01, -1.3442e-01,  2.0877e-01,\n",
      "         -5.7860e-02,  1.2110e-01, -2.0772e-01, -1.1430e-01,  2.6252e-01,\n",
      "          1.9126e-01],\n",
      "        [ 1.2359e-02,  3.7471e-03,  1.2662e-01,  2.3454e-01,  1.2587e-01,\n",
      "         -8.6437e-02,  2.5702e-02, -1.5624e-01,  1.1535e-01,  8.9155e-02,\n",
      "          1.2769e-01,  2.7337e-01, -4.7049e-02,  5.6342e-02,  7.3224e-02,\n",
      "         -5.7134e-02],\n",
      "        [-4.8750e-02,  1.3786e-01, -2.1397e-01, -2.5191e-01,  2.0344e-01,\n",
      "         -2.9514e-01,  1.7121e-01,  1.4016e-01,  2.9036e-01,  1.2199e-01,\n",
      "          2.3031e-01,  2.9383e-01, -2.0035e-01, -1.4143e-01,  2.2151e-01,\n",
      "         -2.0029e-02],\n",
      "        [ 3.0022e-01,  1.6501e-01,  1.6577e-01, -2.4866e-01,  1.3959e-01,\n",
      "         -2.6103e-01, -2.4514e-02,  2.5065e-01,  6.5437e-03, -5.8801e-02,\n",
      "          6.9348e-02, -8.4792e-02, -1.4232e-01,  9.4699e-02,  1.3839e-01,\n",
      "          1.2217e-01],\n",
      "        [-1.0650e-01, -2.5739e-01,  1.1669e-01, -1.1983e-02, -5.0283e-02,\n",
      "          3.0289e-01, -1.7207e-01,  1.0903e-03, -6.8446e-02, -8.6205e-02,\n",
      "         -2.7934e-01, -1.7193e-02, -2.7426e-01,  5.7767e-02,  2.6739e-01,\n",
      "          7.2458e-03],\n",
      "        [ 6.4795e-02,  1.2230e-01,  2.1421e-01,  2.9513e-01,  3.6134e-02,\n",
      "          3.0155e-01, -3.6557e-02,  2.0372e-01, -1.7929e-01, -8.5296e-02,\n",
      "          3.7595e-02,  2.2101e-01,  1.0323e-01,  2.6540e-01,  9.1271e-02,\n",
      "          9.1533e-02],\n",
      "        [ 1.3543e-01,  1.3859e-02, -3.0316e-01, -2.6840e-01, -4.9615e-02,\n",
      "         -3.0325e-01, -1.2962e-01,  1.1368e-01, -1.8216e-01,  2.1538e-01,\n",
      "         -2.3766e-01,  2.3739e-01, -7.8719e-02,  2.7014e-01, -2.5400e-01,\n",
      "          1.8304e-01],\n",
      "        [ 8.9671e-02,  1.0213e-01, -2.5518e-02, -1.5478e-01,  2.8179e-01,\n",
      "         -1.4693e-01,  1.2931e-01, -2.2119e-01,  1.4784e-01,  2.9697e-01,\n",
      "         -2.1769e-04,  2.9553e-01, -2.2248e-01, -1.4687e-01, -2.1681e-01,\n",
      "         -2.2578e-01],\n",
      "        [ 8.8580e-02, -2.3038e-02, -1.7676e-01, -2.9053e-01,  2.1905e-01,\n",
      "          1.9880e-01,  1.2980e-01, -1.1515e-01,  3.0103e-01, -2.6897e-02,\n",
      "         -1.3996e-01,  1.9057e-01,  9.6011e-02, -1.8891e-01, -5.2817e-02,\n",
      "          2.6861e-01],\n",
      "        [ 1.7509e-01,  2.5739e-01, -2.6004e-02, -1.0772e-01, -2.2982e-01,\n",
      "         -2.8395e-01,  2.0685e-01, -1.9413e-01,  1.6676e-01,  1.9442e-01,\n",
      "          2.7408e-01,  1.0759e-01, -9.1208e-02,  1.8907e-01, -1.0367e-01,\n",
      "          1.8785e-01],\n",
      "        [-2.4501e-01, -8.9948e-02, -1.7855e-01, -1.5144e-01,  1.5510e-01,\n",
      "         -2.5901e-01, -1.7817e-01, -1.7073e-01,  1.1177e-01,  9.4873e-03,\n",
      "         -1.7949e-01, -2.0339e-01, -1.1366e-01,  2.6957e-01,  2.3008e-01,\n",
      "          7.8461e-02],\n",
      "        [ 2.4105e-01, -1.4827e-01, -2.9830e-01, -3.6599e-02, -1.3252e-01,\n",
      "          1.1018e-01, -3.0171e-01, -1.4851e-01,  1.1745e-01, -2.2357e-01,\n",
      "         -2.6296e-01,  2.9419e-01, -1.4568e-01,  2.7298e-01,  8.8487e-02,\n",
      "         -2.9281e-01],\n",
      "        [-6.9275e-02, -1.1424e-01,  6.3239e-02, -1.3666e-01,  1.9471e-02,\n",
      "         -3.2006e-03,  1.4129e-01, -2.3601e-01,  2.9219e-01, -1.4950e-01,\n",
      "         -2.1729e-01,  1.3127e-01,  2.6814e-01, -2.0193e-01,  1.2189e-01,\n",
      "          7.7258e-02],\n",
      "        [ 4.3391e-02,  2.0720e-01, -8.7798e-02, -2.3260e-01, -9.0427e-02,\n",
      "          9.9439e-03,  1.7008e-01,  1.4909e-01,  2.7243e-01, -1.2776e-01,\n",
      "         -2.6318e-01, -1.5979e-01, -1.8293e-02,  2.0027e-01,  9.4545e-03,\n",
      "         -2.5078e-01],\n",
      "        [ 7.8836e-02,  2.8331e-01, -1.8395e-01,  1.7463e-01, -6.3075e-03,\n",
      "         -9.0402e-02, -1.0716e-01,  1.6670e-01, -2.1103e-01, -2.7132e-01,\n",
      "         -2.9341e-01,  2.7712e-01, -6.9915e-02,  6.2514e-02,  1.1712e-01,\n",
      "         -6.1727e-02],\n",
      "        [-1.6209e-01, -5.7589e-02,  1.3387e-02, -2.6250e-01, -7.4515e-03,\n",
      "          1.9211e-01, -1.5690e-01, -2.7166e-01,  2.5565e-01, -3.0903e-01,\n",
      "          1.3587e-01,  1.8623e-01, -1.4266e-01,  2.4495e-01,  2.6658e-01,\n",
      "          1.9428e-01],\n",
      "        [ 8.2423e-02, -2.3442e-01, -1.3888e-01,  4.5202e-02,  2.7809e-01,\n",
      "          2.0987e-01,  2.7350e-01,  2.4107e-01, -2.2741e-01, -1.7986e-01,\n",
      "          2.1711e-01,  4.4404e-02, -1.0370e-01,  2.3901e-01,  2.3892e-01,\n",
      "          2.6901e-01],\n",
      "        [-5.6735e-02,  2.5459e-01, -8.6834e-03,  9.2517e-02, -2.9114e-01,\n",
      "          2.5280e-01, -1.1205e-01,  2.1830e-01,  3.0460e-01, -4.7752e-02,\n",
      "          3.0461e-01, -2.4660e-01,  1.1612e-01,  9.2955e-02, -2.4045e-01,\n",
      "         -2.8059e-01],\n",
      "        [-2.0261e-01, -2.8180e-01,  2.8525e-01,  8.7758e-02,  2.1603e-02,\n",
      "         -1.9474e-01, -1.5743e-03,  1.1200e-01,  1.1603e-01,  1.7844e-01,\n",
      "          1.3747e-01, -2.4819e-01, -5.6119e-02,  1.0457e-01,  1.0374e-02,\n",
      "          2.3852e-01],\n",
      "        [-1.8373e-01, -2.2812e-01,  7.6583e-02, -2.6629e-01, -2.0577e-01,\n",
      "          2.3473e-01,  7.8217e-02, -1.9519e-01,  5.5500e-02,  1.4804e-01,\n",
      "          6.5009e-02, -1.6689e-01,  2.3098e-01, -2.8447e-02,  2.9571e-01,\n",
      "         -1.9413e-01],\n",
      "        [-9.5992e-02,  3.9114e-02, -1.7740e-01, -3.0082e-01, -1.2153e-01,\n",
      "         -2.1106e-01, -2.1370e-01, -9.9968e-02,  1.4347e-01,  1.9520e-01,\n",
      "          2.0453e-01, -2.6743e-01,  2.2352e-01,  9.8924e-02, -1.2942e-01,\n",
      "         -3.7613e-02],\n",
      "        [ 3.0741e-01,  2.0967e-01,  1.2675e-01, -1.4152e-01, -1.8015e-01,\n",
      "          1.4159e-01,  4.3180e-02,  2.7317e-01,  2.6987e-01,  1.3153e-01,\n",
      "          7.1988e-02, -9.7735e-03,  1.0557e-01, -1.5944e-01, -1.9336e-01,\n",
      "          2.7644e-01],\n",
      "        [-9.1272e-02,  5.8241e-02, -2.2348e-01, -2.0653e-01,  1.3247e-01,\n",
      "          5.6561e-02, -3.0319e-01,  1.2555e-01,  2.4602e-02,  4.1411e-02,\n",
      "         -1.0528e-01, -2.5762e-01, -2.0592e-01, -1.9540e-01, -1.7746e-01,\n",
      "          1.2839e-02],\n",
      "        [-2.8938e-01,  3.2590e-02, -1.1107e-01,  5.3332e-02, -1.2716e-01,\n",
      "          2.0787e-01,  1.9197e-01, -9.7553e-02,  1.1968e-01,  2.4043e-01,\n",
      "          1.0339e-01, -1.7156e-01,  1.4718e-01, -2.8442e-01,  2.4392e-01,\n",
      "          2.1845e-01],\n",
      "        [-4.4063e-02,  1.5377e-01,  1.3729e-01, -3.0075e-02,  8.1520e-02,\n",
      "         -2.9705e-01,  2.1235e-01, -2.8252e-01, -1.6054e-01,  2.1456e-01,\n",
      "          1.4301e-02, -5.4566e-02, -1.5659e-01, -1.7304e-01,  2.5147e-01,\n",
      "          1.3446e-01],\n",
      "        [ 1.1459e-01, -2.6818e-01, -1.2476e-01, -2.2728e-02, -1.1912e-01,\n",
      "          1.2953e-01, -8.9076e-02, -2.8916e-01,  2.9308e-01, -1.1298e-01,\n",
      "          2.5562e-01, -1.1930e-01, -8.4746e-02,  1.8604e-01, -1.1080e-02,\n",
      "          5.4294e-02],\n",
      "        [-8.9999e-02, -4.1122e-02, -9.0222e-02,  2.9089e-01,  3.4802e-02,\n",
      "          5.3192e-02, -1.9988e-01,  2.2162e-02,  2.7953e-02, -2.7107e-01,\n",
      "          2.5595e-01,  6.3336e-02, -1.3150e-01, -1.8587e-01, -1.2268e-01,\n",
      "         -6.2146e-02],\n",
      "        [-5.3909e-02, -2.7313e-01,  2.0200e-01, -1.0488e-01, -9.4814e-02,\n",
      "         -1.2735e-01, -5.8042e-02, -2.3598e-01, -5.4854e-02, -4.9200e-02,\n",
      "          1.6587e-01, -3.8629e-03,  1.9198e-01,  2.4294e-01, -2.1716e-01,\n",
      "         -8.1788e-02],\n",
      "        [ 1.9174e-01,  2.0426e-01, -2.6121e-01,  2.0808e-01,  2.4225e-02,\n",
      "         -1.8469e-01,  1.6296e-02, -1.5340e-01, -5.4198e-02, -1.5308e-01,\n",
      "          2.7869e-01,  7.5867e-02, -1.4375e-03, -2.2836e-01,  3.0219e-01,\n",
      "         -6.6767e-02],\n",
      "        [-1.7259e-01,  3.6676e-02,  2.5101e-01,  5.1626e-02, -1.9449e-01,\n",
      "         -2.4824e-01,  1.5994e-01,  3.9272e-02,  2.0955e-01, -2.8986e-01,\n",
      "         -9.2173e-02,  8.8523e-03, -2.8780e-01, -1.8369e-01,  2.0197e-01,\n",
      "         -2.5119e-01],\n",
      "        [-1.9205e-01, -1.2529e-01,  1.7325e-02, -1.0496e-01,  2.1142e-01,\n",
      "          7.3697e-02,  2.3920e-01,  1.8047e-01,  2.2082e-01, -2.8915e-01,\n",
      "          2.1246e-01, -2.9543e-01,  8.9696e-02, -6.4305e-02, -2.3069e-01,\n",
      "         -1.9252e-01],\n",
      "        [ 8.6209e-02,  1.0375e-01, -5.6216e-02, -3.1701e-02, -2.6512e-01,\n",
      "         -2.1999e-01, -9.5768e-02,  7.3502e-02,  1.9767e-01,  1.7792e-01,\n",
      "         -2.9712e-01,  2.6911e-02,  1.9769e-01,  4.4931e-02,  6.6290e-03,\n",
      "         -2.2608e-01],\n",
      "        [ 5.0321e-02, -5.8787e-02,  1.1288e-01, -4.5469e-02,  1.1190e-01,\n",
      "          6.3058e-02, -1.8571e-01,  2.6860e-03,  1.3226e-01,  1.4550e-01,\n",
      "          2.7486e-01,  2.2200e-01,  1.7094e-01, -2.8801e-01,  5.3469e-02,\n",
      "         -8.5526e-02],\n",
      "        [-7.2618e-02, -1.4730e-01,  3.1172e-02,  5.9561e-02,  2.5031e-01,\n",
      "         -2.8171e-01, -1.7914e-01,  2.0358e-01,  2.6142e-01,  9.2193e-02,\n",
      "         -1.3126e-01, -8.1914e-02, -2.2140e-01, -1.8868e-01, -5.4422e-02,\n",
      "          9.1835e-02]], requires_grad=True)\n",
      "Parameter containing:\n",
      "tensor([-1.5649e-03, -3.5847e-03,  3.7268e-03,  2.9943e-03, -2.5918e-03,\n",
      "         1.5339e-03, -2.3495e-03,  4.4301e-03, -2.3271e-03,  2.0939e-03,\n",
      "         6.5131e-05, -3.9287e-03, -3.1273e-03,  2.7191e-03, -3.6984e-03,\n",
      "         1.6770e-03,  4.1878e-15, -1.1691e-14, -4.0346e-15,  6.8103e-15,\n",
      "        -8.9437e-17, -6.1648e-15,  3.7301e-15,  5.4144e-15,  3.8506e-15,\n",
      "         3.9544e-15,  1.7625e-14, -3.6705e-15,  1.0562e-14,  2.6759e-15,\n",
      "         1.0321e-14,  6.6292e-15,  3.0136e-03, -7.0689e-04,  2.4587e-03,\n",
      "         9.6268e-04, -2.6775e-03,  4.6685e-03,  1.6994e-03,  1.7038e-03,\n",
      "         4.1449e-03,  5.1251e-03, -1.2432e-03, -3.3044e-03, -1.8821e-03,\n",
      "        -4.1548e-03,  2.8934e-03,  2.8701e-03], requires_grad=True)\n",
      "Parameter containing:\n",
      "tensor([[-0.1616,  0.1077,  0.1228, -0.2462, -0.0731,  0.1807, -0.2249,  0.1517,\n",
      "         -0.1227,  0.0157, -0.1043, -0.2039, -0.1642,  0.0957, -0.2289, -0.2392],\n",
      "        [-0.1861, -0.1299, -0.2240,  0.1106, -0.0061,  0.0460,  0.1060, -0.1929,\n",
      "          0.1493, -0.2270,  0.1912,  0.1480, -0.1773,  0.2323, -0.0976,  0.0151],\n",
      "        [ 0.0724, -0.0226, -0.1207, -0.0699, -0.1813, -0.0334,  0.0850,  0.1276,\n",
      "          0.0622, -0.1771, -0.1712, -0.2104,  0.0143, -0.1144, -0.2358, -0.0607],\n",
      "        [-0.1159, -0.0153,  0.1276,  0.1138,  0.2446, -0.2284, -0.1182, -0.1259,\n",
      "         -0.2183, -0.0939,  0.0875, -0.0531,  0.1072,  0.0612,  0.1922, -0.1080],\n",
      "        [ 0.0345, -0.0709,  0.2272,  0.1402,  0.0532,  0.1904, -0.1050,  0.0003,\n",
      "         -0.1229, -0.0946,  0.0990,  0.0282, -0.0328, -0.1974,  0.0840,  0.2022],\n",
      "        [ 0.2424, -0.2274, -0.2312,  0.1293, -0.0752,  0.1434, -0.1164,  0.1048,\n",
      "         -0.1199,  0.0393, -0.0687,  0.0211, -0.0727,  0.2257,  0.0295, -0.0441],\n",
      "        [-0.2126,  0.2492,  0.1389, -0.0751,  0.0661,  0.1652,  0.1412,  0.1869,\n",
      "          0.0501,  0.0834,  0.0302, -0.0541, -0.0534,  0.0498,  0.0662, -0.1109],\n",
      "        [ 0.0287, -0.1550,  0.0529,  0.1968, -0.1570,  0.1903, -0.0649,  0.1544,\n",
      "         -0.1558, -0.0445, -0.1115, -0.2178, -0.0800,  0.0159, -0.0637, -0.0356],\n",
      "        [ 0.0054,  0.1224, -0.1876, -0.2500,  0.1890,  0.1445,  0.1685,  0.1089,\n",
      "         -0.1749, -0.2244,  0.1983, -0.0663,  0.2031, -0.1392,  0.0931, -0.0967],\n",
      "        [-0.1474, -0.1095, -0.2315,  0.0299,  0.0640,  0.2262,  0.0400, -0.0488,\n",
      "          0.1128,  0.0307, -0.0678, -0.1225, -0.1870, -0.2411,  0.2013,  0.2040],\n",
      "        [ 0.0785, -0.0731,  0.1499,  0.0583,  0.0951, -0.1107, -0.2012,  0.2325,\n",
      "         -0.1622,  0.2255, -0.2008,  0.1843,  0.1734, -0.2388,  0.2046, -0.1996],\n",
      "        [ 0.1678, -0.1785, -0.0167, -0.2051, -0.2037,  0.1730,  0.1466, -0.1765,\n",
      "          0.0467, -0.0016,  0.2019,  0.2389, -0.1840,  0.0054,  0.2056, -0.1681],\n",
      "        [-0.1979,  0.2231,  0.0356,  0.1731,  0.1080, -0.0654,  0.1415,  0.0091,\n",
      "          0.1032,  0.0589, -0.0064,  0.2323,  0.1440, -0.1407, -0.0791,  0.1187],\n",
      "        [-0.1751,  0.2130, -0.0989, -0.0479, -0.2264, -0.0144,  0.1400, -0.1419,\n",
      "          0.1412,  0.0575, -0.1153, -0.0561, -0.2358, -0.0493, -0.2168,  0.1107],\n",
      "        [ 0.0250, -0.0305,  0.0636,  0.1135,  0.1673, -0.0550,  0.0221,  0.0740,\n",
      "         -0.0835, -0.0835, -0.2119, -0.1742,  0.1850, -0.2204,  0.1291, -0.0123],\n",
      "        [-0.2213,  0.0809, -0.1622, -0.0501,  0.2269, -0.1632, -0.1103, -0.1922,\n",
      "         -0.0854, -0.2239, -0.0688,  0.1326, -0.0592,  0.0870,  0.0293,  0.1683]],\n",
      "       requires_grad=True)\n",
      "Parameter containing:\n",
      "tensor([-3.0533e-03, -4.2195e-03,  3.8755e-03,  5.3135e-05,  3.7605e-03,\n",
      "         2.8133e-03,  4.8028e-03, -5.3471e-03, -1.9554e-03,  4.4714e-03,\n",
      "        -3.4549e-04,  1.6622e-03, -1.9249e-03,  1.9116e-03, -6.5441e-04,\n",
      "        -5.4757e-03], requires_grad=True)\n",
      "Parameter containing:\n",
      "tensor([[ 0.2389,  0.1221,  0.2455,  ...,  0.0521, -0.1010,  0.1005],\n",
      "        [ 0.2239, -0.2140,  0.2439,  ...,  0.2318,  0.0020, -0.1991],\n",
      "        [-0.1356, -0.2475,  0.1203,  ...,  0.1762, -0.2306,  0.0568],\n",
      "        ...,\n",
      "        [-0.1986,  0.0696,  0.1697,  ...,  0.1264, -0.1406, -0.0389],\n",
      "        [-0.0811,  0.0553,  0.1293,  ..., -0.0194,  0.0212,  0.2250],\n",
      "        [-0.0898, -0.2249, -0.0382,  ..., -0.2360, -0.0741, -0.0931]],\n",
      "       requires_grad=True)\n",
      "Parameter containing:\n",
      "tensor([ 0.0079, -0.2143,  0.0334,  ..., -0.0796, -0.1958,  0.0374],\n",
      "       requires_grad=True)\n",
      "Parameter containing:\n",
      "tensor([[-0.0161, -0.0177,  0.0028,  ..., -0.0222, -0.0050,  0.0040],\n",
      "        [-0.0238,  0.0126,  0.0178,  ..., -0.0073, -0.0035, -0.0237],\n",
      "        [ 0.0069, -0.0002, -0.0128,  ..., -0.0271, -0.0011, -0.0080],\n",
      "        ...,\n",
      "        [-0.0181, -0.0262, -0.0270,  ..., -0.0250, -0.0069, -0.0180],\n",
      "        [ 0.0077,  0.0052,  0.0153,  ..., -0.0190, -0.0241, -0.0175],\n",
      "        [-0.0029,  0.0036, -0.0065,  ..., -0.0198,  0.0101,  0.0046]],\n",
      "       requires_grad=True)\n",
      "Parameter containing:\n",
      "tensor([ 0.0064,  0.0116,  0.0107,  0.0214, -0.0185, -0.0016,  0.0007, -0.0134,\n",
      "         0.0008, -0.0168,  0.0021,  0.0092,  0.0021,  0.0149, -0.0094, -0.0252],\n",
      "       requires_grad=True)\n",
      "Parameter containing:\n",
      "tensor([1.0027, 0.9950, 0.9911, 1.0000, 0.9999, 1.0002, 0.9997, 0.9974, 0.9980,\n",
      "        1.0029, 0.9979, 0.9987, 1.0056, 1.0017, 0.9989, 1.0042],\n",
      "       requires_grad=True)\n",
      "Parameter containing:\n",
      "tensor([-0.0007, -0.0030,  0.0005,  0.0004,  0.0032,  0.0010,  0.0027, -0.0041,\n",
      "        -0.0025,  0.0025,  0.0003,  0.0017, -0.0021,  0.0024,  0.0007, -0.0043],\n",
      "       requires_grad=True)\n",
      "Parameter containing:\n",
      "tensor([0.9996, 0.9972, 0.9949, 0.9977, 1.0031, 1.0004, 0.9989, 0.9998, 0.9968,\n",
      "        1.0042, 0.9969, 1.0009, 1.0026, 1.0044, 0.9978, 1.0053],\n",
      "       requires_grad=True)\n",
      "Parameter containing:\n",
      "tensor([ 3.2225e-04, -3.4747e-03,  8.8358e-04,  7.9121e-05,  3.6814e-03,\n",
      "         1.7501e-03,  3.4965e-03, -3.8473e-03, -2.1180e-03,  3.4341e-03,\n",
      "         9.5601e-04,  2.6227e-03, -2.2264e-03,  2.3457e-03,  1.3941e-03,\n",
      "        -5.2082e-03], requires_grad=True)\n",
      "Parameter containing:\n",
      "tensor([[-0.0655,  0.1610,  0.1484, -0.0526,  0.0364,  0.0767,  0.0783, -0.1717,\n",
      "         -0.0592,  0.0509,  0.0434,  0.2443, -0.2732,  0.0325,  0.0727, -0.1758],\n",
      "        [ 0.2127,  0.2545, -0.0985, -0.0372,  0.0462,  0.0630,  0.2176,  0.1265,\n",
      "         -0.2173, -0.0874,  0.2774, -0.1228, -0.2892,  0.1605,  0.0543, -0.0698],\n",
      "        [-0.0101, -0.2076, -0.1639,  0.0887,  0.0559,  0.0340, -0.0646,  0.2584,\n",
      "         -0.2925,  0.0852,  0.0171, -0.2006, -0.1517, -0.1979,  0.1493,  0.2866],\n",
      "        [-0.0925, -0.2737, -0.1886,  0.0624, -0.1972,  0.0436,  0.1820, -0.2917,\n",
      "          0.0252,  0.2577,  0.1484, -0.1933,  0.1078,  0.0216, -0.1735, -0.2867],\n",
      "        [-0.0082,  0.3046,  0.0802, -0.0520,  0.2275,  0.0462, -0.3017, -0.1595,\n",
      "         -0.1709, -0.1351,  0.0474,  0.1697, -0.1120, -0.1978,  0.2844,  0.2793],\n",
      "        [-0.2652, -0.1548, -0.1496, -0.2287, -0.2392, -0.2990,  0.2144,  0.3132,\n",
      "         -0.1605,  0.1755,  0.0563, -0.0184,  0.2460,  0.2770,  0.2260, -0.0165],\n",
      "        [-0.2512, -0.0788, -0.1528,  0.2802,  0.0039,  0.0916, -0.1579,  0.1672,\n",
      "          0.2602, -0.2209,  0.1133, -0.3001, -0.1133,  0.2813,  0.1805, -0.1489],\n",
      "        [-0.2583, -0.0472, -0.0341, -0.0998, -0.2924,  0.1861, -0.2250, -0.1278,\n",
      "         -0.3092,  0.1732, -0.1137,  0.0890, -0.0324, -0.0649, -0.1606, -0.0942],\n",
      "        [-0.2743, -0.0134,  0.2758,  0.0901, -0.1638,  0.1477, -0.1673, -0.0442,\n",
      "         -0.1730,  0.0871, -0.2533,  0.2729, -0.0892,  0.2467,  0.1364, -0.2609],\n",
      "        [-0.2173, -0.0110,  0.3065,  0.2288,  0.1013, -0.0624,  0.2167, -0.1417,\n",
      "          0.1815, -0.1133,  0.1047,  0.2511, -0.0506,  0.0703,  0.2701,  0.0215],\n",
      "        [-0.2134, -0.0819, -0.2920,  0.2419, -0.1194,  0.1312, -0.1113, -0.0423,\n",
      "         -0.1264,  0.2795, -0.1651,  0.2021, -0.0972,  0.2816, -0.0870, -0.0741],\n",
      "        [ 0.1821,  0.1156, -0.0799, -0.2696, -0.1663,  0.0817,  0.2018, -0.0011,\n",
      "          0.0691,  0.1673,  0.0608, -0.3080,  0.0425,  0.1500,  0.1507,  0.2534],\n",
      "        [-0.2422,  0.0988, -0.2210,  0.2170,  0.1283, -0.2967,  0.2909,  0.0615,\n",
      "          0.0608,  0.2566, -0.1937, -0.0345, -0.2774,  0.1487,  0.1922,  0.0979],\n",
      "        [ 0.1274,  0.1567,  0.1054, -0.0118, -0.0908, -0.0759,  0.2028, -0.0449,\n",
      "         -0.0767,  0.0820, -0.3115, -0.1310, -0.0181,  0.0594,  0.1295, -0.2162],\n",
      "        [ 0.0131, -0.0366, -0.1768, -0.0268,  0.1772,  0.3017, -0.0072, -0.1763,\n",
      "         -0.1350,  0.2152, -0.0627,  0.1280, -0.2105, -0.1109,  0.2603,  0.1916],\n",
      "        [ 0.0194,  0.0121,  0.1225,  0.2318,  0.1172, -0.0928,  0.0189, -0.1487,\n",
      "          0.1225,  0.0815,  0.1348,  0.2653, -0.0412,  0.0539,  0.0694, -0.0504],\n",
      "        [-0.0538,  0.1321, -0.2137, -0.2535,  0.1975, -0.3056,  0.1730,  0.1341,\n",
      "          0.2835,  0.1197,  0.2385,  0.2907, -0.1886, -0.1368,  0.2292, -0.0194],\n",
      "        [ 0.3061,  0.1663,  0.1658, -0.2467,  0.1413, -0.2523, -0.0265,  0.2525,\n",
      "          0.0116, -0.0569,  0.0658, -0.0820, -0.1494,  0.0901,  0.1342,  0.1209],\n",
      "        [-0.1042, -0.2522,  0.1202, -0.0090, -0.0456,  0.3129, -0.1749,  0.0053,\n",
      "         -0.0624, -0.0824, -0.2855, -0.0134, -0.2840,  0.0526,  0.2620,  0.0051],\n",
      "        [ 0.0604,  0.1133,  0.2104,  0.2915,  0.0285,  0.2907, -0.0334,  0.1960,\n",
      "         -0.1867, -0.0890,  0.0461,  0.2200,  0.1150,  0.2693,  0.0995,  0.0930],\n",
      "        [ 0.1373,  0.0199, -0.2972, -0.2602, -0.0478, -0.2921, -0.1375,  0.1152,\n",
      "         -0.1743,  0.2241, -0.2429,  0.2399, -0.0890,  0.2637, -0.2597,  0.1843],\n",
      "        [ 0.0940,  0.1052, -0.0236, -0.1517,  0.2836, -0.1388,  0.1263, -0.2191,\n",
      "          0.1508,  0.2994, -0.0042,  0.2971, -0.2304, -0.1488, -0.2198, -0.2265],\n",
      "        [ 0.0883, -0.0100, -0.1801, -0.2882,  0.2317,  0.2039,  0.1296, -0.1029,\n",
      "          0.3048, -0.0252, -0.1498,  0.1897,  0.0858, -0.1891, -0.0641,  0.2748],\n",
      "        [ 0.1709,  0.2448, -0.0224, -0.1077, -0.2411, -0.2909,  0.2021, -0.2063,\n",
      "          0.1618,  0.1960,  0.2836,  0.1074, -0.0798,  0.1857, -0.0923,  0.1827],\n",
      "        [-0.2498, -0.0950, -0.1783, -0.1526,  0.1498, -0.2691, -0.1762, -0.1763,\n",
      "          0.1056,  0.0080, -0.1723, -0.2060, -0.1021,  0.2748,  0.2375,  0.0790],\n",
      "        [ 0.2365, -0.1527, -0.3013, -0.0380, -0.1370,  0.1016, -0.3004, -0.1528,\n",
      "          0.1121, -0.2250, -0.2573,  0.2927, -0.1381,  0.2776,  0.0939, -0.2882],\n",
      "        [-0.0765, -0.1196,  0.0632, -0.1416,  0.0144, -0.0147,  0.1450, -0.2415,\n",
      "          0.2836, -0.1544, -0.2106,  0.1272,  0.2794, -0.1965,  0.1290,  0.0758],\n",
      "        [ 0.0479,  0.2132, -0.0866, -0.2316, -0.0859,  0.0192,  0.1681,  0.1537,\n",
      "          0.2774, -0.1262, -0.2697, -0.1585, -0.0285,  0.1984,  0.0031, -0.2519],\n",
      "        [ 0.0714,  0.2782, -0.1836,  0.1709, -0.0117, -0.1026, -0.1048,  0.1612,\n",
      "         -0.2204, -0.2753, -0.2864,  0.2716, -0.0587,  0.0685,  0.1242, -0.0625],\n",
      "        [-0.1608, -0.0679,  0.0180, -0.2654, -0.0224,  0.1841, -0.1581, -0.2857,\n",
      "          0.2506, -0.3122,  0.1487,  0.1865, -0.1308,  0.2516,  0.2797,  0.1880],\n",
      "        [ 0.0747, -0.2408, -0.1388,  0.0399,  0.2720,  0.1974,  0.2770,  0.2346,\n",
      "         -0.2366, -0.1847,  0.2249,  0.0404, -0.0920,  0.2452,  0.2469,  0.2678],\n",
      "        [-0.0625,  0.2492, -0.0103,  0.0899, -0.2964,  0.2420, -0.1102,  0.2130,\n",
      "          0.2976, -0.0505,  0.3113, -0.2496,  0.1264,  0.0976, -0.2339, -0.2781],\n",
      "        [-0.2117, -0.2815,  0.2894,  0.0883,  0.0265, -0.1928, -0.0054,  0.1133,\n",
      "          0.1127,  0.1806,  0.1360, -0.2486, -0.0572,  0.0976,  0.0096,  0.2325],\n",
      "        [-0.1729, -0.2273,  0.0694, -0.2672, -0.2087,  0.2310,  0.0881, -0.1961,\n",
      "          0.0565,  0.1433,  0.0638, -0.1634,  0.2335, -0.0163,  0.2983, -0.1923],\n",
      "        [-0.1024,  0.0379, -0.1744, -0.3057, -0.1163, -0.2143, -0.2071, -0.1020,\n",
      "          0.1384,  0.1949,  0.1989, -0.2653,  0.2161,  0.1055, -0.1336, -0.0452],\n",
      "        [ 0.3009,  0.2108,  0.1289, -0.1403, -0.1780,  0.1461,  0.0368,  0.2764,\n",
      "          0.2721,  0.1335,  0.0754, -0.0144,  0.1044, -0.1684, -0.1994,  0.2770],\n",
      "        [-0.0891,  0.0665, -0.2285, -0.2087,  0.1336,  0.0584, -0.3016,  0.1343,\n",
      "          0.0263,  0.0395, -0.1003, -0.2625, -0.1998, -0.1942, -0.1789,  0.0211],\n",
      "        [-0.2963,  0.0231, -0.1055,  0.0560, -0.1259,  0.2112,  0.1837, -0.1058,\n",
      "          0.1185,  0.2465,  0.0981, -0.1693,  0.1438, -0.2932,  0.2479,  0.2091],\n",
      "        [-0.0383,  0.1523,  0.1358, -0.0297,  0.0811, -0.3005,  0.2187, -0.2850,\n",
      "         -0.1606,  0.2134,  0.0138, -0.0508, -0.1564, -0.1656,  0.2509,  0.1321],\n",
      "        [ 0.1089, -0.2700, -0.1237, -0.0244, -0.1147,  0.1285, -0.0862, -0.2913,\n",
      "          0.2878, -0.1126,  0.2521, -0.1185, -0.0870,  0.1876, -0.0111,  0.0500],\n",
      "        [-0.0862, -0.0472, -0.0923,  0.2928,  0.0299,  0.0501, -0.1993,  0.0170,\n",
      "          0.0300, -0.2728,  0.2525,  0.0666, -0.1349, -0.1851, -0.1227, -0.0678],\n",
      "        [-0.0597, -0.2798,  0.2035, -0.1062, -0.0940, -0.1303, -0.0565, -0.2419,\n",
      "         -0.0584, -0.0498,  0.1594, -0.0019,  0.1839,  0.2427, -0.2210, -0.0918],\n",
      "        [ 0.1951,  0.2027, -0.2618,  0.2109,  0.0254, -0.1825,  0.0170, -0.1544,\n",
      "         -0.0523, -0.1499,  0.2776,  0.0792,  0.0007, -0.2266,  0.3064, -0.0661],\n",
      "        [-0.1651,  0.0438,  0.2436,  0.0502, -0.1946, -0.2500,  0.1689,  0.0455,\n",
      "          0.2133, -0.2932, -0.0895,  0.0080, -0.2833, -0.1741,  0.1977, -0.2438],\n",
      "        [-0.1908, -0.1178,  0.0132, -0.1098,  0.2128,  0.0710,  0.2456,  0.1870,\n",
      "          0.2193, -0.2942,  0.2180, -0.2999,  0.0938, -0.0582, -0.2375, -0.1869],\n",
      "        [ 0.0951,  0.1032, -0.0580, -0.0282, -0.2690, -0.2204, -0.0940,  0.0704,\n",
      "          0.2001,  0.1780, -0.2956,  0.0295,  0.2033,  0.0505,  0.0146, -0.2200],\n",
      "        [ 0.0392, -0.0578,  0.1183, -0.0452,  0.1155,  0.0665, -0.1943,  0.0054,\n",
      "          0.1310,  0.1480,  0.2761,  0.2180,  0.1687, -0.2991,  0.0506, -0.0894],\n",
      "        [-0.0709, -0.1501,  0.0275,  0.0648,  0.2470, -0.2764, -0.1872,  0.2039,\n",
      "          0.2688,  0.0943, -0.1281, -0.0844, -0.2210, -0.1989, -0.0579,  0.0922]],\n",
      "       requires_grad=True)\n",
      "Parameter containing:\n",
      "tensor([-3.6077e-04, -3.1454e-03, -2.2153e-03, -4.6616e-03, -5.5071e-03,\n",
      "        -8.9259e-03, -6.1286e-03,  7.8994e-03,  9.1022e-03, -6.6466e-04,\n",
      "         1.1202e-02, -6.2134e-03, -5.5426e-03,  8.9120e-03,  2.1570e-03,\n",
      "        -7.6757e-03,  3.5356e-15, -9.5078e-17, -1.6916e-15,  3.0234e-15,\n",
      "         2.2054e-16, -6.6813e-16, -1.4683e-15,  2.1401e-15, -1.7948e-15,\n",
      "         2.9988e-15,  1.7039e-15, -3.8608e-15,  2.4262e-15,  1.4344e-15,\n",
      "         4.0609e-15,  3.9217e-16,  3.8960e-03, -2.8513e-03,  4.6519e-03,\n",
      "         8.2167e-05, -3.7968e-03,  4.7624e-03, -3.6580e-04,  3.3765e-03,\n",
      "         3.9892e-04,  4.0849e-03,  8.4846e-05, -4.0426e-03, -2.7705e-03,\n",
      "        -2.6585e-03,  2.6931e-03, -3.0740e-03], requires_grad=True)\n",
      "Parameter containing:\n",
      "tensor([[-0.1678,  0.1099,  0.1189, -0.2481, -0.0800,  0.1752, -0.2267,  0.1550,\n",
      "         -0.1250,  0.0209, -0.1053, -0.1989, -0.1668,  0.1013, -0.2318, -0.2415],\n",
      "        [-0.1809, -0.1315, -0.2239,  0.1159, -0.0058,  0.0521,  0.1015, -0.1886,\n",
      "          0.1528, -0.2321,  0.1951,  0.1406, -0.1761,  0.2314, -0.0947,  0.0181],\n",
      "        [ 0.0694, -0.0189, -0.1177, -0.0717, -0.1802, -0.0345,  0.0870,  0.1254,\n",
      "          0.0602, -0.1759, -0.1714, -0.2079,  0.0123, -0.1129, -0.2388, -0.0640],\n",
      "        [-0.1170, -0.0137,  0.1307,  0.1132,  0.2482, -0.2297, -0.1156, -0.1271,\n",
      "         -0.2200, -0.0930,  0.0865, -0.0524,  0.1066,  0.0593,  0.1899, -0.1105],\n",
      "        [ 0.0369, -0.0685,  0.2263,  0.1325,  0.0600,  0.1918, -0.0988, -0.0064,\n",
      "         -0.1205, -0.0968,  0.0964,  0.0320, -0.0369, -0.2000,  0.0874,  0.2037],\n",
      "        [ 0.2460, -0.2274, -0.2320,  0.1261, -0.0718,  0.1479, -0.1127,  0.1030,\n",
      "         -0.1172,  0.0358, -0.0684,  0.0196, -0.0758,  0.2226,  0.0333, -0.0414],\n",
      "        [-0.2172,  0.2519,  0.1344, -0.0817,  0.0620,  0.1596,  0.1425,  0.1859,\n",
      "          0.0503,  0.0893,  0.0250, -0.0456, -0.0570,  0.0539,  0.0662, -0.1105],\n",
      "        [ 0.0374, -0.1508,  0.0556,  0.1969, -0.1569,  0.1992, -0.0584,  0.1520,\n",
      "         -0.1571, -0.0513, -0.1051, -0.2248, -0.0852,  0.0158, -0.0571, -0.0365],\n",
      "        [ 0.0041,  0.1192, -0.1874, -0.2466,  0.1856,  0.1459,  0.1655,  0.1085,\n",
      "         -0.1783, -0.2261,  0.2030, -0.0716,  0.2066, -0.1381,  0.0927, -0.0968],\n",
      "        [-0.1405, -0.1093, -0.2267,  0.0244,  0.0739,  0.2339,  0.0451, -0.0490,\n",
      "          0.1180,  0.0269, -0.0659, -0.1230, -0.1929, -0.2464,  0.2069,  0.2061],\n",
      "        [ 0.0781, -0.0768,  0.1535,  0.0604,  0.1023, -0.1105, -0.2034,  0.2293,\n",
      "         -0.1618,  0.2232, -0.2022,  0.1831,  0.1789, -0.2440,  0.2017, -0.2004],\n",
      "        [ 0.1637, -0.1754, -0.0178, -0.2086, -0.2068,  0.1687,  0.1515, -0.1800,\n",
      "          0.0398,  0.0016,  0.1994,  0.2441, -0.1877,  0.0102,  0.2046, -0.1707],\n",
      "        [-0.2042,  0.2190,  0.0339,  0.1794,  0.1014, -0.0730,  0.1329,  0.0142,\n",
      "          0.1026,  0.0626, -0.0090,  0.2320,  0.1530, -0.1398, -0.0842,  0.1193],\n",
      "        [-0.1841,  0.2110, -0.1059, -0.0487, -0.2325, -0.0238,  0.1338, -0.1357,\n",
      "          0.1428,  0.0644, -0.1183, -0.0470, -0.2348, -0.0417, -0.2216,  0.1108],\n",
      "        [ 0.0280, -0.0353,  0.0615,  0.1140,  0.1726, -0.0600,  0.0248,  0.0673,\n",
      "         -0.0842, -0.0826, -0.2210, -0.1723,  0.1880, -0.2283,  0.1290, -0.0102],\n",
      "        [-0.2182,  0.0797, -0.1598, -0.0409,  0.2243, -0.1561, -0.1157, -0.1887,\n",
      "         -0.0869, -0.2278, -0.0598,  0.1224, -0.0560,  0.0884,  0.0288,  0.1672]],\n",
      "       requires_grad=True)\n",
      "Parameter containing:\n",
      "tensor([ 9.1027e-04, -3.0714e-03,  1.0540e-04,  3.0141e-06,  4.4205e-03,\n",
      "         1.8668e-03,  4.1824e-03, -6.8479e-04, -2.4413e-03,  1.4571e-03,\n",
      "        -1.1429e-03,  2.6000e-03, -3.1712e-03,  1.5442e-03,  2.6924e-03,\n",
      "        -5.2494e-03], requires_grad=True)\n",
      "Parameter containing:\n",
      "tensor([[ 0.2397,  0.1212,  0.2440,  ...,  0.0507, -0.1019,  0.1030],\n",
      "        [ 0.2253, -0.2061,  0.2408,  ...,  0.2300,  0.0056, -0.1932],\n",
      "        [-0.1354, -0.2449,  0.1179,  ...,  0.1737, -0.2251,  0.0617],\n",
      "        ...,\n",
      "        [-0.1993,  0.0684,  0.1709,  ...,  0.1194, -0.1380, -0.0360],\n",
      "        [-0.0805,  0.0477,  0.1300,  ..., -0.0161,  0.0233,  0.2241],\n",
      "        [-0.0854, -0.2218, -0.0408,  ..., -0.2334, -0.0735, -0.0925]],\n",
      "       requires_grad=True)\n",
      "Parameter containing:\n",
      "tensor([ 0.0069, -0.2176,  0.0319,  ..., -0.0804, -0.1966,  0.0361],\n",
      "       requires_grad=True)\n",
      "Parameter containing:\n",
      "tensor([[-0.0154, -0.0104,  0.0094,  ..., -0.0186, -0.0053,  0.0033],\n",
      "        [-0.0215,  0.0089,  0.0131,  ..., -0.0081, -0.0014, -0.0219],\n",
      "        [ 0.0061,  0.0012, -0.0107,  ..., -0.0253, -0.0021, -0.0090],\n",
      "        ...,\n",
      "        [-0.0167, -0.0195, -0.0170,  ..., -0.0237, -0.0098, -0.0190],\n",
      "        [ 0.0125,  0.0052,  0.0158,  ..., -0.0157, -0.0181, -0.0152],\n",
      "        [-0.0004, -0.0020, -0.0182,  ..., -0.0248,  0.0097,  0.0048]],\n",
      "       requires_grad=True)\n",
      "Parameter containing:\n",
      "tensor([ 0.0074,  0.0116,  0.0101,  0.0208, -0.0177, -0.0013,  0.0012, -0.0109,\n",
      "         0.0013, -0.0183,  0.0009,  0.0095,  0.0017,  0.0133, -0.0080, -0.0254],\n",
      "       requires_grad=True)\n",
      "Parameter containing:\n",
      "tensor([1.0024, 0.9952, 0.9935, 0.9959, 1.0037, 0.9978, 0.9977, 0.9963, 0.9956,\n",
      "        1.0034, 0.9979, 1.0021, 1.0032, 1.0038, 0.9950, 1.0048],\n",
      "       requires_grad=True)\n",
      "Parameter containing:\n",
      "tensor([ 0.0006, -0.0033,  0.0002, -0.0005,  0.0044,  0.0018,  0.0044, -0.0011,\n",
      "        -0.0022,  0.0018, -0.0015,  0.0029, -0.0032,  0.0014,  0.0024, -0.0052],\n",
      "       requires_grad=True)\n",
      "Parameter containing:\n",
      "tensor([1.0074, 1.0082, 1.0067, 1.0066, 1.0105, 1.0084, 1.0089, 1.0070, 1.0020,\n",
      "        1.0088, 1.0058, 1.0093, 1.0091, 1.0099, 1.0019, 1.0110],\n",
      "       requires_grad=True)\n",
      "Parameter containing:\n",
      "tensor([-0.0019, -0.0093,  0.0077, -0.0065,  0.0100,  0.0080,  0.0104, -0.0063,\n",
      "        -0.0055,  0.0085, -0.0065,  0.0097, -0.0094,  0.0079,  0.0057, -0.0106],\n",
      "       requires_grad=True)\n"
     ]
    }
   ],
   "source": [
    "for p in cond_transformer.parameters():\n",
    "    print(p)\n",
    "    \n"
   ]
  },
  {
   "cell_type": "code",
   "execution_count": 38,
   "metadata": {},
   "outputs": [],
   "source": [
    "(mask_partons, data_partons, \n",
    "        mask_lepton_partons, data_lepton_partons, \n",
    "        mask_boost_parton, data_boost_parton, \n",
    "        data_intermediate, data_intermediate_cartesian,\n",
    "        data_ps,  mask_lepton, data_lepton, mask_jets,\n",
    "        data_jets,mask_met, data_met,\n",
    "        mask_boost_reco,data_boost_reco) =  data\n",
    "    \n",
    "\n",
    "cond_X = cond_transformer(data_jets, data_lepton, data_met,\n",
    "                                        data_boost_reco, mask_jets, \n",
    "                                        mask_lepton, mask_met, mask_boost_reco)"
   ]
  },
  {
   "cell_type": "code",
   "execution_count": 103,
   "metadata": {},
   "outputs": [],
   "source": [
    "ps_new = flow(cond_X).sample((50,))"
   ]
  },
  {
   "cell_type": "code",
   "execution_count": 68,
   "metadata": {},
   "outputs": [
    {
     "data": {
      "text/plain": [
       "torch.Size([512, 10])"
      ]
     },
     "execution_count": 68,
     "metadata": {},
     "output_type": "execute_result"
    }
   ],
   "source": [
    "data_ps.shape"
   ]
  },
  {
   "cell_type": "code",
   "execution_count": 105,
   "metadata": {},
   "outputs": [
    {
     "data": {
      "text/plain": [
       "<matplotlib.colorbar.Colorbar at 0x7f5abf769730>"
      ]
     },
     "execution_count": 105,
     "metadata": {},
     "output_type": "execute_result"
    },
    {
     "data": {
      "image/png": "[encoded data removed]",
      "text/plain": [
       "<Figure size 640x480 with 2 Axes>"
      ]
     },
     "metadata": {},
     "output_type": "display_data"
    }
   ],
   "source": [
    "plt.hist2d(data_ps[:,-2:].unsqueeze(0).tile(50,1,1).flatten().numpy(), \n",
    "           ps_new[:,:,-2:].flatten().numpy(), \n",
    "           bins=40, range=((0,1),(0,1)));\n",
    "plt.colorbar()"
   ]
  },
  {
   "cell_type": "code",
   "execution_count": 109,
   "metadata": {},
   "outputs": [
    {
     "data": {
      "text/plain": [
       "<matplotlib.colorbar.Colorbar at 0x7f5acb00bd60>"
      ]
     },
     "execution_count": 109,
     "metadata": {},
     "output_type": "execute_result"
    },
    {
     "data": {
      "image/png": "[encoded data removed]",
      "text/plain": [
       "<Figure size 640x480 with 2 Axes>"
      ]
     },
     "metadata": {},
     "output_type": "display_data"
    }
   ],
   "source": [
    "plt.hist2d(data_ps[:,7].unsqueeze(0).tile(50,1,1).flatten().numpy(), \n",
    "           ps_new[:,:,7].flatten().numpy(), \n",
    "           bins=40, range=((0,1),(0,1)));\n",
    "plt.colorbar()"
   ]
  },
  {
   "cell_type": "code",
   "execution_count": 53,
   "metadata": {},
   "outputs": [
    {
     "data": {
      "text/plain": [
       "(array([  42.,   81.,  101.,  138.,  141.,  154.,  197.,  182.,  213.,\n",
       "         221.,  247.,  244.,  251.,  238.,  278.,  288.,  263.,  280.,\n",
       "         334.,  346.,  329.,  370.,  401.,  404.,  429.,  426.,  440.,\n",
       "         429.,  504.,  523.,  542.,  578.,  604.,  615.,  656.,  680.,\n",
       "         709.,  773.,  788.,  808.,  891.,  889.,  957., 1000., 1051.,\n",
       "        1058., 1096., 1095., 1272., 1321., 1245., 1220., 1110., 1086.,\n",
       "        1045.,  994.,  979.,  972.,  887.,  823.,  818.,  772.,  753.,\n",
       "         701.,  646.,  647.,  597.,  614.,  492.,  543.,  495.,  509.,\n",
       "         445.,  433.,  442.,  430.,  406.,  363.,  366.,  331.,  329.,\n",
       "         302.,  342.,  253.,  288.,  263.,  270.,  232.,  248.,  184.,\n",
       "         222.,  192.,  169.,  164.,  167.,  160.,  139.,   94.,   79.,\n",
       "          42.]),\n",
       " array([-0.99332244, -0.97341674, -0.95351104, -0.93360535, -0.91369965,\n",
       "        -0.89379395, -0.87388825, -0.85398255, -0.83407686, -0.81417116,\n",
       "        -0.79426546, -0.77435976, -0.75445407, -0.73454837, -0.71464267,\n",
       "        -0.69473697, -0.67483128, -0.65492558, -0.63501988, -0.61511418,\n",
       "        -0.59520848, -0.57530279, -0.55539709, -0.53549139, -0.51558569,\n",
       "        -0.49568   , -0.4757743 , -0.4558686 , -0.4359629 , -0.41605721,\n",
       "        -0.39615151, -0.37624581, -0.35634011, -0.33643441, -0.31652872,\n",
       "        -0.29662302, -0.27671732, -0.25681162, -0.23690593, -0.21700023,\n",
       "        -0.19709453, -0.17718883, -0.15728313, -0.13737744, -0.11747174,\n",
       "        -0.09756604, -0.07766034, -0.05775465, -0.03784895, -0.01794325,\n",
       "         0.00196245,  0.02186814,  0.04177384,  0.06167954,  0.08158524,\n",
       "         0.10149094,  0.12139663,  0.14130233,  0.16120803,  0.18111373,\n",
       "         0.20101942,  0.22092512,  0.24083082,  0.26073652,  0.28064221,\n",
       "         0.30054791,  0.32045361,  0.34035931,  0.36026501,  0.3801707 ,\n",
       "         0.4000764 ,  0.4199821 ,  0.4398878 ,  0.45979349,  0.47969919,\n",
       "         0.49960489,  0.51951059,  0.53941629,  0.55932198,  0.57922768,\n",
       "         0.59913338,  0.61903908,  0.63894477,  0.65885047,  0.67875617,\n",
       "         0.69866187,  0.71856756,  0.73847326,  0.75837896,  0.77828466,\n",
       "         0.79819036,  0.81809605,  0.83800175,  0.85790745,  0.87781315,\n",
       "         0.89771884,  0.91762454,  0.93753024,  0.95743594,  0.97734163,\n",
       "         0.99724733]),\n",
       " <BarContainer object of 100 artists>)"
      ]
     },
     "execution_count": 53,
     "metadata": {},
     "output_type": "execute_result"
    },
    {
     "data": {
      "image/png": "[encoded data removed]",
      "text/plain": [
       "<Figure size 640x480 with 1 Axes>"
      ]
     },
     "metadata": {},
     "output_type": "display_data"
    }
   ],
   "source": [
    "plt.hist((data_ps-ps_new).flatten(), bins=100)"
   ]
  },
  {
   "cell_type": "code",
   "execution_count": null,
   "metadata": {},
   "outputs": [],
   "source": []
  }
 ],
 "metadata": {
  "kernelspec": {
   "display_name": "myenv",
   "language": "python",
   "name": "myenv"
  },
  "language_info": {
   "codemirror_mode": {
    "name": "ipython",
    "version": 3
   },
   "file_extension": ".py",
   "mimetype": "text/x-python",
   "name": "python",
   "nbconvert_exporter": "python",
   "pygments_lexer": "ipython3",
   "version": "3.9.12"
  }
 },
 "nbformat": 4,
 "nbformat_minor": 4
}
