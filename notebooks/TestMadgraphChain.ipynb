{
 "cells": [
  {
   "cell_type": "code",
   "execution_count": 1,
   "id": "57798554-edd9-498f-8033-9ed03aff7209",
   "metadata": {},
   "outputs": [
    {
     "name": "stderr",
     "output_type": "stream",
     "text": [
      "/home/valsdav/code/MEM/MEMFlow/myenv/lib64/python3.9/site-packages/tqdm/auto.py:22: TqdmWarning: IProgress not found. Please update jupyter and ipywidgets. See https://ipywidgets.readthedocs.io/en/stable/user_install.html\n",
      "  from .autonotebook import tqdm as notebook_tqdm\n",
      "2022-12-21 23:06:29.227232: I tensorflow/core/platform/cpu_feature_guard.cc:193] This TensorFlow binary is optimized with oneAPI Deep Neural Network Library (oneDNN) to use the following CPU instructions in performance-critical operations:  AVX2 FMA\n",
      "To enable them in other operations, rebuild TensorFlow with the appropriate compiler flags.\n",
      "2022-12-21 23:06:30.023047: W tensorflow/compiler/xla/stream_executor/platform/default/dso_loader.cc:64] Could not load dynamic library 'libnvinfer.so.7'; dlerror: libnvinfer.so.7: cannot open shared object file: No such file or directory; LD_LIBRARY_PATH: :/opt/LHAPDF/lib:/opt/MG5_aMC_v3_3_2/lib:/.singularity.d/libs\n",
      "2022-12-21 23:06:30.023196: W tensorflow/compiler/xla/stream_executor/platform/default/dso_loader.cc:64] Could not load dynamic library 'libnvinfer_plugin.so.7'; dlerror: libnvinfer_plugin.so.7: cannot open shared object file: No such file or directory; LD_LIBRARY_PATH: :/opt/LHAPDF/lib:/opt/MG5_aMC_v3_3_2/lib:/.singularity.d/libs\n",
      "2022-12-21 23:06:30.023251: W tensorflow/compiler/tf2tensorrt/utils/py_utils.cc:38] TF-TRT Warning: Cannot dlopen some TensorRT libraries. If you would like to use Nvidia GPU with TensorRT, please make sure the missing libraries mentioned above are installed properly.\n",
      "2022-12-21 23:06:30.596224: W tensorflow/compiler/xla/stream_executor/platform/default/dso_loader.cc:64] Could not load dynamic library 'libcuda.so.1'; dlerror: libcuda.so.1: cannot open shared object file: No such file or directory; LD_LIBRARY_PATH: :/opt/LHAPDF/lib:/opt/MG5_aMC_v3_3_2/lib:/.singularity.d/libs\n",
      "2022-12-21 23:06:30.596272: W tensorflow/compiler/xla/stream_executor/cuda/cuda_driver.cc:265] failed call to cuInit: UNKNOWN ERROR (303)\n",
      "[INFO] (pdfflow.pflow) Loading member 0 from NNPDF40_nnlo_hessian_pdfas\n",
      "[INFO] (pdfflow.pflow) Building tf.Graph, this can take a while...\n"
     ]
    }
   ],
   "source": [
    "from memflow.phasespace import phasespace\n",
    "import pdfflow\n",
    "pdf = pdfflow.mkPDF(\"NNPDF40_nnlo_hessian_pdfas/0\")\n",
    "pdf.trace()\n",
    "from memflow.hardscatter import hardscatter\n",
    "import torch\n",
    "import numpy as np\n",
    "import matplotlib.pyplot as plt\n",
    "from matplotlib import colors"
   ]
  },
  {
   "cell_type": "code",
   "execution_count": 33,
   "id": "ee49417a-ef69-4648-a604-17d12ddfea6e",
   "metadata": {},
   "outputs": [],
   "source": [
    "TOP_MASS = 172.76\n",
    "HIGGS_MASS = 125.25\n",
    "E_CM = 13000\n",
    "final_masses = torch.tensor([HIGGS_MASS, TOP_MASS, TOP_MASS], requires_grad=False)\n",
    "N = 100000"
   ]
  },
  {
   "cell_type": "code",
   "execution_count": 57,
   "id": "b88cf87b-8306-4465-a8b0-85ca6fec0255",
   "metadata": {},
   "outputs": [
    {
     "name": "stderr",
     "output_type": "stream",
     "text": [
      "/home/valsdav/code/MEM/MEMFlow/memflow/phasespace/rambo_generator.py:43: UserWarning: To copy construct from a tensor, it is recommended to use sourceTensor.clone().detach() or sourceTensor.clone().detach().requires_grad_(True), rather than torch.tensor(sourceTensor).\n",
      "  self.masses_t = torch.tensor(\n"
     ]
    }
   ],
   "source": [
    "p, w , x1, x2 = phasespace.generate_random_phase_space_points(N, E_CM, [21,21], final_masses, pdf)"
   ]
  },
  {
   "cell_type": "code",
   "execution_count": 58,
   "id": "0e5b3200-2268-448b-bf34-e01cfcd14834",
   "metadata": {},
   "outputs": [],
   "source": [
    "inputs = np.transpose(p.numpy(), (0,2,1))"
   ]
  },
  {
   "cell_type": "code",
   "execution_count": 36,
   "id": "bca6496b-dfce-4d70-b723-633a9e9c75c5",
   "metadata": {},
   "outputs": [
    {
     "data": {
      "text/plain": [
       "(100000, 4, 5)"
      ]
     },
     "execution_count": 36,
     "metadata": {},
     "output_type": "execute_result"
    }
   ],
   "source": [
    "inputs.shape"
   ]
  },
  {
   "cell_type": "code",
   "execution_count": 59,
   "id": "05ae8827-4159-4bf1-9ecc-18ed2e5ecc9b",
   "metadata": {},
   "outputs": [],
   "source": [
    "output = torch.zeros((N))\n",
    "for i in range(inputs.shape[0]):\n",
    "    output[i] = hardscatter.smatrix_ttH([21,21,25,6,-6], inputs[i])"
   ]
  },
  {
   "cell_type": "code",
   "execution_count": 46,
   "id": "a2c7240f-f7cf-43fe-8fa9-1d5c673e4349",
   "metadata": {},
   "outputs": [
    {
     "name": "stdout",
     "output_type": "stream",
     "text": [
      "2.75 s ± 49.1 ms per loop (mean ± std. dev. of 7 runs, 1 loop each)\n"
     ]
    }
   ],
   "source": [
    "%%timeit\n",
    "output = torch.zeros((N))\n",
    "for i in range(inputs.shape[0]):\n",
    "    output[i] = hardscatter.smatrix_ttH([21,21,25,6,-6], inputs[i])"
   ]
  },
  {
   "cell_type": "code",
   "execution_count": 50,
   "id": "127c211a-d00c-4f19-b62e-26e7fd311110",
   "metadata": {},
   "outputs": [
    {
     "name": "stdout",
     "output_type": "stream",
     "text": [
      "23.1 µs ± 1.84 µs per loop (mean ± std. dev. of 7 runs, 10,000 loops each)\n"
     ]
    }
   ],
   "source": [
    "%%timeit -n 10000\n",
    "hardscatter.smatrix_ttH([21,21,25,6,-6], inputs[i] )"
   ]
  },
  {
   "cell_type": "code",
   "execution_count": 44,
   "id": "9ec15c47-7eb8-457b-8563-575d8d3bd2c3",
   "metadata": {},
   "outputs": [
    {
     "data": {
      "text/plain": [
       "2.72e-05"
      ]
     },
     "execution_count": 44,
     "metadata": {},
     "output_type": "execute_result"
    }
   ],
   "source": [
    "2.72 / 100000"
   ]
  },
  {
   "cell_type": "code",
   "execution_count": 60,
   "id": "68f1debf-e605-48a9-a892-cbf770bbee34",
   "metadata": {},
   "outputs": [
    {
     "data": {
      "image/png": "[encoded data removed]",
      "text/plain": [
       "<Figure size 640x480 with 1 Axes>"
      ]
     },
     "metadata": {},
     "output_type": "display_data"
    }
   ],
   "source": [
    "plt.hist(output, bins=100)\n",
    "plt.yscale(\"log\")"
   ]
  },
  {
   "cell_type": "code",
   "execution_count": 61,
   "id": "d5cff662-4e42-4c2b-8669-fb8f3820b32a",
   "metadata": {},
   "outputs": [
    {
     "data": {
      "image/png": "[encoded data removed]",
      "text/plain": [
       "<Figure size 640x480 with 1 Axes>"
      ]
     },
     "metadata": {},
     "output_type": "display_data"
    }
   ],
   "source": [
    "plt.hist(output, weights=w, bins=100)\n",
    "plt.yscale(\"log\")"
   ]
  },
  {
   "cell_type": "code",
   "execution_count": 42,
   "id": "324956d0-9044-4786-a067-da165631eb92",
   "metadata": {},
   "outputs": [
    {
     "data": {
      "text/plain": [
       "21291.052028166854"
      ]
     },
     "execution_count": 42,
     "metadata": {},
     "output_type": "execute_result"
    }
   ],
   "source": [
    "phasespace.rambo_generator.FlatInvertiblePhasespace.get_flatWeights(E_CM, 3)"
   ]
  },
  {
   "cell_type": "code",
   "execution_count": 43,
   "id": "f11f42a9-b9b5-4897-8c7a-d307723af7c4",
   "metadata": {},
   "outputs": [
    {
     "data": {
      "text/plain": [
       "tensor(0.0106, dtype=torch.float64)"
      ]
     },
     "execution_count": 43,
     "metadata": {},
     "output_type": "execute_result"
    }
   ],
   "source": [
    "torch.sum(output*w)*phasespace.rambo_generator.FlatInvertiblePhasespace.get_flatWeights(E_CM, 3)"
   ]
  },
  {
   "cell_type": "code",
   "execution_count": null,
   "id": "deb1dcf6-1df5-4d58-9f39-a920107381a2",
   "metadata": {},
   "outputs": [],
   "source": [
    "plt."
   ]
  },
  {
   "cell_type": "code",
   "execution_count": 67,
   "id": "f7725bec-9cba-4b7e-99ae-983c7893c02a",
   "metadata": {
    "collapsed": true,
    "jupyter": {
     "outputs_hidden": true
    },
    "tags": []
   },
   "outputs": [
    {
     "data": {
      "text/plain": [
       "tensor([-3.3283e-19, -1.6937e-18, -2.2563e-20, -1.9972e-25, -4.8239e-21,\n",
       "        -9.0008e-22, -6.5724e-19, -1.1879e-21, -1.6877e-17, -1.4989e-22,\n",
       "        -5.5248e-19, -1.7926e-18, -3.8671e-18, -1.7287e-17, -7.8906e-17,\n",
       "        -9.6893e-17, -3.6957e-18, -4.8051e-30, -4.9705e-20, -1.0356e-15,\n",
       "        -1.8349e-19, -8.8347e-19, -1.4151e-20, -1.0559e-18, -7.1084e-18,\n",
       "        -1.2098e-18, -3.2262e-20, -1.2523e-29, -7.7461e-16, -7.5434e-23,\n",
       "        -1.2053e-17, -5.8860e-18, -6.1530e-18, -4.8244e-17, -2.9302e-27,\n",
       "        -2.1675e-21, -2.0901e-16, -4.8510e-22, -1.9991e-25, -2.0283e-22,\n",
       "        -8.6907e-27, -2.8000e-18, -6.5125e-18, -3.5343e-21, -1.9087e-19,\n",
       "        -5.0948e-22, -9.3148e-24, -4.5058e-20, -2.2683e-17, -9.9292e-19,\n",
       "        -3.3861e-22, -8.0207e-18, -2.1664e-17, -1.3370e-21, -3.7972e-23,\n",
       "        -3.6755e-16, -1.8784e-17, -1.1258e-16, -1.6972e-18, -7.1202e-16,\n",
       "        -1.9441e-17, -5.2090e-21, -1.2252e-19, -1.2142e-18, -1.9258e-22,\n",
       "        -3.8891e-19, -1.4923e-18, -7.8733e-20, -7.0910e-22, -4.2126e-16,\n",
       "        -6.9953e-21, -9.8443e-19, -1.5113e-24, -9.7504e-17, -3.0040e-18,\n",
       "        -6.8361e-16, -2.3497e-19, -2.0324e-20, -3.1532e-18, -9.1193e-22,\n",
       "        -1.0097e-16, -1.4820e-16, -1.8711e-17, -1.4320e-23, -5.5132e-17,\n",
       "        -6.8587e-16, -3.1171e-28, -4.1738e-17, -3.1876e-19, -4.7196e-20,\n",
       "        -4.7192e-20, -3.2328e-24, -2.6553e-17, -4.5491e-16, -5.5351e-22,\n",
       "        -3.8953e-20, -6.2747e-16, -2.0190e-17, -4.6556e-22, -1.0640e-18,\n",
       "        -5.2092e-21, -5.3866e-22, -1.6097e-23, -1.8678e-16, -5.3590e-17,\n",
       "        -6.4079e-19, -1.4748e-20, -1.4970e-19, -3.3165e-21, -1.7512e-17,\n",
       "        -1.0475e-22, -6.4207e-19, -8.1501e-22, -4.6304e-21, -1.0503e-15,\n",
       "        -1.6308e-20, -3.0504e-16, -3.9962e-28, -1.5515e-18, -4.8806e-16,\n",
       "        -3.8613e-19, -3.5804e-16, -3.2088e-19, -2.1044e-16, -8.4317e-16,\n",
       "        -5.4448e-22, -7.2245e-18, -3.6126e-26, -5.0292e-19, -3.2642e-18,\n",
       "        -8.3290e-19, -4.6934e-23, -1.2295e-18, -2.3139e-22, -8.1648e-25,\n",
       "        -2.1580e-20, -1.4880e-18, -5.1795e-18, -1.2296e-19, -2.8864e-22,\n",
       "        -3.0234e-18, -3.3962e-25, -5.2543e-18, -2.8737e-19, -8.8118e-22,\n",
       "        -6.8066e-18, -2.0525e-19, -5.1775e-18, -3.3148e-26, -3.1787e-20,\n",
       "        -8.6879e-20, -1.5278e-23, -5.7356e-19, -1.7453e-20, -4.6934e-19,\n",
       "        -1.6660e-19, -3.5943e-20, -1.7319e-18, -2.1795e-24, -2.1583e-19,\n",
       "        -8.6698e-16, -3.6568e-20, -8.3298e-20, -4.1469e-18, -2.9999e-16,\n",
       "        -2.7961e-21, -6.4200e-19, -2.3231e-19, -5.0540e-18, -3.3699e-19,\n",
       "        -1.0888e-19, -6.4601e-18, -2.3162e-22, -2.3283e-23, -1.9458e-21,\n",
       "        -3.8217e-22, -3.1399e-18, -2.9429e-18, -3.5054e-20, -1.4476e-20,\n",
       "        -2.9317e-30, -2.7101e-20, -4.1894e-18, -1.3520e-24, -3.4301e-23,\n",
       "        -2.6166e-17, -6.6933e-16, -3.3006e-20, -1.8265e-16, -7.0191e-21,\n",
       "        -1.1840e-23, -3.8109e-19, -4.8984e-16, -1.0176e-22, -2.0016e-18,\n",
       "        -4.5945e-18, -2.6961e-18, -5.9348e-21, -8.4120e-20, -4.1261e-19,\n",
       "        -2.6048e-20, -8.4046e-20, -7.5987e-17, -4.0566e-22, -5.1468e-16,\n",
       "        -7.5404e-16, -4.0963e-21, -1.8606e-20, -4.6986e-22, -9.8778e-18,\n",
       "        -1.1676e-21, -5.4297e-21, -2.0781e-19, -4.2483e-18, -7.7737e-17,\n",
       "        -1.3789e-17, -1.3270e-18, -7.1036e-16, -7.4122e-16, -9.1768e-26,\n",
       "        -3.3276e-18, -1.8129e-18, -4.2724e-19, -8.1767e-18, -5.7533e-23,\n",
       "        -3.4606e-23, -2.8457e-21, -2.0370e-19, -4.8950e-18, -1.1504e-18,\n",
       "        -2.1465e-18, -7.2663e-16, -3.4507e-20, -5.3029e-25, -1.2367e-20,\n",
       "        -1.9118e-18, -6.0396e-18, -1.3658e-21, -4.5580e-21, -2.2744e-18,\n",
       "        -1.0304e-17, -4.1273e-16, -2.2198e-21, -6.6405e-20, -1.3241e-22,\n",
       "        -4.3381e-31, -7.4847e-22, -2.5739e-18, -4.2702e-24, -1.8562e-25,\n",
       "        -1.7789e-19, -1.1764e-17, -1.4102e-18, -6.7749e-16, -8.1381e-24,\n",
       "        -7.5348e-17, -3.5508e-17, -2.2068e-21, -7.2948e-16, -2.0253e-24,\n",
       "        -1.1330e-17, -3.7634e-17, -3.3342e-16, -4.1902e-26, -1.9436e-19,\n",
       "        -3.5223e-16, -6.3274e-24, -8.3619e-16, -3.6714e-20, -1.8937e-24,\n",
       "        -5.0275e-18, -3.3709e-24, -2.1602e-16, -3.3688e-20, -1.1605e-19,\n",
       "        -7.7309e-20, -2.2345e-17, -1.2692e-21, -2.7281e-18, -4.8063e-16,\n",
       "        -1.2042e-16, -5.1268e-21, -4.6671e-21, -6.3786e-21, -2.7862e-21,\n",
       "        -2.0834e-20, -4.9707e-16, -8.0049e-22, -9.4865e-19, -1.0868e-23,\n",
       "        -3.4206e-18, -4.6520e-17, -4.1584e-20, -2.4198e-26, -7.5632e-18,\n",
       "        -1.2459e-17, -5.5258e-16, -1.3431e-21, -1.6761e-22, -8.2072e-20,\n",
       "        -1.1141e-16, -1.2595e-23, -6.2974e-20, -4.2060e-26, -3.3653e-19,\n",
       "        -1.0289e-21, -1.4047e-18, -2.6318e-18, -4.0295e-20, -6.8132e-22,\n",
       "        -1.1452e-18, -3.3942e-17, -3.1997e-20, -3.2520e-20, -1.5111e-22,\n",
       "        -5.8611e-19, -4.5726e-18, -1.6765e-24, -8.9066e-22, -1.6660e-20,\n",
       "        -5.2949e-24, -9.5606e-21, -7.2783e-16, -6.3625e-20, -1.8676e-17,\n",
       "        -1.4765e-23, -4.1083e-19, -9.1448e-21, -1.2205e-26, -2.7985e-21,\n",
       "        -1.7421e-21, -2.1843e-21, -2.1006e-18, -4.0104e-18, -2.1181e-21,\n",
       "        -8.2697e-18, -1.4264e-19, -1.2312e-18, -2.0090e-16, -7.2826e-21,\n",
       "        -1.4295e-24, -2.3944e-17, -7.2915e-20, -8.5449e-24, -1.0397e-25,\n",
       "        -2.8858e-19, -3.3188e-18, -6.7613e-21, -1.9703e-16, -4.5639e-19,\n",
       "        -2.5199e-18, -3.0972e-22, -6.0095e-21, -7.2657e-19, -1.1584e-20,\n",
       "        -1.1106e-22, -1.5055e-21, -5.5342e-19, -1.7434e-17, -1.9047e-18,\n",
       "        -5.9937e-18, -4.3230e-23, -1.6510e-19, -1.4209e-19, -1.8586e-18,\n",
       "        -2.6968e-22, -2.6120e-26, -7.9716e-16, -5.7303e-16, -2.9257e-17,\n",
       "        -1.0205e-18, -1.8676e-18, -2.7082e-21, -1.1617e-18, -1.2377e-22,\n",
       "        -3.1932e-17, -2.2397e-20, -9.8675e-18, -1.6834e-18, -1.8534e-22,\n",
       "        -1.2105e-22, -7.3463e-18, -8.0374e-19, -1.8561e-24, -2.2124e-22,\n",
       "        -9.2651e-19, -1.4294e-16, -3.3739e-16, -1.8095e-19, -1.4989e-23,\n",
       "        -5.8950e-19, -5.6767e-24, -2.9072e-23, -4.1507e-24, -4.9943e-16,\n",
       "        -6.3625e-18, -1.6591e-19, -3.6875e-23, -1.9473e-19, -8.2727e-21,\n",
       "        -4.5588e-19, -6.6640e-16, -4.4972e-16, -6.7053e-20, -5.7541e-19,\n",
       "        -2.1154e-19, -6.3197e-16, -2.4825e-22, -3.4655e-20, -1.0123e-18,\n",
       "        -1.9792e-18, -1.0862e-25, -1.8909e-22, -1.3009e-16, -2.2748e-18,\n",
       "        -3.8942e-21, -5.7724e-18, -4.2747e-21, -2.0505e-17, -3.1836e-16,\n",
       "        -5.8763e-23, -2.6019e-18, -7.7064e-23, -1.2631e-17, -6.0024e-18,\n",
       "        -5.0089e-22, -2.1933e-23, -6.5476e-16, -2.2870e-17, -1.0965e-18,\n",
       "        -7.2308e-17, -2.1294e-22, -2.9997e-22, -2.7923e-21],\n",
       "       dtype=torch.float64)"
      ]
     },
     "execution_count": 67,
     "metadata": {},
     "output_type": "execute_result"
    }
   ],
   "source": [
    "w[w<0]"
   ]
  },
  {
   "cell_type": "code",
   "execution_count": 66,
   "id": "7b02ad3b-927c-4c01-90d5-7c935f49eab3",
   "metadata": {},
   "outputs": [
    {
     "data": {
      "text/plain": [
       "tensor(434)"
      ]
     },
     "execution_count": 66,
     "metadata": {},
     "output_type": "execute_result"
    }
   ],
   "source": [
    "torch.sum(w<0)"
   ]
  },
  {
   "cell_type": "code",
   "execution_count": 80,
   "id": "a1aaf390-4c71-4a06-9ccc-897f06655265",
   "metadata": {},
   "outputs": [
    {
     "data": {
      "text/plain": [
       "tensor(5.2239e-12, dtype=torch.float64)"
      ]
     },
     "execution_count": 80,
     "metadata": {},
     "output_type": "execute_result"
    }
   ],
   "source": [
    "torch.sum(output*w) / N"
   ]
  },
  {
   "cell_type": "code",
   "execution_count": 72,
   "id": "9234f04e-8f44-494d-91c9-488fcc3babb7",
   "metadata": {},
   "outputs": [
    {
     "data": {
      "image/png": "[encoded data removed]",
      "text/plain": [
       "<Figure size 640x480 with 1 Axes>"
      ]
     },
     "metadata": {},
     "output_type": "display_data"
    }
   ],
   "source": [
    "plt.hist(output/w, bins=100, range=(0,1000))\n",
    "plt.yscale(\"log\")"
   ]
  },
  {
   "cell_type": "code",
   "execution_count": 81,
   "id": "069d68ef-edb4-4b35-b2be-2e2d8f01792f",
   "metadata": {},
   "outputs": [],
   "source": [
    "V = phasespace.rambo_generator.FlatInvertiblePhasespace.get_flatWeights(E_CM, 3)"
   ]
  },
  {
   "cell_type": "code",
   "execution_count": 85,
   "id": "7615c1a6-1995-4f9a-a22d-4420e9d0fb7b",
   "metadata": {},
   "outputs": [
    {
     "data": {
      "text/plain": [
       "tensor(0.0253)"
      ]
     },
     "execution_count": 85,
     "metadata": {},
     "output_type": "execute_result"
    }
   ],
   "source": [
    "(V / N ) * torch.sum(output)"
   ]
  },
  {
   "cell_type": "code",
   "execution_count": 89,
   "id": "991ed3f3-9918-4db7-971a-49a228d75e1b",
   "metadata": {},
   "outputs": [
    {
     "data": {
      "text/plain": [
       "tensor(394.2604, dtype=torch.float64)"
      ]
     },
     "execution_count": 89,
     "metadata": {},
     "output_type": "execute_result"
    }
   ],
   "source": [
    "torch.sum(output[w>1e-15]/w[w>1e-15]) / (N*V)"
   ]
  },
  {
   "cell_type": "code",
   "execution_count": null,
   "id": "c01136f7-c20f-47e5-b99b-0f80505a794d",
   "metadata": {},
   "outputs": [],
   "source": []
  }
 ],
 "metadata": {
  "kernelspec": {
   "display_name": "Python 3 (ipykernel)",
   "language": "python",
   "name": "python3"
  },
  "language_info": {
   "codemirror_mode": {
    "name": "ipython",
    "version": 3
   },
   "file_extension": ".py",
   "mimetype": "text/x-python",
   "name": "python",
   "nbconvert_exporter": "python",
   "pygments_lexer": "ipython3",
   "version": "3.9.14"
  }
 },
 "nbformat": 4,
 "nbformat_minor": 5
}
