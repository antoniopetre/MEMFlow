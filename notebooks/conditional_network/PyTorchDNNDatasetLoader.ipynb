{
 "cells": [
  {
   "cell_type": "code",
   "execution_count": 1,
   "id": "ee9c2c9e",
   "metadata": {},
   "outputs": [],
   "source": [
    "import matplotlib.pyplot as plt\n",
    "from matplotlib.colors import LogNorm\n",
    "import mplhep as hep\n",
    "from coffea.util import load\n",
    "import numpy as np\n",
    "import pandas as pd\n",
    "import awkward as ak\n",
    "from coffea.nanoevents import NanoEventsFactory, NanoAODSchema\n",
    "from numba import njit\n",
    "import vector\n",
    "import numba as nb\n",
    "import numpy.ma as ma\n",
    "vector.register_numba()\n",
    "vector.register_awkward()\n",
    "import matplotlib.pyplot as plt\n",
    "\n",
    "\n",
    "from pprint import pprint \n",
    "hep.style.use(hep.style.ROOT)\n",
    "\n",
    "\n",
    "import hist"
   ]
  },
  {
   "cell_type": "code",
   "execution_count": 2,
   "id": "bed39252",
   "metadata": {},
   "outputs": [],
   "source": [
    "df = ak.from_parquet(\"../dataset_1/all_jets_v6.parquet\")"
   ]
  },
  {
   "cell_type": "code",
   "execution_count": 3,
   "id": "fec4177c",
   "metadata": {},
   "outputs": [
    {
     "data": {
      "text/plain": [
       "584143 * var * Momentum4D[\"pt\": float32, \"eta\": float32, \"phi\": float32, \"btag\": float32, \"m\": float64, \"matched\": bool, \"prov\": float64]"
      ]
     },
     "execution_count": 3,
     "metadata": {},
     "output_type": "execute_result"
    }
   ],
   "source": [
    "(jets,\n",
    "partons_matched,\n",
    "partons,\n",
    "generator_info,\n",
    "lepton_partons,\n",
    "lepton_reco, \n",
    "met\n",
    ") = ak.unzip(df)\n",
    "\n",
    "jets = ak.with_name(jets, name=\"Momentum4D\")\n",
    "partons_matched = ak.with_name(partons_matched, name=\"Momentum4D\")\n",
    "partons = ak.with_name(partons, name=\"Momentum4D\")\n",
    "lepton_partons = ak.with_name(lepton_partons, name=\"Momentum4D\")\n",
    "lepton_reco = ak.with_name(lepton_reco, name=\"Momentum4D\")\n",
    "met = ak.with_name(met, name=\"Momentum4D\")\n",
    "\n",
    "jets.type"
   ]
  },
  {
   "cell_type": "code",
   "execution_count": 7,
   "id": "5c00f419",
   "metadata": {},
   "outputs": [],
   "source": [
    "def to_flat_numpy(X, fields, axis=1, allow_missing=False):\n",
    "    return np.stack([ak.to_numpy(X[f], allow_missing=allow_missing) for f in fields], axis=axis)\n",
    "\n",
    "def to_flat_tensor(X, fields, axis=1, allow_missing=False):\n",
    "    return torch.tensor(np.stack([ak.to_numpy(X[f], allow_missing=allow_missing) for f in fields], axis=axis))"
   ]
  },
  {
   "cell_type": "code",
   "execution_count": 280,
   "id": "c68d4880",
   "metadata": {},
   "outputs": [],
   "source": [
    "@njit\n",
    "def sum_vectors_all(arrays):\n",
    "    size = len(arrays)\n",
    "    results = np.zeros((size, 4))\n",
    "    for i, array in enumerate(arrays):\n",
    "        total = vector.obj(px=0.0, py=0.0, pz=0.0, E=0.0)\n",
    "        for v in array:\n",
    "            total = total + v\n",
    "        results[i, 0] = total.px\n",
    "        results[i, 1] = total.py\n",
    "        results[i, 2] = total.pz\n",
    "        results[i, 3] = total.E\n",
    "    return results\n",
    "\n",
    "def get_vector_sum(vectors):\n",
    "    out = sum_vectors_all(vectors)\n",
    "    return vector.awk({\n",
    "        \"px\": out[:, 0],\n",
    "        \"py\": out[:, 1],\n",
    "        \"pz\": out[:, 2],\n",
    "        \"E\": out[:, 3],\n",
    "    })"
   ]
  },
  {
   "cell_type": "code",
   "execution_count": 9,
   "id": "6a788f2e",
   "metadata": {},
   "outputs": [],
   "source": [
    "boost_jets = get_vector_sum(jets)\n",
    "boost_reco = boost_jets + lepton_reco + met\n",
    "\n",
    "jets_CM = jets.boost_beta3(-(boost_reco.to_beta3()))\n",
    "lept_CM = lepton_reco.boost_beta3(-(boost_reco.to_beta3()))\n",
    "met_CM = met.boost_beta3(-(boost_reco.to_beta3()))\n",
    "\n",
    "CM_ALL = get_vector_sum(jets_CM) + lept_CM + met_CM\n",
    "print(CM_ALL.px)\n",
    "print(CM_ALL.py)"
   ]
  },
  {
   "cell_type": "markdown",
   "id": "5ba4382a",
   "metadata": {},
   "source": [
    "# PyTorch DNN dataset"
   ]
  },
  {
   "cell_type": "code",
   "execution_count": 410,
   "id": "108b0ebf",
   "metadata": {},
   "outputs": [],
   "source": [
    "import os\n",
    "import os.path\n",
    "\n",
    "import numpy as np\n",
    "import torch\n",
    "import awkward as ak\n",
    "from tqdm import tqdm\n",
    "from numba import njit\n",
    "\n",
    "from torch.utils.data import Dataset"
   ]
  },
  {
   "cell_type": "code",
   "execution_count": 12,
   "id": "0e0dacdc",
   "metadata": {},
   "outputs": [],
   "source": [
    "struct_jets = ak.zip({\"pt\": np.float32(0),\n",
    "                \"eta\": np.float32(0),\n",
    "                \"phi\": np.float32(0),\n",
    "                \"btag\": np.float32(0),\n",
    "                \"m\": np.float64(0),\n",
    "                \"matched\": bool(0),\n",
    "                \"prov\": 0.},\n",
    "        with_name='Momentum4D')\n",
    "\n",
    "ones_jets = ak.zip({\"pt\": np.float32(1),\n",
    "                \"eta\": np.float32(1),\n",
    "                \"phi\": np.float32(1),\n",
    "                \"btag\": np.float32(1),\n",
    "                \"m\": np.float64(1),\n",
    "                \"matched\": bool(1),\n",
    "                \"prov\": 1.},\n",
    "        with_name='Momentum4D')\n",
    "\n",
    "struct_lepton = ak.zip({\"pt\": np.float32(0),\n",
    "                \"eta\": np.float32(0),\n",
    "                \"phi\": np.float32(0),\n",
    "                \"m\": np.float32(0)},\n",
    "        with_name='Momentum4D')\n",
    "\n",
    "ones_lepton = ak.zip({\"pt\": np.float32(1),\n",
    "                \"eta\": np.float32(1),\n",
    "                \"phi\": np.float32(1),\n",
    "                \"m\": np.float32(1)},\n",
    "        with_name='Momentum4D')"
   ]
  },
  {
   "cell_type": "code",
   "execution_count": 14,
   "id": "9ec11e2b",
   "metadata": {},
   "outputs": [
    {
     "name": "stdout",
     "output_type": "stream",
     "text": [
      "[[2.28, -0.438, -1.51, 0.571, 0.404], ... [-2.32, -1.61, 0.788, -0.448, 2.89]]\n",
      "[[2.28, -0.438, -1.51, 0.571, 0.404], ... [-2.32, -1.61, 0.788, -0.448, 2.89]]\n",
      "[[2.28, -0.438, -1.51, 0.571, 0.404], ... [-2.32, -1.61, 0.788, -0.448, 2.89]]\n"
     ]
    }
   ],
   "source": [
    "jets_CM_3 = jets.boost_p4(boost_reco.neg3D)\n",
    "\n",
    "print(jets_CM_3.phi)\n",
    "\n",
    "jets_CM_2 = jets.boost_beta3(-(boost_reco.to_beta3()))\n",
    "\n",
    "print(jets_CM_2.phi)\n",
    "\n",
    "jets_CM = jets.boostCM_of(boost_reco)\n",
    "\n",
    "print(jets_CM.phi)"
   ]
  },
  {
   "cell_type": "markdown",
   "id": "103db2f3",
   "metadata": {},
   "source": [
    "## TODO mask it's needed just for jets => delete for the others"
   ]
  },
  {
   "cell_type": "code",
   "execution_count": 411,
   "id": "8b05a8ad",
   "metadata": {},
   "outputs": [],
   "source": [
    "class MyDataset(Dataset):\n",
    "    def __init__(self, root, object_types=[\"jets\", \"lepton_reco\", \"met\", \"boost\"], transform=None):\n",
    "\n",
    "        self.fields = {\n",
    "            \"jets\": [\"pt\", \"eta\", \"phi\", \"btag\",\"prov\"],\n",
    "            \"lepton_reco\" : [\"pt\", \"eta\", \"phi\", \"m\"],\n",
    "            \"met\" : [\"pt\", \"eta\", \"phi\", \"m\"],\n",
    "            \"boost\" : [\"x\", \"y\", \"z\", \"t\"]\n",
    "        }\n",
    "        \n",
    "        self.root = root\n",
    "        self.transform = transform\n",
    "        self.object_types = object_types\n",
    "\n",
    "        # if an object is missing (example: jets/lepton_reco/met/boost => compute boost)\n",
    "        for object_type in self.object_types:\n",
    "            if not os.path.isfile(self.processed_file_names(object_type)):\n",
    "                print(\"File missing: compute boost\")\n",
    "                self.boost = self.get_boost()\n",
    "                break\n",
    "        \n",
    "        for object_type in self.object_types:\n",
    "            if not os.path.isfile(self.processed_file_names(object_type)):\n",
    "                print(\"Create new file for \" + object_type)\n",
    "                self.process(object_type)\n",
    "            else:\n",
    "                print(object_type + \" file already exists\")\n",
    "    \n",
    "        self.mask_jets, self.data_jets = torch.load(self.processed_file_names(\"jets\"))\n",
    "        self.mask_lepton, self.data_lepton = torch.load(self.processed_file_names(\"lepton_reco\"))\n",
    "        self.mask_met, self.data_met = torch.load(self.processed_file_names(\"met\"))\n",
    "        self.mask_boost, self.data_boost = torch.load(self.processed_file_names(\"boost\"))\n",
    "\n",
    "        \n",
    "    @property\n",
    "    def raw_file_names(self):\n",
    "        return [self.root + '/all_jets_v6.parquet']\n",
    "\n",
    "    def processed_file_names(self, type):\n",
    "\n",
    "        return (self.root + '/processed/' + type + '_data.pt')\n",
    "        \n",
    "    def get_boost(self):\n",
    "\n",
    "        for file in self.raw_file_names:\n",
    "            df = ak.from_parquet(file)\n",
    "\n",
    "            jets = df[\"jets\"]\n",
    "            jets = ak.with_name(jets, name=\"Momentum4D\")\n",
    "\n",
    "            leptons = df[\"lepton_reco\"]\n",
    "            leptons = ak.with_name(leptons, name=\"Momentum4D\")\n",
    "\n",
    "            met = df[\"met\"]\n",
    "            met = ak.with_name(met, name=\"Momentum4D\")\n",
    "            \n",
    "            boost_jets = get_vector_sum(jets)\n",
    "            boost = boost_jets + leptons + met\n",
    "        \n",
    "        return boost_jets\n",
    "        \n",
    "    def boost_CM(self, objects_array, boost):\n",
    "        objects_CM = objects_array.boost_p4(boost.neg3D)\n",
    "\n",
    "        # Overwriting old pt by calling the function on the boosted object\n",
    "        objects_CM[\"pt\"] = objects_CM.pt\n",
    "        objects_CM[\"eta\"] = objects_CM.eta\n",
    "        objects_CM[\"phi\"] = objects_CM.phi\n",
    "\n",
    "        return objects_CM\n",
    "        \n",
    "    def Reshape(self, input, value, ax):\n",
    "        max_no = ak.max(ak.num(input, axis=ax))\n",
    "        input_padded =  ak.pad_none(input, max_no, axis=ax)\n",
    "        input_filled = ak.fill_none(input_padded, value, axis=ax)\n",
    "    \n",
    "        return input_filled\n",
    "        \n",
    "    # Get mask for object with pt = 0\n",
    "    def get_mask_pt(self, objects_array):\n",
    "        return objects_array[:,:,0] > 1e-5\n",
    "\n",
    "    def process(self, object_type):\n",
    "                \n",
    "        for file in self.raw_file_names:\n",
    "            df = ak.from_parquet(file)\n",
    "            \n",
    "            if (object_type == \"boost\"):\n",
    "                objects = self.boost               \n",
    "\n",
    "            else:\n",
    "                objects = ak.with_name(df[object_type], name=\"Momentum4D\")\n",
    "                objects = self.boost_CM(objects, self.boost, object_type)\n",
    "\n",
    "            if object_type == \"jets\":\n",
    "                objects = self.Reshape(objects, struct_jets, 1)\n",
    "                \n",
    "            d_list = to_flat_numpy(objects, self.fields[object_type], axis=1, allow_missing=False)\n",
    "\n",
    "            if object_type == \"jets\":\n",
    "                d_list = np.transpose(d_list, (0, 2, 1))\n",
    "                mask = self.get_mask_pt(d_list)\n",
    "\n",
    "            if (object_type == \"lepton_reco\" or object_type == \"met\" or object_type == \"boost\"):\n",
    "                d_list = np.expand_dims(d_list, axis=1)\n",
    "                mask = np.ones((d_list.shape[0],d_list.shape[1]))\n",
    "\n",
    "            tensor_data = torch.tensor(d_list, dtype = torch.float)\n",
    "            tensor_mask = torch.tensor(mask, dtype = torch.float)\n",
    "\n",
    "            torch.save((tensor_mask, tensor_data), self.processed_file_names(object_type))\n",
    "                    \n",
    "    def __getitem__(self, index):\n",
    "\n",
    "        return (self.mask_lepton[index], self.data_lepton[index], self.mask_jets[index], \n",
    "                self.data_jets[index], self.mask_met[index], self.data_met[index], \n",
    "                self.mask_boost[index], self.data_boost[index])\n",
    "            \n",
    "    def __len__(self):\n",
    "        size = len(self.mask_lepton)\n",
    "        return size\n",
    "        "
   ]
  },
  {
   "cell_type": "code",
   "execution_count": 412,
   "id": "6985898c",
   "metadata": {},
   "outputs": [
    {
     "name": "stdout",
     "output_type": "stream",
     "text": [
      "jets file already exists\n",
      "lepton_reco file already exists\n",
      "met file already exists\n",
      "boost file already exists\n"
     ]
    }
   ],
   "source": [
    "data = MyDataset(\".\")"
   ]
  },
  {
   "cell_type": "code",
   "execution_count": 354,
   "id": "d7029fdb",
   "metadata": {},
   "outputs": [
    {
     "name": "stdout",
     "output_type": "stream",
     "text": [
      "jets file already exists\n",
      "lepton_reco file already exists\n",
      "met file already exists\n",
      "boost file already exists\n",
      "torch.Size([64, 1, 4])\n"
     ]
    }
   ],
   "source": [
    "from torch.utils.data import DataLoader\n",
    "\n",
    "data_for_dataloader = MyDataset(\".\")\n",
    "batch_size = parameters[\"batch_size\"]\n",
    "\n",
    "data_loaded = DataLoader(data_for_dataloader, batch_size=batch_size, shuffle=True, drop_last=True)\n",
    " \n",
    "mask_lepton, data_lepton, mask_jets, data_jets, mask_met, data_met, mask_boost, data_boost = next(iter(data_loaded))\n",
    "\n",
    "print(data_lepton.shape)"
   ]
  },
  {
   "cell_type": "code",
   "execution_count": 413,
   "id": "99349fb4",
   "metadata": {},
   "outputs": [
    {
     "name": "stdout",
     "output_type": "stream",
     "text": [
      "torch.Size([64, 15, 63])\n",
      "torch.Size([64, 1, 63])\n",
      "torch.Size([64, 1, 63])\n",
      "torch.Size([64, 1, 63])\n",
      "torch.Size([64, 18, 64])\n",
      "torch.Size([64, 18])\n"
     ]
    }
   ],
   "source": [
    "import torch\n",
    "import torch.nn as nn\n",
    "\n",
    "features_jets = data_jets.size(2)\n",
    "features_rest = data_lepton.size(2)\n",
    "\n",
    "lin_jet = nn.Linear(in_features=features_jets, \n",
    "         out_features=batch_size-1)\n",
    "\n",
    "lin_lept = nn.Linear(in_features=features_rest, \n",
    "         out_features=batch_size-1)\n",
    "lin_met = nn.Linear(in_features=features_rest, \n",
    "         out_features=batch_size-1)\n",
    "lin_boost = nn.Linear(in_features=features_rest, \n",
    "         out_features=batch_size-1)\n",
    "\n",
    "act_lin = nn.GELU()\n",
    "\n",
    "jets_afterLin = act_lin(lin_jet(data_jets)*mask_jets[:,:,None])\n",
    "lept_afterLin = act_lin(lin_lept(data_lepton))\n",
    "met_afterLin = act_lin(lin_met(data_met))\n",
    "boost_afterLin = act_lin(lin_boost(data_boost))\n",
    "\n",
    "print(jets_afterLin.shape)\n",
    "print(lept_afterLin.shape)\n",
    "\n",
    "no_jets = data_jets.size(1)\n",
    "no_lept = data_lepton.size(1)\n",
    "\n",
    "ones = torch.ones(batch_size, no_jets, 1) # type jet = 1\n",
    "two = 2*torch.ones(batch_size, no_lept, 1) # type lepton = 2\n",
    "three = 3*torch.ones(batch_size, no_lept, 1) #type met = 3\n",
    "four = 4*torch.ones(batch_size, no_lept, 1) #type boost = 4\n",
    "\n",
    "# label each batch\n",
    "jet_afterLin_andLabel = torch.cat((jets_afterLin, ones), dim=-1)\n",
    "lept_afterLin_andLabel = torch.cat((lept_afterLin, two), dim=-1)\n",
    "met_afterLin_andLabel = torch.cat((met_afterLin, three), dim=-1)\n",
    "boost_afterLin_andLabel = torch.cat((boost_afterLin, four), dim=-1)\n",
    "\n",
    "transformer_input = torch.concat((boost_afterLin_andLabel, lept_afterLin_andLabel, met_afterLin_andLabel, jet_afterLin_andLabel), dim=1)\n",
    "transformer_mask = torch.concat((mask_boost, mask_lepton, mask_met, mask_jets), dim=1)\n",
    "\n",
    "print(transformer_input.shape)\n",
    "print(transformer_mask.shape)"
   ]
  },
  {
   "cell_type": "code",
   "execution_count": 361,
   "id": "89a00a50",
   "metadata": {},
   "outputs": [
    {
     "data": {
      "text/plain": [
       "<matplotlib.image.AxesImage at 0x7fcc668732b0>"
      ]
     },
     "execution_count": 361,
     "metadata": {},
     "output_type": "execute_result"
    },
    {
     "data": {
      "image/png": "[encoded data removed]",
      "text/plain": [
       "<Figure size 500x300 with 1 Axes>"
      ]
     },
     "metadata": {},
     "output_type": "display_data"
    }
   ],
   "source": [
    "plt.figure(figsize=(5,3), dpi=100)\n",
    "plt.imshow(transformer_input[0].detach().numpy(), cmap=\"bwr\")"
   ]
  },
  {
   "cell_type": "code",
   "execution_count": 362,
   "id": "b5ab1698",
   "metadata": {},
   "outputs": [
    {
     "data": {
      "text/plain": [
       "<matplotlib.image.AxesImage at 0x7fcc2e495640>"
      ]
     },
     "execution_count": 362,
     "metadata": {},
     "output_type": "execute_result"
    },
    {
     "data": {
      "image/png": "[encoded data removed]",
      "text/plain": [
       "<Figure size 500x300 with 1 Axes>"
      ]
     },
     "metadata": {},
     "output_type": "display_data"
    }
   ],
   "source": [
    "plt.figure(figsize=(5,3), dpi=100)\n",
    "plt.imshow(transformer_mask.detach().numpy(), cmap=\"bwr\")"
   ]
  },
  {
   "cell_type": "code",
   "execution_count": 395,
   "id": "3a6f5c48",
   "metadata": {},
   "outputs": [
    {
     "name": "stdout",
     "output_type": "stream",
     "text": [
      "torch.Size([64, 18, 64])\n",
      "torch.Size([64, 18])\n"
     ]
    }
   ],
   "source": [
    "## TRANSFORMER LAYER - mix information of objects (jets/boost/lepto_reco/met)\n",
    "\n",
    "encoder_layer = nn.TransformerEncoderLayer(d_model=64,\n",
    "                                           nhead=8,\n",
    "                                          batch_first=True)\n",
    "\n",
    "transformer_encoder = nn.TransformerEncoder(encoder_layer, num_layers=2)\n",
    "\n",
    "transformer_output = transformer_encoder(transformer_input, src_key_padding_mask=transformer_mask==0)\n",
    "\n",
    "print(transformer_output.shape)\n",
    "print(transformer_mask.shape)"
   ]
  },
  {
   "cell_type": "code",
   "execution_count": 365,
   "id": "80d89101",
   "metadata": {},
   "outputs": [
    {
     "data": {
      "text/plain": [
       "<matplotlib.image.AxesImage at 0x7fccaee3a340>"
      ]
     },
     "execution_count": 365,
     "metadata": {},
     "output_type": "execute_result"
    },
    {
     "data": {
      "image/png": "[encoded data removed]",
      "text/plain": [
       "<Figure size 500x300 with 1 Axes>"
      ]
     },
     "metadata": {},
     "output_type": "display_data"
    }
   ],
   "source": [
    "plt.figure(figsize=(5,3), dpi=100)\n",
    "plt.imshow(transformer_output[2].detach().numpy(), cmap=\"bwr\")"
   ]
  },
  {
   "cell_type": "code",
   "execution_count": 396,
   "id": "004344b4",
   "metadata": {},
   "outputs": [
    {
     "name": "stdout",
     "output_type": "stream",
     "text": [
      "tensor([-0.5750, -0.3065, -1.3320,  0.4767,  0.2328,  0.8502,  0.7590,  1.3590,\n",
      "        -0.7430, -0.6594,  0.7448, -0.1145, -0.4491, -0.5248,  0.0850, -0.7571,\n",
      "         0.1367,  0.6200, -1.3432, -0.1290,  1.7364, -0.8541,  1.0024,  0.3642,\n",
      "         0.0263,  0.2796, -0.3123, -0.1361,  0.0645,  1.1189, -1.3998, -0.8275,\n",
      "        -0.2589, -0.6850,  0.0866,  0.0945, -0.0717, -0.0387, -1.4693,  0.9252,\n",
      "        -0.7666, -0.6904,  0.2970,  0.2043,  0.0895,  0.4353, -0.3228, -0.7584,\n",
      "         0.3666,  0.4322,  0.6766, -0.1475,  0.5074, -0.8012,  0.2915,  0.3530,\n",
      "        -1.1454,  0.4822,  0.3218,  1.0815,  0.7253,  0.7914,  0.6603, -0.1783],\n",
      "       grad_fn=<SelectBackward0>)\n"
     ]
    }
   ],
   "source": [
    "#avgpool_2d = nn.AvgPool2d(kernel_size=[no_jets,1], stride=[1,1], count_include_pad=True)\n",
    "#jet_avg = avgpool_2d(jet_transformed)\n",
    "\n",
    "transformer_output_sum = torch.sum(transformer_output*torch.unsqueeze(transformer_mask, -1), dim=1)\n",
    "N_valid_objects = torch.sum(transformer_mask, dim=1)\n",
    "\n",
    "conditional_input = transformer_output_sum / N_valid_objects\n",
    "\n",
    "print(conditional_input[0])"
   ]
  },
  {
   "cell_type": "code",
   "execution_count": 325,
   "id": "cb8db45c",
   "metadata": {},
   "outputs": [
    {
     "data": {
      "text/plain": [
       "<matplotlib.image.AxesImage at 0x7fcc4f3f80d0>"
      ]
     },
     "execution_count": 325,
     "metadata": {},
     "output_type": "execute_result"
    },
    {
     "data": {
      "image/png": "[encoded data removed]",
      "text/plain": [
       "<Figure size 500x300 with 1 Axes>"
      ]
     },
     "metadata": {},
     "output_type": "display_data"
    }
   ],
   "source": [
    "plt.figure(figsize=(5,3), dpi=100)\n",
    "plt.imshow(conditional_input.detach().numpy(), cmap=\"bwr\")"
   ]
  },
  {
   "cell_type": "code",
   "execution_count": 463,
   "id": "2cb0de74",
   "metadata": {},
   "outputs": [],
   "source": [
    "import torch\n",
    "from torch.nn import Linear, Parameter\n",
    "\n",
    "\n",
    "class ConditioningTransformerLayer():\n",
    "    def __init__(self, jets_features, lepton_features, out_features, nhead, no_layers):\n",
    "        super().__init__()\n",
    "        \n",
    "        self.lin_jet = nn.Linear(in_features=jets_features, \n",
    "                out_features=out_features-1)\n",
    "        self.lin_lept = nn.Linear(in_features=lepton_features, \n",
    "                out_features=out_features-1)\n",
    "        self.lin_met = nn.Linear(in_features=lepton_features, \n",
    "                out_features=out_features-1)\n",
    "        self.lin_boost = nn.Linear(in_features=lepton_features, \n",
    "                out_features=out_features-1)\n",
    "\n",
    "        self.gelu = nn.GELU()\n",
    "        encoder_layer = nn.TransformerEncoderLayer(d_model=out_features,\n",
    "                                           nhead=nhead,\n",
    "                                          batch_first=True)\n",
    "\n",
    "        self.transformer_encoder = nn.TransformerEncoder(encoder_layer, num_layers=no_layers)\n",
    "\n",
    "    def reset_parameters(self):\n",
    "        lin_jet.reset_parameters()\n",
    "        lin_lept.reset_parameters()\n",
    "        lin_met.reset_parameters()\n",
    "        lin_boost.reset_parameters()\n",
    "\n",
    "    def forward(self, batch_jet, batch_lepton, batch_met, batch_boost, mask_jets, mask_lepton, mask_met, mask_boost):\n",
    "        \n",
    "        jets_afterLin = self.gelu(self.lin_jet(batch_jet)*mask_jets[:,:,None])\n",
    "        lept_afterLin = self.gelu(self.lin_lept(batch_lepton))\n",
    "        met_afterLin = self.gelu(self.lin_met(batch_met))\n",
    "        boost_afterLin = self.gelu(self.lin_boost(batch_boost))\n",
    "\n",
    "        no_jets = batch_jet.size(1)\n",
    "        no_lept = batch_lepton.size(1)\n",
    "\n",
    "        ones = torch.ones(batch_size, no_jets, 1) # type jet = 1\n",
    "        two = 2*torch.ones(batch_size, no_lept, 1) # type lepton = 2\n",
    "        three = 3*torch.ones(batch_size, 1, 1) #type met = 3\n",
    "        four = 4*torch.ones(batch_size, 1, 1) #type boost = 4\n",
    "\n",
    "        jet_afterLin_andLabel = torch.cat((jets_afterLin, ones), dim=-1)\n",
    "        lept_afterLin_andLabel = torch.cat((lept_afterLin, two), dim=-1)\n",
    "        met_afterLin_andLabel = torch.cat((met_afterLin, three), dim=-1)\n",
    "        boost_afterLin_andLabel = torch.cat((boost_afterLin, four), dim=-1)\n",
    "\n",
    "        transformer_input = torch.concat((boost_afterLin_andLabel, lept_afterLin_andLabel, met_afterLin_andLabel, jet_afterLin_andLabel), dim=1)\n",
    "        transformer_mask = torch.concat((mask_boost, mask_lepton, mask_met, mask_jets), dim=1)\n",
    "\n",
    "        transformer_output = self.transformer_encoder(transformer_input, src_key_padding_mask=transformer_mask==0)\n",
    "\n",
    "        # `computing ther average of not masked objects`\n",
    "        transformer_output_sum = torch.sum(transformer_output*torch.unsqueeze(transformer_mask, -1), dim=1)\n",
    "        N_valid_objects = torch.sum(transformer_mask, dim=1)\n",
    "\n",
    "        conditional_input = transformer_output_sum / N_valid_objects\n",
    "\n",
    "        return torch.cat((batch_boost[:,:,3:4].squeeze(1) , conditional_input), dim=1)\n",
    "\n",
    "\n"
   ]
  },
  {
   "cell_type": "code",
   "execution_count": 464,
   "id": "e375acb5",
   "metadata": {},
   "outputs": [
    {
     "name": "stdout",
     "output_type": "stream",
     "text": [
      "jets file already exists\n",
      "lepton_reco file already exists\n",
      "met file already exists\n",
      "boost file already exists\n"
     ]
    }
   ],
   "source": [
    "data_for_dataloader = MyDataset(\".\")\n",
    "batch_size = parameters[\"batch_size\"]\n",
    "\n",
    "# Read Data\n",
    "data_loaded = DataLoader(data_for_dataloader, batch_size=batch_size, shuffle=True, drop_last=True)\n",
    "mask_lepton, data_lepton, mask_jets, data_jets, mask_met, data_met, mask_boost, data_boost = next(iter(data_loaded))\n",
    "\n",
    "# Initialize Transformer Layer\n",
    "transformer = ConditioningTransformerLayer(jets_features=data_jets.size(2), lepton_features=data_lepton.size(2), out_features=64, nhead=8, no_layers=2)\n",
    "\n",
    "# Obtain conditional_input from transformer (pass batches and masks to `forward` method)\n",
    "conditional_input = transformer.forward(data_jets, data_lepton, data_met, data_boost, mask_jets, mask_lepton, mask_met, mask_boost)"
   ]
  },
  {
   "cell_type": "code",
   "execution_count": 458,
   "id": "e7b9803b",
   "metadata": {},
   "outputs": [
    {
     "data": {
      "text/plain": [
       "torch.Size([64, 1, 4])"
      ]
     },
     "execution_count": 458,
     "metadata": {},
     "output_type": "execute_result"
    }
   ],
   "source": [
    "data_boost.shape"
   ]
  },
  {
   "cell_type": "code",
   "execution_count": 465,
   "id": "003fe97b",
   "metadata": {},
   "outputs": [
    {
     "data": {
      "text/plain": [
       "tensor([[ 6.8737e+02, -3.9325e-02, -9.7365e-01,  ...,  1.2121e-01,\n",
       "         -1.7824e+00, -8.6738e-01],\n",
       "        [ 1.3469e+03, -2.8815e-01, -1.4740e+00,  ...,  4.8400e-01,\n",
       "         -2.4362e+00, -1.4099e+00],\n",
       "        [ 4.1650e+02, -4.1738e-01, -3.1352e-01,  ..., -1.1846e-01,\n",
       "         -5.9223e-01, -1.1242e+00],\n",
       "        ...,\n",
       "        [ 4.4878e+02, -2.1432e-01, -4.0481e-01,  ...,  1.8894e-01,\n",
       "         -9.3480e-01, -1.5947e+00],\n",
       "        [ 2.7949e+02,  2.7684e-01, -4.5928e-01,  ...,  1.1562e-01,\n",
       "         -9.4615e-01, -1.2208e+00],\n",
       "        [ 3.3001e+02,  8.5581e-02, -1.1587e+00,  ...,  3.8767e-01,\n",
       "         -2.2009e+00, -1.2676e+00]], grad_fn=<CatBackward0>)"
      ]
     },
     "execution_count": 465,
     "metadata": {},
     "output_type": "execute_result"
    }
   ],
   "source": [
    "conditional_input"
   ]
  },
  {
   "cell_type": "code",
   "execution_count": 447,
   "id": "dc2b61e6",
   "metadata": {},
   "outputs": [],
   "source": [
    "import torch\n",
    "from torch.nn import Linear, Parameter\n",
    "\n",
    "\n",
    "class Test():\n",
    "    def __init__(self):\n",
    "        super().__init__()\n",
    "\n",
    "    # compute px and py(for every frame - should be equal to 0)\n",
    "    # input = batches (jet, lepton, met)\n",
    "    def check_px_py(self, batches):\n",
    "        batch_jet = batches[0]\n",
    "        batch_lepton = batches[1]\n",
    "        batch_met = batches[2]\n",
    "\n",
    "        jets_px = np.cos(batch_jet[:,:,2])*batch_jet[:,:,0]\n",
    "        lept_px = np.cos(batch_lepton[:,:,2])*batch_lepton[:,:,0]\n",
    "        met_px = np.cos(batch_met[:,:,2])*batch_met[:,:,0]\n",
    "\n",
    "        jets_px_sum = torch.sum(jets_px, dim=1)\n",
    "        jets_px_sum = torch.unsqueeze(jets_px_sum, 1)\n",
    "\n",
    "        objects_px_per_event = torch.cat((jets_px_sum, lept_px, met_px), dim=1)\n",
    "        sum_px_per_event = torch.sum(objects_px_per_event, dim=1)\n",
    "        \n",
    "        jets_py = np.sin(batch_jet[:,:,2])*batch_jet[:,:,0]\n",
    "        lept_py = np.sin(batch_lepton[:,:,2])*batch_lepton[:,:,0]\n",
    "        met_py = np.sin(batch_met[:,:,2])*batch_met[:,:,0]\n",
    "\n",
    "        jets_py_sum = torch.sum(jets_py, dim=1)\n",
    "        jets_py_sum = torch.unsqueeze(jets_py_sum, 1)\n",
    "\n",
    "        objects_py_per_event = torch.cat((jets_py_sum, lept_py, met_py), dim=1)\n",
    "        sum_py_per_event = torch.sum(objects_py_per_event, dim=1)\n",
    "\n",
    "        return sum_px_per_event, sum_py_per_event\n",
    "    \n",
    "    # compute pz (for CM frame - should be equal to 0)\n",
    "    # input = batches (jet, lepton, met)\n",
    "    def check_pz(self, batches):\n",
    "        batch_jet = batches[0]\n",
    "        batch_lepton = batches[1]\n",
    "        batch_met = batches[2]\n",
    "\n",
    "        jets_pz = np.sinh(batch_jet[:,:,1])*batch_jet[:,:,0]\n",
    "        lept_pz = np.sinh(batch_lepton[:,:,1])*batch_lepton[:,:,0]\n",
    "        met_pz = np.sinh(batch_met[:,:,1])*batch_met[:,:,0]\n",
    "\n",
    "        jets_pz_sum = torch.sum(jets_pz, dim=1)\n",
    "        jets_pz_sum = torch.unsqueeze(jets_pz_sum, 1)\n",
    "\n",
    "        objects_pz_per_event = torch.cat((jets_pz_sum, lept_pz, met_pz), dim=1)\n",
    "        sum_pz_per_event = torch.sum(objects_pz_per_event, dim=1)\n",
    "\n",
    "        return sum_pz_per_event\n",
    "\n",
    "\n",
    "    "
   ]
  },
  {
   "cell_type": "code",
   "execution_count": 448,
   "id": "0a6b3ab5",
   "metadata": {},
   "outputs": [
    {
     "name": "stdout",
     "output_type": "stream",
     "text": [
      "jets file already exists\n",
      "lepton_reco file already exists\n",
      "met file already exists\n",
      "boost file already exists\n"
     ]
    }
   ],
   "source": [
    "data_for_dataloader = MyDataset(\".\")\n",
    "batch_size = parameters[\"batch_size\"]\n",
    "\n",
    "data_loaded = DataLoader(data_for_dataloader, batch_size=batch_size, shuffle=True, drop_last=True)\n",
    "\n",
    "mask_lepton, data_lepton, mask_jets, data_jets, mask_met, data_met, mask_boost, data_boost = next(iter(data_loaded))\n",
    "\n",
    "test = Test()\n",
    "\n",
    "px, py = test.check_px_py((data_jets, data_lepton, data_met))\n",
    "pz = test.check_pz((data_jets, data_lepton, data_met))"
   ]
  },
  {
   "cell_type": "code",
   "execution_count": 437,
   "id": "bfcfd6cc",
   "metadata": {},
   "outputs": [],
   "source": [
    "jet_conv = nn.Conv1d(in_channels=15, out_channels=15, kernel_size=7, stride=1)"
   ]
  },
  {
   "cell_type": "code",
   "execution_count": null,
   "id": "e9622a9c",
   "metadata": {},
   "outputs": [],
   "source": []
  }
 ],
 "metadata": {
  "kernelspec": {
   "display_name": "Python 3 (ipykernel)",
   "language": "python",
   "name": "python3"
  },
  "language_info": {
   "codemirror_mode": {
    "name": "ipython",
    "version": 3
   },
   "file_extension": ".py",
   "mimetype": "text/x-python",
   "name": "python",
   "nbconvert_exporter": "python",
   "pygments_lexer": "ipython3",
   "version": "3.9.14"
  },
  "vscode": {
   "interpreter": {
    "hash": "7a3f16aeffd7fcb6718a545329a7f0c14e16ce2928813b5a96107c77ce3c2574"
   }
  }
 },
 "nbformat": 4,
 "nbformat_minor": 5
}
